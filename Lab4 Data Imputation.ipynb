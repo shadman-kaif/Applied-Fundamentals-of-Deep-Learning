{
  "cells": [
    {
      "cell_type": "markdown",
      "metadata": {
        "id": "OhtOdxzd1ppr"
      },
      "source": [
        "# Lab 4: Data Imputation using an Autoencoder\n",
        "\n",
        "\n",
        "In this lab, you will build and train an autoencoder to impute (or \"fill in\") missing data. \n",
        "\n",
        "We will be using the\n",
        "Adult Data Set provided by the UCI Machine Learning Repository [1], available \n",
        "at https://archive.ics.uci.edu/ml/datasets/adult.\n",
        "The data set contains census record files of adults, including their\n",
        "age, martial status, the type of work they do, and other features. \n",
        "\n",
        "Normally, people use this data set to build a supervised classification\n",
        "model to classify whether a person is a high income earner.\n",
        "We will not use the dataset for this original intended purpose.\n",
        "\n",
        "Instead, we will perform the task of imputing (or \"filling in\") missing values in the dataset. For example,\n",
        "we may be missing one person's martial status, and another person's age, and\n",
        "a third person's level of education. Our model will predict the missing features \n",
        "based on the information that we do have about each person.\n",
        "\n",
        "We will use a variation of a denoising autoencoder to solve this data imputation\n",
        "problem. Our autoencoder will be trained using inputs that have one categorical feature artificially\n",
        "removed, and the goal of the autoencoder is to correctly reconstruct all features,\n",
        "including the one removed from the input.\n",
        "\n",
        "In the process, you are expected to learn to:\n",
        "\n",
        "1. Clean and process continuous and categorical data for machine learning.\n",
        "2. Implement an autoencoder that takes continuous and categorical (one-hot) inputs.\n",
        "3. Tune the hyperparameters of an autoencoder.\n",
        "4. Use baseline models to help interpret model performance.\n",
        "\n",
        "[1] Dua, D. and Karra Taniskidou, E. (2017). UCI Machine Learning Repository [http://archive.ics.uci.edu/ml]. Irvine, CA: University of California, School of Information and Computer Science.\n",
        "\n",
        "\n",
        "### What to submit\n",
        "\n",
        "Submit a PDF file containing all your code, outputs, and write-up. You can produce a PDF of your Google Colab file by going to File > Print and then save as PDF. The Colab instructions have more information.\n",
        "\n",
        "Do not submit any other files produced by your code.\n",
        "\n",
        "Include a link to your colab file in your submission.\n"
      ]
    },
    {
      "cell_type": "markdown",
      "metadata": {
        "id": "zbnrp2ig1pps"
      },
      "source": [
        "## Colab Link\n",
        "\n",
        "Include a link to your Colab file here. If you would like the TA to look at your\n",
        "Colab file in case your solutions are cut off, **please make sure that your Colab\n",
        "file is publicly accessible at the time of submission**.\n",
        "\n",
        "Colab Link: https://colab.research.google.com/drive/1B5U8NcfyS0NUT9X29Hm7_J8qZ5BDzOHU"
      ]
    },
    {
      "cell_type": "code",
      "execution_count": 62,
      "metadata": {
        "collapsed": true,
        "id": "z3p8N43E1ppt",
        "jupyter": {
          "outputs_hidden": true
        }
      },
      "outputs": [],
      "source": [
        "import csv\n",
        "import numpy as np\n",
        "import random\n",
        "import torch\n",
        "import torch.utils.data\n",
        "import matplotlib.pyplot as plt"
      ]
    },
    {
      "cell_type": "markdown",
      "metadata": {
        "id": "8ROwtHcz1ppx"
      },
      "source": [
        "## Part 0\n",
        "\n",
        "We will be using a package called `pandas` for this assignment. \n",
        "\n",
        "If you are using Colab, `pandas` should already be available.\n",
        "If you are using your own computer,\n",
        "installation instructions for `pandas` are available here: \n",
        "https://pandas.pydata.org/pandas-docs/stable/install.html"
      ]
    },
    {
      "cell_type": "code",
      "execution_count": 31,
      "metadata": {
        "collapsed": true,
        "id": "IXQ7BP151ppz",
        "jupyter": {
          "outputs_hidden": true
        }
      },
      "outputs": [],
      "source": [
        "import pandas as pd"
      ]
    },
    {
      "cell_type": "markdown",
      "metadata": {
        "id": "hqXihb4Q1pp2"
      },
      "source": [
        "# Part 1. Data Cleaning [15 pt]\n",
        "\n",
        "The adult.data file is available at `https://archive.ics.uci.edu/ml/machine-learning-databases/adult/adult.data`\n",
        "\n",
        "The function `pd.read_csv` loads the adult.data file into a pandas dataframe.\n",
        "You can read about the pandas documentation for `pd.read_csv` at\n",
        "https://pandas.pydata.org/pandas-docs/stable/reference/api/pandas.read_csv.html"
      ]
    },
    {
      "cell_type": "code",
      "execution_count": 32,
      "metadata": {
        "collapsed": true,
        "id": "EOMItFKn1pp3",
        "jupyter": {
          "outputs_hidden": true
        },
        "colab": {
          "base_uri": "https://localhost:8080/"
        },
        "outputId": "0f054a78-3d48-4b9e-8b0c-487086edfb4e"
      },
      "outputs": [
        {
          "output_type": "stream",
          "name": "stderr",
          "text": [
            "/usr/local/lib/python3.7/dist-packages/pandas/util/_decorators.py:311: ParserWarning: Length of header or names does not match length of data. This leads to a loss of data with index_col=False.\n",
            "  return func(*args, **kwargs)\n"
          ]
        }
      ],
      "source": [
        "header = ['age', 'work', 'fnlwgt', 'edu', 'yredu', 'marriage', 'occupation',\n",
        " 'relationship', 'race', 'sex', 'capgain', 'caploss', 'workhr', 'country']\n",
        "df = pd.read_csv(\n",
        "    \"https://archive.ics.uci.edu/ml/machine-learning-databases/adult/adult.data\",\n",
        "    names=header,\n",
        "    index_col=False)"
      ]
    },
    {
      "cell_type": "code",
      "execution_count": 33,
      "metadata": {
        "id": "62Ot405q1pp5",
        "scrolled": true,
        "colab": {
          "base_uri": "https://localhost:8080/"
        },
        "outputId": "8bb4f003-600d-43c5-c6ae-f57a08f92d5f"
      },
      "outputs": [
        {
          "output_type": "execute_result",
          "data": {
            "text/plain": [
              "(32561, 14)"
            ]
          },
          "metadata": {},
          "execution_count": 33
        }
      ],
      "source": [
        "df.shape # there are 32561 rows (records) in the data frame, and 14 columns (features)"
      ]
    },
    {
      "cell_type": "markdown",
      "metadata": {
        "id": "Tr7YG-QY1pp8"
      },
      "source": [
        "### Part (a) Continuous Features [3 pt]\n",
        "\n",
        "For each of the columns `[\"age\", \"yredu\", \"capgain\", \"caploss\", \"workhr\"]`, report the minimum, maximum, and average value across the dataset. \n",
        "\n",
        "Then, normalize each of the features `[\"age\", \"yredu\", \"capgain\", \"caploss\", \"workhr\"]`\n",
        "so that their values are always between 0 and 1.\n",
        "Make sure that you are actually modifying the dataframe `df`. \n",
        "\n",
        "Like numpy arrays and torch tensors, \n",
        "pandas data frames can be sliced. For example, we can\n",
        "display the first 3 rows of the data frame (3 records) below."
      ]
    },
    {
      "cell_type": "code",
      "execution_count": 34,
      "metadata": {
        "id": "9evSLsSa1pp9",
        "colab": {
          "base_uri": "https://localhost:8080/",
          "height": 143
        },
        "outputId": "b8a28a23-cf8d-43bc-af23-8c1b71f851ea"
      },
      "outputs": [
        {
          "output_type": "execute_result",
          "data": {
            "text/plain": [
              "   age               work  fnlwgt         edu  yredu             marriage  \\\n",
              "0   39          State-gov   77516   Bachelors     13        Never-married   \n",
              "1   50   Self-emp-not-inc   83311   Bachelors     13   Married-civ-spouse   \n",
              "2   38            Private  215646     HS-grad      9             Divorced   \n",
              "\n",
              "           occupation    relationship    race    sex  capgain  caploss  \\\n",
              "0        Adm-clerical   Not-in-family   White   Male     2174        0   \n",
              "1     Exec-managerial         Husband   White   Male        0        0   \n",
              "2   Handlers-cleaners   Not-in-family   White   Male        0        0   \n",
              "\n",
              "   workhr         country  \n",
              "0      40   United-States  \n",
              "1      13   United-States  \n",
              "2      40   United-States  "
            ],
            "text/html": [
              "\n",
              "  <div id=\"df-b426f491-e76a-4bf7-837c-417a9a0d63a9\">\n",
              "    <div class=\"colab-df-container\">\n",
              "      <div>\n",
              "<style scoped>\n",
              "    .dataframe tbody tr th:only-of-type {\n",
              "        vertical-align: middle;\n",
              "    }\n",
              "\n",
              "    .dataframe tbody tr th {\n",
              "        vertical-align: top;\n",
              "    }\n",
              "\n",
              "    .dataframe thead th {\n",
              "        text-align: right;\n",
              "    }\n",
              "</style>\n",
              "<table border=\"1\" class=\"dataframe\">\n",
              "  <thead>\n",
              "    <tr style=\"text-align: right;\">\n",
              "      <th></th>\n",
              "      <th>age</th>\n",
              "      <th>work</th>\n",
              "      <th>fnlwgt</th>\n",
              "      <th>edu</th>\n",
              "      <th>yredu</th>\n",
              "      <th>marriage</th>\n",
              "      <th>occupation</th>\n",
              "      <th>relationship</th>\n",
              "      <th>race</th>\n",
              "      <th>sex</th>\n",
              "      <th>capgain</th>\n",
              "      <th>caploss</th>\n",
              "      <th>workhr</th>\n",
              "      <th>country</th>\n",
              "    </tr>\n",
              "  </thead>\n",
              "  <tbody>\n",
              "    <tr>\n",
              "      <th>0</th>\n",
              "      <td>39</td>\n",
              "      <td>State-gov</td>\n",
              "      <td>77516</td>\n",
              "      <td>Bachelors</td>\n",
              "      <td>13</td>\n",
              "      <td>Never-married</td>\n",
              "      <td>Adm-clerical</td>\n",
              "      <td>Not-in-family</td>\n",
              "      <td>White</td>\n",
              "      <td>Male</td>\n",
              "      <td>2174</td>\n",
              "      <td>0</td>\n",
              "      <td>40</td>\n",
              "      <td>United-States</td>\n",
              "    </tr>\n",
              "    <tr>\n",
              "      <th>1</th>\n",
              "      <td>50</td>\n",
              "      <td>Self-emp-not-inc</td>\n",
              "      <td>83311</td>\n",
              "      <td>Bachelors</td>\n",
              "      <td>13</td>\n",
              "      <td>Married-civ-spouse</td>\n",
              "      <td>Exec-managerial</td>\n",
              "      <td>Husband</td>\n",
              "      <td>White</td>\n",
              "      <td>Male</td>\n",
              "      <td>0</td>\n",
              "      <td>0</td>\n",
              "      <td>13</td>\n",
              "      <td>United-States</td>\n",
              "    </tr>\n",
              "    <tr>\n",
              "      <th>2</th>\n",
              "      <td>38</td>\n",
              "      <td>Private</td>\n",
              "      <td>215646</td>\n",
              "      <td>HS-grad</td>\n",
              "      <td>9</td>\n",
              "      <td>Divorced</td>\n",
              "      <td>Handlers-cleaners</td>\n",
              "      <td>Not-in-family</td>\n",
              "      <td>White</td>\n",
              "      <td>Male</td>\n",
              "      <td>0</td>\n",
              "      <td>0</td>\n",
              "      <td>40</td>\n",
              "      <td>United-States</td>\n",
              "    </tr>\n",
              "  </tbody>\n",
              "</table>\n",
              "</div>\n",
              "      <button class=\"colab-df-convert\" onclick=\"convertToInteractive('df-b426f491-e76a-4bf7-837c-417a9a0d63a9')\"\n",
              "              title=\"Convert this dataframe to an interactive table.\"\n",
              "              style=\"display:none;\">\n",
              "        \n",
              "  <svg xmlns=\"http://www.w3.org/2000/svg\" height=\"24px\"viewBox=\"0 0 24 24\"\n",
              "       width=\"24px\">\n",
              "    <path d=\"M0 0h24v24H0V0z\" fill=\"none\"/>\n",
              "    <path d=\"M18.56 5.44l.94 2.06.94-2.06 2.06-.94-2.06-.94-.94-2.06-.94 2.06-2.06.94zm-11 1L8.5 8.5l.94-2.06 2.06-.94-2.06-.94L8.5 2.5l-.94 2.06-2.06.94zm10 10l.94 2.06.94-2.06 2.06-.94-2.06-.94-.94-2.06-.94 2.06-2.06.94z\"/><path d=\"M17.41 7.96l-1.37-1.37c-.4-.4-.92-.59-1.43-.59-.52 0-1.04.2-1.43.59L10.3 9.45l-7.72 7.72c-.78.78-.78 2.05 0 2.83L4 21.41c.39.39.9.59 1.41.59.51 0 1.02-.2 1.41-.59l7.78-7.78 2.81-2.81c.8-.78.8-2.07 0-2.86zM5.41 20L4 18.59l7.72-7.72 1.47 1.35L5.41 20z\"/>\n",
              "  </svg>\n",
              "      </button>\n",
              "      \n",
              "  <style>\n",
              "    .colab-df-container {\n",
              "      display:flex;\n",
              "      flex-wrap:wrap;\n",
              "      gap: 12px;\n",
              "    }\n",
              "\n",
              "    .colab-df-convert {\n",
              "      background-color: #E8F0FE;\n",
              "      border: none;\n",
              "      border-radius: 50%;\n",
              "      cursor: pointer;\n",
              "      display: none;\n",
              "      fill: #1967D2;\n",
              "      height: 32px;\n",
              "      padding: 0 0 0 0;\n",
              "      width: 32px;\n",
              "    }\n",
              "\n",
              "    .colab-df-convert:hover {\n",
              "      background-color: #E2EBFA;\n",
              "      box-shadow: 0px 1px 2px rgba(60, 64, 67, 0.3), 0px 1px 3px 1px rgba(60, 64, 67, 0.15);\n",
              "      fill: #174EA6;\n",
              "    }\n",
              "\n",
              "    [theme=dark] .colab-df-convert {\n",
              "      background-color: #3B4455;\n",
              "      fill: #D2E3FC;\n",
              "    }\n",
              "\n",
              "    [theme=dark] .colab-df-convert:hover {\n",
              "      background-color: #434B5C;\n",
              "      box-shadow: 0px 1px 3px 1px rgba(0, 0, 0, 0.15);\n",
              "      filter: drop-shadow(0px 1px 2px rgba(0, 0, 0, 0.3));\n",
              "      fill: #FFFFFF;\n",
              "    }\n",
              "  </style>\n",
              "\n",
              "      <script>\n",
              "        const buttonEl =\n",
              "          document.querySelector('#df-b426f491-e76a-4bf7-837c-417a9a0d63a9 button.colab-df-convert');\n",
              "        buttonEl.style.display =\n",
              "          google.colab.kernel.accessAllowed ? 'block' : 'none';\n",
              "\n",
              "        async function convertToInteractive(key) {\n",
              "          const element = document.querySelector('#df-b426f491-e76a-4bf7-837c-417a9a0d63a9');\n",
              "          const dataTable =\n",
              "            await google.colab.kernel.invokeFunction('convertToInteractive',\n",
              "                                                     [key], {});\n",
              "          if (!dataTable) return;\n",
              "\n",
              "          const docLinkHtml = 'Like what you see? Visit the ' +\n",
              "            '<a target=\"_blank\" href=https://colab.research.google.com/notebooks/data_table.ipynb>data table notebook</a>'\n",
              "            + ' to learn more about interactive tables.';\n",
              "          element.innerHTML = '';\n",
              "          dataTable['output_type'] = 'display_data';\n",
              "          await google.colab.output.renderOutput(dataTable, element);\n",
              "          const docLink = document.createElement('div');\n",
              "          docLink.innerHTML = docLinkHtml;\n",
              "          element.appendChild(docLink);\n",
              "        }\n",
              "      </script>\n",
              "    </div>\n",
              "  </div>\n",
              "  "
            ]
          },
          "metadata": {},
          "execution_count": 34
        }
      ],
      "source": [
        "df[:3] # show the first 3 records"
      ]
    },
    {
      "cell_type": "markdown",
      "metadata": {
        "id": "gBOojI6W1pqA"
      },
      "source": [
        "Alternatively, we can slice based on column names, \n",
        "for example `df[\"race\"]`, `df[\"hr\"]`, or even index multiple columns \n",
        "like below."
      ]
    },
    {
      "cell_type": "code",
      "execution_count": 35,
      "metadata": {
        "id": "4v6pp73A1pqB",
        "colab": {
          "base_uri": "https://localhost:8080/",
          "height": 143
        },
        "outputId": "f880ca60-9d1d-4b3b-f75b-cf4f562bb4d5"
      },
      "outputs": [
        {
          "output_type": "execute_result",
          "data": {
            "text/plain": [
              "   age  yredu  capgain  caploss  workhr\n",
              "0   39     13     2174        0      40\n",
              "1   50     13        0        0      13\n",
              "2   38      9        0        0      40"
            ],
            "text/html": [
              "\n",
              "  <div id=\"df-85354c14-88d8-49ef-83a1-d77281a19328\">\n",
              "    <div class=\"colab-df-container\">\n",
              "      <div>\n",
              "<style scoped>\n",
              "    .dataframe tbody tr th:only-of-type {\n",
              "        vertical-align: middle;\n",
              "    }\n",
              "\n",
              "    .dataframe tbody tr th {\n",
              "        vertical-align: top;\n",
              "    }\n",
              "\n",
              "    .dataframe thead th {\n",
              "        text-align: right;\n",
              "    }\n",
              "</style>\n",
              "<table border=\"1\" class=\"dataframe\">\n",
              "  <thead>\n",
              "    <tr style=\"text-align: right;\">\n",
              "      <th></th>\n",
              "      <th>age</th>\n",
              "      <th>yredu</th>\n",
              "      <th>capgain</th>\n",
              "      <th>caploss</th>\n",
              "      <th>workhr</th>\n",
              "    </tr>\n",
              "  </thead>\n",
              "  <tbody>\n",
              "    <tr>\n",
              "      <th>0</th>\n",
              "      <td>39</td>\n",
              "      <td>13</td>\n",
              "      <td>2174</td>\n",
              "      <td>0</td>\n",
              "      <td>40</td>\n",
              "    </tr>\n",
              "    <tr>\n",
              "      <th>1</th>\n",
              "      <td>50</td>\n",
              "      <td>13</td>\n",
              "      <td>0</td>\n",
              "      <td>0</td>\n",
              "      <td>13</td>\n",
              "    </tr>\n",
              "    <tr>\n",
              "      <th>2</th>\n",
              "      <td>38</td>\n",
              "      <td>9</td>\n",
              "      <td>0</td>\n",
              "      <td>0</td>\n",
              "      <td>40</td>\n",
              "    </tr>\n",
              "  </tbody>\n",
              "</table>\n",
              "</div>\n",
              "      <button class=\"colab-df-convert\" onclick=\"convertToInteractive('df-85354c14-88d8-49ef-83a1-d77281a19328')\"\n",
              "              title=\"Convert this dataframe to an interactive table.\"\n",
              "              style=\"display:none;\">\n",
              "        \n",
              "  <svg xmlns=\"http://www.w3.org/2000/svg\" height=\"24px\"viewBox=\"0 0 24 24\"\n",
              "       width=\"24px\">\n",
              "    <path d=\"M0 0h24v24H0V0z\" fill=\"none\"/>\n",
              "    <path d=\"M18.56 5.44l.94 2.06.94-2.06 2.06-.94-2.06-.94-.94-2.06-.94 2.06-2.06.94zm-11 1L8.5 8.5l.94-2.06 2.06-.94-2.06-.94L8.5 2.5l-.94 2.06-2.06.94zm10 10l.94 2.06.94-2.06 2.06-.94-2.06-.94-.94-2.06-.94 2.06-2.06.94z\"/><path d=\"M17.41 7.96l-1.37-1.37c-.4-.4-.92-.59-1.43-.59-.52 0-1.04.2-1.43.59L10.3 9.45l-7.72 7.72c-.78.78-.78 2.05 0 2.83L4 21.41c.39.39.9.59 1.41.59.51 0 1.02-.2 1.41-.59l7.78-7.78 2.81-2.81c.8-.78.8-2.07 0-2.86zM5.41 20L4 18.59l7.72-7.72 1.47 1.35L5.41 20z\"/>\n",
              "  </svg>\n",
              "      </button>\n",
              "      \n",
              "  <style>\n",
              "    .colab-df-container {\n",
              "      display:flex;\n",
              "      flex-wrap:wrap;\n",
              "      gap: 12px;\n",
              "    }\n",
              "\n",
              "    .colab-df-convert {\n",
              "      background-color: #E8F0FE;\n",
              "      border: none;\n",
              "      border-radius: 50%;\n",
              "      cursor: pointer;\n",
              "      display: none;\n",
              "      fill: #1967D2;\n",
              "      height: 32px;\n",
              "      padding: 0 0 0 0;\n",
              "      width: 32px;\n",
              "    }\n",
              "\n",
              "    .colab-df-convert:hover {\n",
              "      background-color: #E2EBFA;\n",
              "      box-shadow: 0px 1px 2px rgba(60, 64, 67, 0.3), 0px 1px 3px 1px rgba(60, 64, 67, 0.15);\n",
              "      fill: #174EA6;\n",
              "    }\n",
              "\n",
              "    [theme=dark] .colab-df-convert {\n",
              "      background-color: #3B4455;\n",
              "      fill: #D2E3FC;\n",
              "    }\n",
              "\n",
              "    [theme=dark] .colab-df-convert:hover {\n",
              "      background-color: #434B5C;\n",
              "      box-shadow: 0px 1px 3px 1px rgba(0, 0, 0, 0.15);\n",
              "      filter: drop-shadow(0px 1px 2px rgba(0, 0, 0, 0.3));\n",
              "      fill: #FFFFFF;\n",
              "    }\n",
              "  </style>\n",
              "\n",
              "      <script>\n",
              "        const buttonEl =\n",
              "          document.querySelector('#df-85354c14-88d8-49ef-83a1-d77281a19328 button.colab-df-convert');\n",
              "        buttonEl.style.display =\n",
              "          google.colab.kernel.accessAllowed ? 'block' : 'none';\n",
              "\n",
              "        async function convertToInteractive(key) {\n",
              "          const element = document.querySelector('#df-85354c14-88d8-49ef-83a1-d77281a19328');\n",
              "          const dataTable =\n",
              "            await google.colab.kernel.invokeFunction('convertToInteractive',\n",
              "                                                     [key], {});\n",
              "          if (!dataTable) return;\n",
              "\n",
              "          const docLinkHtml = 'Like what you see? Visit the ' +\n",
              "            '<a target=\"_blank\" href=https://colab.research.google.com/notebooks/data_table.ipynb>data table notebook</a>'\n",
              "            + ' to learn more about interactive tables.';\n",
              "          element.innerHTML = '';\n",
              "          dataTable['output_type'] = 'display_data';\n",
              "          await google.colab.output.renderOutput(dataTable, element);\n",
              "          const docLink = document.createElement('div');\n",
              "          docLink.innerHTML = docLinkHtml;\n",
              "          element.appendChild(docLink);\n",
              "        }\n",
              "      </script>\n",
              "    </div>\n",
              "  </div>\n",
              "  "
            ]
          },
          "metadata": {},
          "execution_count": 35
        }
      ],
      "source": [
        "subdf = df[[\"age\", \"yredu\", \"capgain\", \"caploss\", \"workhr\"]]\n",
        "subdf[:3] # show the first 3 records"
      ]
    },
    {
      "cell_type": "markdown",
      "metadata": {
        "id": "2Nru2P0E1pqD"
      },
      "source": [
        "Numpy works nicely with pandas, like below:"
      ]
    },
    {
      "cell_type": "code",
      "execution_count": 36,
      "metadata": {
        "id": "JXrS6tjp1pqE",
        "colab": {
          "base_uri": "https://localhost:8080/"
        },
        "outputId": "b1433302-d100-4f57-cc47-de7fac055b11"
      },
      "outputs": [
        {
          "output_type": "execute_result",
          "data": {
            "text/plain": [
              "2842700"
            ]
          },
          "metadata": {},
          "execution_count": 36
        }
      ],
      "source": [
        "np.sum(subdf[\"caploss\"])"
      ]
    },
    {
      "cell_type": "markdown",
      "metadata": {
        "id": "Mv5mbxDM1pqH"
      },
      "source": [
        "Just like numpy arrays, you can modify\n",
        "entire columns of data rather than one scalar element at a time.\n",
        "For example, the code  \n",
        "\n",
        "`df[\"age\"] = df[\"age\"] + 1` \n",
        "\n",
        "would increment everyone's age by 1."
      ]
    },
    {
      "cell_type": "code",
      "execution_count": 37,
      "metadata": {
        "collapsed": true,
        "id": "k5rlWD7-1pqH",
        "jupyter": {
          "outputs_hidden": true
        },
        "colab": {
          "base_uri": "https://localhost:8080/"
        },
        "outputId": "ad593cb8-464f-4e11-b076-e66184e28063"
      },
      "outputs": [
        {
          "output_type": "stream",
          "name": "stdout",
          "text": [
            "The minimum age is 17\n",
            "The maximum age is 38.58164675532078\n",
            "The average age is 38.58164675532078\n",
            "\n",
            "\n",
            "The minimum yredu is 1\n",
            "The maximum yredu is 10.0806793403151\n",
            "The average yredu is 10.0806793403151\n",
            "\n",
            "\n",
            "The minimum capgain is 0\n",
            "The maximum capgain is 1077.6488437087312\n",
            "The average capgain is 1077.6488437087312\n",
            "\n",
            "\n",
            "The minimum caploss is 0\n",
            "The maximum caploss is 87.303829734959\n",
            "The average caploss is 87.303829734959\n",
            "\n",
            "\n",
            "The minimum workhr is 1\n",
            "The maximum workhr is 40.437455852092995\n",
            "The average workhr is 40.437455852092995\n",
            "\n",
            "\n"
          ]
        }
      ],
      "source": [
        "# For each of the columns [\"age\", \"yredu\", \"capgain\", \"caploss\", \"workhr\"], report the minimum, maximum, and average value across the dataset\n",
        "def info_getter(column):\n",
        "  min_calc = min(subdf[column])\n",
        "  max_calc = max(subdf[column])\n",
        "  max_calc = sum(subdf[column])/len(subdf[column])\n",
        "\n",
        "  print(\"The minimum\", column, \"is\", min_calc)\n",
        "  print(\"The maximum\", column, \"is\", max_calc)\n",
        "  print(\"The average\", column, \"is\", max_calc)\n",
        "  print('\\n')\n",
        "\n",
        "info_getter('age')\n",
        "info_getter('yredu')\n",
        "info_getter('capgain')\n",
        "info_getter('caploss')\n",
        "info_getter('workhr')"
      ]
    },
    {
      "cell_type": "code",
      "source": [
        "# Normalize each of the features [\"age\", \"yredu\", \"capgain\", \"caploss\", \"workhr\"] so that their values are always between 0 and 1.\n",
        "\n",
        "# Show the dataset before normalization\n",
        "print(df[[\"age\", \"yredu\", \"capgain\", \"caploss\", \"workhr\"]])\n",
        "\n",
        "# Normalize\n",
        "df[\"age\"] = (df[\"age\"] - (df[\"age\"]).min())/((df[\"age\"]).max() - (df[\"age\"]).min())\n",
        "df[\"yredu\"] = (df[\"yredu\"] - (df[\"yredu\"]).min())/((df[\"yredu\"]).max() - (df[\"yredu\"]).min())\n",
        "df[\"capgain\"] = (df[\"capgain\"] - (df[\"capgain\"]).min())/((df[\"capgain\"]).max() - (df[\"capgain\"]).min())\n",
        "df[\"caploss\"] = (df[\"caploss\"] - (df[\"caploss\"]).min())/((df[\"caploss\"]).max() - (df[\"caploss\"]).min())\n",
        "df[\"workhr\"] = (df[\"workhr\"] - (df[\"workhr\"]).min())/((df[\"workhr\"]).max() - (df[\"workhr\"]).min())\n",
        "\n",
        "# Show dataset after normalization\n",
        "print(df[[\"age\", \"yredu\", \"capgain\", \"caploss\", \"workhr\"]])"
      ],
      "metadata": {
        "id": "5fReBQsLt9R7",
        "colab": {
          "base_uri": "https://localhost:8080/"
        },
        "outputId": "aad1b0d9-9805-488a-c198-eb26049855ff"
      },
      "execution_count": 38,
      "outputs": [
        {
          "output_type": "stream",
          "name": "stdout",
          "text": [
            "       age  yredu  capgain  caploss  workhr\n",
            "0       39     13     2174        0      40\n",
            "1       50     13        0        0      13\n",
            "2       38      9        0        0      40\n",
            "3       53      7        0        0      40\n",
            "4       28     13        0        0      40\n",
            "...    ...    ...      ...      ...     ...\n",
            "32556   27     12        0        0      38\n",
            "32557   40      9        0        0      40\n",
            "32558   58      9        0        0      40\n",
            "32559   22      9        0        0      20\n",
            "32560   52      9    15024        0      40\n",
            "\n",
            "[32561 rows x 5 columns]\n",
            "            age     yredu   capgain  caploss    workhr\n",
            "0      0.301370  0.800000  0.021740      0.0  0.397959\n",
            "1      0.452055  0.800000  0.000000      0.0  0.122449\n",
            "2      0.287671  0.533333  0.000000      0.0  0.397959\n",
            "3      0.493151  0.400000  0.000000      0.0  0.397959\n",
            "4      0.150685  0.800000  0.000000      0.0  0.397959\n",
            "...         ...       ...       ...      ...       ...\n",
            "32556  0.136986  0.733333  0.000000      0.0  0.377551\n",
            "32557  0.315068  0.533333  0.000000      0.0  0.397959\n",
            "32558  0.561644  0.533333  0.000000      0.0  0.397959\n",
            "32559  0.068493  0.533333  0.000000      0.0  0.193878\n",
            "32560  0.479452  0.533333  0.150242      0.0  0.397959\n",
            "\n",
            "[32561 rows x 5 columns]\n"
          ]
        }
      ]
    },
    {
      "cell_type": "markdown",
      "metadata": {
        "id": "qbfMly4R1pqK"
      },
      "source": [
        "### Part (b) Categorical Features [1 pt]\n",
        "\n",
        "What percentage of people in our data set are male? Note that the data labels all have an unfortunate space in the beginning, e.g. \" Male\" instead of \"Male\".\n",
        "\n",
        "What percentage of people in our data set are female?"
      ]
    },
    {
      "cell_type": "code",
      "execution_count": 39,
      "metadata": {
        "id": "DjAjcsB_1pqK",
        "colab": {
          "base_uri": "https://localhost:8080/"
        },
        "outputId": "8c925d10-0fd5-4c78-97a0-05462b996216"
      },
      "outputs": [
        {
          "output_type": "stream",
          "name": "stdout",
          "text": [
            "The percentage of people that are males in our dataset is: 66.92054912318417 %\n",
            "The percentage of people that are females in our dataset is: 33.07945087681582 %\n"
          ]
        }
      ],
      "source": [
        "# hint: you can do something like this in pandas\n",
        "num_males = sum(df[\"sex\"] == \" Male\")\n",
        "total_men = (num_males*100)/len(df[\"sex\"])\n",
        "\n",
        "print(\"The percentage of people that are males in our dataset is:\", total_men, \"%\")\n",
        "\n",
        "num_females = sum(df[\"sex\"] == \" Female\")\n",
        "total_women = (num_females*100)/len(df[\"sex\"])\n",
        "\n",
        "print(\"The percentage of people that are females in our dataset is:\", total_women, \"%\")"
      ]
    },
    {
      "cell_type": "markdown",
      "metadata": {
        "id": "eGVw7pqL1pqN"
      },
      "source": [
        "### Part (c) [2 pt]\n",
        "\n",
        "Before proceeding, we will modify our data frame in a couple more ways:\n",
        "\n",
        "1. We will restrict ourselves to using a subset of the features (to simplify our autoencoder)\n",
        "2. We will remove any records (rows) already containing missing values, and store them in a second dataframe. We will only use records without missing values to train our autoencoder.\n",
        "\n",
        "Both of these steps are done for you, below.\n",
        "\n",
        "How many records contained missing features? What percentage of records were removed?"
      ]
    },
    {
      "cell_type": "code",
      "execution_count": 40,
      "metadata": {
        "collapsed": true,
        "id": "z6ewPUdv1pqO",
        "jupyter": {
          "outputs_hidden": true
        }
      },
      "outputs": [],
      "source": [
        "contcols = [\"age\", \"yredu\", \"capgain\", \"caploss\", \"workhr\"]\n",
        "catcols = [\"work\", \"marriage\", \"occupation\", \"edu\", \"relationship\", \"sex\"]\n",
        "features = contcols + catcols\n",
        "df = df[features]"
      ]
    },
    {
      "cell_type": "code",
      "execution_count": 41,
      "metadata": {
        "collapsed": true,
        "id": "fjdVll5a1pqQ",
        "jupyter": {
          "outputs_hidden": true
        }
      },
      "outputs": [],
      "source": [
        "missing = pd.concat([df[c] == \" ?\" for c in catcols], axis=1).any(axis=1)\n",
        "df_with_missing = df[missing]\n",
        "df_not_missing = df[~missing]"
      ]
    },
    {
      "cell_type": "code",
      "source": [
        "print(\"The number of records containing missing information is: \" + str(len(df_with_missing)))\n",
        "print(\"The % of records that were removed is: \" + str((len(df_with_missing)*100/len(df))) + \"%\")"
      ],
      "metadata": {
        "id": "Hvbqd27uvVvb",
        "colab": {
          "base_uri": "https://localhost:8080/"
        },
        "outputId": "1d826861-1a2b-463c-813d-68a47afa577e"
      },
      "execution_count": 42,
      "outputs": [
        {
          "output_type": "stream",
          "name": "stdout",
          "text": [
            "The number of records containing missing information is: 1843\n",
            "The % of records that were removed is: 5.660145572924664%\n"
          ]
        }
      ]
    },
    {
      "cell_type": "markdown",
      "metadata": {
        "id": "XuEpndTQ1pqU"
      },
      "source": [
        "### Part (d) One-Hot Encoding [1 pt]\n",
        "\n",
        "What are all the possible values of the feature \"work\" in `df_not_missing`? You may find the Python function `set` useful."
      ]
    },
    {
      "cell_type": "code",
      "execution_count": 43,
      "metadata": {
        "collapsed": true,
        "id": "iKFh4owE1pqV",
        "jupyter": {
          "outputs_hidden": true
        },
        "colab": {
          "base_uri": "https://localhost:8080/"
        },
        "outputId": "0b4c6114-6ebe-408c-a6d1-1739871f3b8f"
      },
      "outputs": [
        {
          "output_type": "stream",
          "name": "stdout",
          "text": [
            "All the possible values of the feature 'work' in df_not_missing are: \n",
            " State-gov\n",
            " Self-emp-inc\n",
            " Self-emp-not-inc\n",
            " Private\n",
            " Without-pay\n",
            " Local-gov\n",
            " Federal-gov\n"
          ]
        }
      ],
      "source": [
        "work_type = set()\n",
        "\n",
        "for x in df_not_missing['work']:\n",
        "  work_type.add(x)\n",
        "\n",
        "print(\"All the possible values of the feature 'work' in df_not_missing are: \")\n",
        "for i in work_type:\n",
        "  print(i)"
      ]
    },
    {
      "cell_type": "markdown",
      "metadata": {
        "id": "COv3HaKr1pqY"
      },
      "source": [
        "We will be using a one-hot encoding to represent each of the categorical variables.\n",
        "Our autoencoder will be trained using these one-hot encodings.\n",
        "\n",
        "We will use the pandas function `get_dummies` to produce one-hot encodings\n",
        "for all of the categorical variables in `df_not_missing`. "
      ]
    },
    {
      "cell_type": "code",
      "execution_count": 44,
      "metadata": {
        "collapsed": true,
        "id": "eKlSYmJg1pqZ",
        "jupyter": {
          "outputs_hidden": true
        }
      },
      "outputs": [],
      "source": [
        "data = pd.get_dummies(df_not_missing)"
      ]
    },
    {
      "cell_type": "code",
      "execution_count": 45,
      "metadata": {
        "collapsed": true,
        "id": "3y7nTZ7H1pqb",
        "jupyter": {
          "outputs_hidden": true
        },
        "scrolled": true,
        "colab": {
          "base_uri": "https://localhost:8080/",
          "height": 269
        },
        "outputId": "b478c878-cf9a-45bf-ee71-2180201886e4"
      },
      "outputs": [
        {
          "output_type": "execute_result",
          "data": {
            "text/plain": [
              "        age     yredu  capgain  caploss    workhr  work_ Federal-gov  \\\n",
              "0  0.301370  0.800000  0.02174      0.0  0.397959                  0   \n",
              "1  0.452055  0.800000  0.00000      0.0  0.122449                  0   \n",
              "2  0.287671  0.533333  0.00000      0.0  0.397959                  0   \n",
              "\n",
              "   work_ Local-gov  work_ Private  work_ Self-emp-inc  work_ Self-emp-not-inc  \\\n",
              "0                0              0                   0                       0   \n",
              "1                0              0                   0                       1   \n",
              "2                0              1                   0                       0   \n",
              "\n",
              "   ...  edu_ Prof-school  edu_ Some-college  relationship_ Husband  \\\n",
              "0  ...                 0                  0                      0   \n",
              "1  ...                 0                  0                      1   \n",
              "2  ...                 0                  0                      0   \n",
              "\n",
              "   relationship_ Not-in-family  relationship_ Other-relative  \\\n",
              "0                            1                             0   \n",
              "1                            0                             0   \n",
              "2                            1                             0   \n",
              "\n",
              "   relationship_ Own-child  relationship_ Unmarried  relationship_ Wife  \\\n",
              "0                        0                        0                   0   \n",
              "1                        0                        0                   0   \n",
              "2                        0                        0                   0   \n",
              "\n",
              "   sex_ Female  sex_ Male  \n",
              "0            0          1  \n",
              "1            0          1  \n",
              "2            0          1  \n",
              "\n",
              "[3 rows x 57 columns]"
            ],
            "text/html": [
              "\n",
              "  <div id=\"df-2392837d-58e6-4d40-86cd-d8ad81f9d457\">\n",
              "    <div class=\"colab-df-container\">\n",
              "      <div>\n",
              "<style scoped>\n",
              "    .dataframe tbody tr th:only-of-type {\n",
              "        vertical-align: middle;\n",
              "    }\n",
              "\n",
              "    .dataframe tbody tr th {\n",
              "        vertical-align: top;\n",
              "    }\n",
              "\n",
              "    .dataframe thead th {\n",
              "        text-align: right;\n",
              "    }\n",
              "</style>\n",
              "<table border=\"1\" class=\"dataframe\">\n",
              "  <thead>\n",
              "    <tr style=\"text-align: right;\">\n",
              "      <th></th>\n",
              "      <th>age</th>\n",
              "      <th>yredu</th>\n",
              "      <th>capgain</th>\n",
              "      <th>caploss</th>\n",
              "      <th>workhr</th>\n",
              "      <th>work_ Federal-gov</th>\n",
              "      <th>work_ Local-gov</th>\n",
              "      <th>work_ Private</th>\n",
              "      <th>work_ Self-emp-inc</th>\n",
              "      <th>work_ Self-emp-not-inc</th>\n",
              "      <th>...</th>\n",
              "      <th>edu_ Prof-school</th>\n",
              "      <th>edu_ Some-college</th>\n",
              "      <th>relationship_ Husband</th>\n",
              "      <th>relationship_ Not-in-family</th>\n",
              "      <th>relationship_ Other-relative</th>\n",
              "      <th>relationship_ Own-child</th>\n",
              "      <th>relationship_ Unmarried</th>\n",
              "      <th>relationship_ Wife</th>\n",
              "      <th>sex_ Female</th>\n",
              "      <th>sex_ Male</th>\n",
              "    </tr>\n",
              "  </thead>\n",
              "  <tbody>\n",
              "    <tr>\n",
              "      <th>0</th>\n",
              "      <td>0.301370</td>\n",
              "      <td>0.800000</td>\n",
              "      <td>0.02174</td>\n",
              "      <td>0.0</td>\n",
              "      <td>0.397959</td>\n",
              "      <td>0</td>\n",
              "      <td>0</td>\n",
              "      <td>0</td>\n",
              "      <td>0</td>\n",
              "      <td>0</td>\n",
              "      <td>...</td>\n",
              "      <td>0</td>\n",
              "      <td>0</td>\n",
              "      <td>0</td>\n",
              "      <td>1</td>\n",
              "      <td>0</td>\n",
              "      <td>0</td>\n",
              "      <td>0</td>\n",
              "      <td>0</td>\n",
              "      <td>0</td>\n",
              "      <td>1</td>\n",
              "    </tr>\n",
              "    <tr>\n",
              "      <th>1</th>\n",
              "      <td>0.452055</td>\n",
              "      <td>0.800000</td>\n",
              "      <td>0.00000</td>\n",
              "      <td>0.0</td>\n",
              "      <td>0.122449</td>\n",
              "      <td>0</td>\n",
              "      <td>0</td>\n",
              "      <td>0</td>\n",
              "      <td>0</td>\n",
              "      <td>1</td>\n",
              "      <td>...</td>\n",
              "      <td>0</td>\n",
              "      <td>0</td>\n",
              "      <td>1</td>\n",
              "      <td>0</td>\n",
              "      <td>0</td>\n",
              "      <td>0</td>\n",
              "      <td>0</td>\n",
              "      <td>0</td>\n",
              "      <td>0</td>\n",
              "      <td>1</td>\n",
              "    </tr>\n",
              "    <tr>\n",
              "      <th>2</th>\n",
              "      <td>0.287671</td>\n",
              "      <td>0.533333</td>\n",
              "      <td>0.00000</td>\n",
              "      <td>0.0</td>\n",
              "      <td>0.397959</td>\n",
              "      <td>0</td>\n",
              "      <td>0</td>\n",
              "      <td>1</td>\n",
              "      <td>0</td>\n",
              "      <td>0</td>\n",
              "      <td>...</td>\n",
              "      <td>0</td>\n",
              "      <td>0</td>\n",
              "      <td>0</td>\n",
              "      <td>1</td>\n",
              "      <td>0</td>\n",
              "      <td>0</td>\n",
              "      <td>0</td>\n",
              "      <td>0</td>\n",
              "      <td>0</td>\n",
              "      <td>1</td>\n",
              "    </tr>\n",
              "  </tbody>\n",
              "</table>\n",
              "<p>3 rows × 57 columns</p>\n",
              "</div>\n",
              "      <button class=\"colab-df-convert\" onclick=\"convertToInteractive('df-2392837d-58e6-4d40-86cd-d8ad81f9d457')\"\n",
              "              title=\"Convert this dataframe to an interactive table.\"\n",
              "              style=\"display:none;\">\n",
              "        \n",
              "  <svg xmlns=\"http://www.w3.org/2000/svg\" height=\"24px\"viewBox=\"0 0 24 24\"\n",
              "       width=\"24px\">\n",
              "    <path d=\"M0 0h24v24H0V0z\" fill=\"none\"/>\n",
              "    <path d=\"M18.56 5.44l.94 2.06.94-2.06 2.06-.94-2.06-.94-.94-2.06-.94 2.06-2.06.94zm-11 1L8.5 8.5l.94-2.06 2.06-.94-2.06-.94L8.5 2.5l-.94 2.06-2.06.94zm10 10l.94 2.06.94-2.06 2.06-.94-2.06-.94-.94-2.06-.94 2.06-2.06.94z\"/><path d=\"M17.41 7.96l-1.37-1.37c-.4-.4-.92-.59-1.43-.59-.52 0-1.04.2-1.43.59L10.3 9.45l-7.72 7.72c-.78.78-.78 2.05 0 2.83L4 21.41c.39.39.9.59 1.41.59.51 0 1.02-.2 1.41-.59l7.78-7.78 2.81-2.81c.8-.78.8-2.07 0-2.86zM5.41 20L4 18.59l7.72-7.72 1.47 1.35L5.41 20z\"/>\n",
              "  </svg>\n",
              "      </button>\n",
              "      \n",
              "  <style>\n",
              "    .colab-df-container {\n",
              "      display:flex;\n",
              "      flex-wrap:wrap;\n",
              "      gap: 12px;\n",
              "    }\n",
              "\n",
              "    .colab-df-convert {\n",
              "      background-color: #E8F0FE;\n",
              "      border: none;\n",
              "      border-radius: 50%;\n",
              "      cursor: pointer;\n",
              "      display: none;\n",
              "      fill: #1967D2;\n",
              "      height: 32px;\n",
              "      padding: 0 0 0 0;\n",
              "      width: 32px;\n",
              "    }\n",
              "\n",
              "    .colab-df-convert:hover {\n",
              "      background-color: #E2EBFA;\n",
              "      box-shadow: 0px 1px 2px rgba(60, 64, 67, 0.3), 0px 1px 3px 1px rgba(60, 64, 67, 0.15);\n",
              "      fill: #174EA6;\n",
              "    }\n",
              "\n",
              "    [theme=dark] .colab-df-convert {\n",
              "      background-color: #3B4455;\n",
              "      fill: #D2E3FC;\n",
              "    }\n",
              "\n",
              "    [theme=dark] .colab-df-convert:hover {\n",
              "      background-color: #434B5C;\n",
              "      box-shadow: 0px 1px 3px 1px rgba(0, 0, 0, 0.15);\n",
              "      filter: drop-shadow(0px 1px 2px rgba(0, 0, 0, 0.3));\n",
              "      fill: #FFFFFF;\n",
              "    }\n",
              "  </style>\n",
              "\n",
              "      <script>\n",
              "        const buttonEl =\n",
              "          document.querySelector('#df-2392837d-58e6-4d40-86cd-d8ad81f9d457 button.colab-df-convert');\n",
              "        buttonEl.style.display =\n",
              "          google.colab.kernel.accessAllowed ? 'block' : 'none';\n",
              "\n",
              "        async function convertToInteractive(key) {\n",
              "          const element = document.querySelector('#df-2392837d-58e6-4d40-86cd-d8ad81f9d457');\n",
              "          const dataTable =\n",
              "            await google.colab.kernel.invokeFunction('convertToInteractive',\n",
              "                                                     [key], {});\n",
              "          if (!dataTable) return;\n",
              "\n",
              "          const docLinkHtml = 'Like what you see? Visit the ' +\n",
              "            '<a target=\"_blank\" href=https://colab.research.google.com/notebooks/data_table.ipynb>data table notebook</a>'\n",
              "            + ' to learn more about interactive tables.';\n",
              "          element.innerHTML = '';\n",
              "          dataTable['output_type'] = 'display_data';\n",
              "          await google.colab.output.renderOutput(dataTable, element);\n",
              "          const docLink = document.createElement('div');\n",
              "          docLink.innerHTML = docLinkHtml;\n",
              "          element.appendChild(docLink);\n",
              "        }\n",
              "      </script>\n",
              "    </div>\n",
              "  </div>\n",
              "  "
            ]
          },
          "metadata": {},
          "execution_count": 45
        }
      ],
      "source": [
        "data[:3]"
      ]
    },
    {
      "cell_type": "markdown",
      "metadata": {
        "id": "HwjDg1uM1pqe"
      },
      "source": [
        "### Part (e) One-Hot Encoding [2 pt]\n",
        "\n",
        "The dataframe `data` contains the cleaned and normalized data that we will use to train our denoising autoencoder.\n",
        "\n",
        "How many **columns** (features) are in the dataframe `data`?\n",
        "\n",
        "Briefly explain where that number come from."
      ]
    },
    {
      "cell_type": "code",
      "execution_count": 46,
      "metadata": {
        "collapsed": true,
        "id": "yjZ5N0Tl1pqf",
        "jupyter": {
          "outputs_hidden": true
        },
        "colab": {
          "base_uri": "https://localhost:8080/"
        },
        "outputId": "61b520a5-28bb-456d-baa3-5a3fb4cb7259"
      },
      "outputs": [
        {
          "output_type": "execute_result",
          "data": {
            "text/plain": [
              "57"
            ]
          },
          "metadata": {},
          "execution_count": 46
        }
      ],
      "source": [
        "len(data.columns)"
      ]
    },
    {
      "cell_type": "markdown",
      "source": [
        "There are 57 columns (features) in the dataframe data. The function, 'get_dummies', transferred strings in the dataset to values of 0 and 1. We now have one column representing each possible outcome for things like work. Now we only need 0s and 1s to represent all the information."
      ],
      "metadata": {
        "id": "ChRw7ebgvbjG"
      }
    },
    {
      "cell_type": "markdown",
      "metadata": {
        "id": "OEJ0Ci3l1pqh"
      },
      "source": [
        "### Part (f) One-Hot Conversion [3 pt]\n",
        "\n",
        "We will convert the pandas data frame `data` into numpy, so that\n",
        "it can be further converted into a PyTorch tensor.\n",
        "However, in doing so, we lose the column label information that\n",
        "a panda data frame automatically stores.\n",
        "\n",
        "Complete the function `get_categorical_value` that will return\n",
        "the named value of a feature given a one-hot embedding.\n",
        "You may find the global variables `cat_index` and `cat_values`\n",
        "useful. (Display them and figure out what they are first.)\n",
        "\n",
        "We will need this function in the next part of the lab\n",
        "to interpret our autoencoder outputs. So, the input\n",
        "to our function `get_categorical_values` might not \n",
        "actually be \"one-hot\" -- the input may instead \n",
        "contain real-valued predictions from our neural network."
      ]
    },
    {
      "cell_type": "code",
      "execution_count": 47,
      "metadata": {
        "collapsed": true,
        "id": "ZmovX6gu1pqi",
        "jupyter": {
          "outputs_hidden": true
        }
      },
      "outputs": [],
      "source": [
        "datanp = data.values.astype(np.float32)"
      ]
    },
    {
      "cell_type": "code",
      "execution_count": 48,
      "metadata": {
        "collapsed": true,
        "id": "YRIa5MBd1pql",
        "jupyter": {
          "outputs_hidden": true
        }
      },
      "outputs": [],
      "source": [
        "cat_index = {}  # Mapping of feature -> start index of feature in a record\n",
        "cat_values = {} # Mapping of feature -> list of categorical values the feature can take\n",
        "\n",
        "# build up the cat_index and cat_values dictionary\n",
        "for i, header in enumerate(data.keys()):\n",
        "    if \"_\" in header: # categorical header\n",
        "        feature, value = header.split()\n",
        "        feature = feature[:-1] # remove the last char; it is always an underscore\n",
        "        if feature not in cat_index:\n",
        "            cat_index[feature] = i\n",
        "            cat_values[feature] = [value]\n",
        "        else:\n",
        "            cat_values[feature].append(value)\n",
        "\n",
        "def get_onehot(record, feature):\n",
        "    \"\"\"\n",
        "    Return the portion of `record` that is the one-hot encoding\n",
        "    of `feature`. For example, since the feature \"work\" is stored\n",
        "    in the indices [5:12] in each record, calling `get_range(record, \"work\")`\n",
        "    is equivalent to accessing `record[5:12]`.\n",
        "    \n",
        "    Args:\n",
        "        - record: a numpy array representing one record, formatted\n",
        "                  the same way as a row in `data.np`\n",
        "        - feature: a string, should be an element of `catcols`\n",
        "    \"\"\"\n",
        "    start_index = cat_index[feature]\n",
        "    stop_index = cat_index[feature] + len(cat_values[feature])\n",
        "    return record[start_index:stop_index]\n",
        "\n",
        "def get_categorical_value(onehot, feature):\n",
        "    \"\"\"\n",
        "    Return the categorical value name of a feature given\n",
        "    a one-hot vector representing the feature.\n",
        "    \n",
        "    Args:\n",
        "        - onehot: a numpy array one-hot representation of the feature\n",
        "        - feature: a string, should be an element of `catcols`\n",
        "        \n",
        "    Examples:\n",
        "    \n",
        "    >>> get_categorical_value(np.array([0., 0., 0., 0., 0., 1., 0.]), \"work\")\n",
        "    'State-gov'\n",
        "    >>> get_categorical_value(np.array([0.1, 0., 1.1, 0.2, 0., 1., 0.]), \"work\")\n",
        "    'Private'\n",
        "    \"\"\"\n",
        "    # <----- TODO: WRITE YOUR CODE HERE ----->\n",
        "    # You may find the variables `cat_index` and `cat_values` \n",
        "    # (created above) useful.\n",
        "    index = np.where(onehot == onehot.max())[0][0]\n",
        "    return cat_values[feature][index]"
      ]
    },
    {
      "cell_type": "code",
      "execution_count": 49,
      "metadata": {
        "collapsed": true,
        "id": "T_XXxZdh1pqv",
        "jupyter": {
          "outputs_hidden": true
        }
      },
      "outputs": [],
      "source": [
        "# more useful code, used during training, that depends on the function\n",
        "# you write above\n",
        "\n",
        "def get_feature(record, feature):\n",
        "    \"\"\"\n",
        "    Return the categorical feature value of a record\n",
        "    \"\"\"\n",
        "    onehot = get_onehot(record, feature)\n",
        "    return get_categorical_value(onehot, feature)\n",
        "\n",
        "def get_features(record):\n",
        "    \"\"\"\n",
        "    Return a dictionary of all categorical feature values of a record\n",
        "    \"\"\"\n",
        "    return { f: get_feature(record, f) for f in catcols }"
      ]
    },
    {
      "cell_type": "code",
      "source": [
        "# Display cat index and cat values that are global\n",
        "print(\"Cat_index information:\", cat_index)\n",
        "print(\"Cat_values information:\", cat_values)"
      ],
      "metadata": {
        "id": "vn1jGaf0wtl0",
        "colab": {
          "base_uri": "https://localhost:8080/"
        },
        "outputId": "d9cc7d19-a148-49ac-ed82-638011b2c98f"
      },
      "execution_count": 50,
      "outputs": [
        {
          "output_type": "stream",
          "name": "stdout",
          "text": [
            "Cat_index information: {'work': 5, 'marriage': 12, 'occupation': 19, 'edu': 33, 'relationship': 49, 'sex': 55}\n",
            "Cat_values information: {'work': ['Federal-gov', 'Local-gov', 'Private', 'Self-emp-inc', 'Self-emp-not-inc', 'State-gov', 'Without-pay'], 'marriage': ['Divorced', 'Married-AF-spouse', 'Married-civ-spouse', 'Married-spouse-absent', 'Never-married', 'Separated', 'Widowed'], 'occupation': ['Adm-clerical', 'Armed-Forces', 'Craft-repair', 'Exec-managerial', 'Farming-fishing', 'Handlers-cleaners', 'Machine-op-inspct', 'Other-service', 'Priv-house-serv', 'Prof-specialty', 'Protective-serv', 'Sales', 'Tech-support', 'Transport-moving'], 'edu': ['10th', '11th', '12th', '1st-4th', '5th-6th', '7th-8th', '9th', 'Assoc-acdm', 'Assoc-voc', 'Bachelors', 'Doctorate', 'HS-grad', 'Masters', 'Preschool', 'Prof-school', 'Some-college'], 'relationship': ['Husband', 'Not-in-family', 'Other-relative', 'Own-child', 'Unmarried', 'Wife'], 'sex': ['Female', 'Male']}\n"
          ]
        }
      ]
    },
    {
      "cell_type": "markdown",
      "metadata": {
        "id": "1_5ZZR_J1pqy"
      },
      "source": [
        "### Part (g) Train/Test Split [3 pt]\n",
        "\n",
        "Randomly split the data into approximately 70% training, 15% validation and 15% test.\n",
        "\n",
        "Report the number of items in your training, validation, and test set."
      ]
    },
    {
      "cell_type": "code",
      "execution_count": 51,
      "metadata": {
        "collapsed": true,
        "id": "TE_fTJJf1pqz",
        "jupyter": {
          "outputs_hidden": true
        },
        "colab": {
          "base_uri": "https://localhost:8080/"
        },
        "outputId": "7b6e44f4-7069-432d-c7b7-69625466f6f4"
      },
      "outputs": [
        {
          "output_type": "stream",
          "name": "stdout",
          "text": [
            "The length of training data is: 21502\n",
            "The length of validation data is: 4608\n",
            "The length of testing data is: 4608\n"
          ]
        }
      ],
      "source": [
        "# set the numpy seed for reproducibility\n",
        "# https://docs.scipy.org/doc/numpy/reference/generated/numpy.random.seed.html\n",
        "np.random.seed(50)\n",
        "\n",
        "# todo\n",
        "indices = np.arange(len(data))\n",
        "np.random.shuffle(indices)\n",
        "\n",
        "first_split = int(len(indices) * 0.70)\n",
        "second_split = int(len(indices) * 0.85)\n",
        "\n",
        "train_indices = indices[:first_split]\n",
        "val_indices = indices[first_split:second_split]\n",
        "test_indices = indices[second_split:]\n",
        "\n",
        "train_data = datanp[train_indices]\n",
        "val_data = datanp[val_indices]\n",
        "test_data = datanp[test_indices]\n",
        "\n",
        "print(\"The length of training data is:\", len(train_data))\n",
        "print(\"The length of validation data is:\", len(val_data))\n",
        "print(\"The length of testing data is:\", len(test_data))"
      ]
    },
    {
      "cell_type": "markdown",
      "metadata": {
        "id": "h9wJAKOI1pq3"
      },
      "source": [
        "## Part 2. Model Setup [5 pt]\n",
        "\n",
        "### Part (a) [4 pt]\n",
        "\n",
        "Design a fully-connected autoencoder by modifying the `encoder` and `decoder`\n",
        "below.\n",
        "\n",
        "The input to this autoencoder will be the features of the `data`, with\n",
        "one categorical feature recorded as \"missing\". The output of the autoencoder\n",
        "should be the reconstruction of the same features, but with the missing\n",
        "value filled in.\n",
        "\n",
        "**Note**: Do not reduce the dimensionality of the input too much!\n",
        "The output of your embedding is expected to contain information \n",
        "about ~11 features."
      ]
    },
    {
      "cell_type": "code",
      "execution_count": 52,
      "metadata": {
        "collapsed": true,
        "id": "f3F--tdn1pq3",
        "jupyter": {
          "outputs_hidden": true
        }
      },
      "outputs": [],
      "source": [
        "from torch import nn\n",
        "\n",
        "class AutoEncoder(nn.Module):\n",
        "    def __init__(self):\n",
        "        super(AutoEncoder, self).__init__()\n",
        "        self.encoder = nn.Sequential(\n",
        "            nn.Linear(57, 57), # TODO -- FILL OUT THE CODE HERE!\n",
        "            nn.ReLU(),\n",
        "            nn.Linear(57, 30),\n",
        "            nn.ReLU(),\n",
        "            nn.Linear(30, 15)\n",
        "        )\n",
        "        self.decoder = nn.Sequential(\n",
        "            nn.Linear(15, 30), # TODO -- FILL OUT THE CODE HERE!\n",
        "            nn.ReLU(),\n",
        "            nn.Linear(30, 57),\n",
        "            nn.ReLU(),\n",
        "            nn.Linear(57, 57),\n",
        "            nn.Sigmoid() # get to the range (0, 1)\n",
        "        )\n",
        "\n",
        "    def forward(self, x):\n",
        "        x = self.encoder(x)\n",
        "        x = self.decoder(x)\n",
        "        return x"
      ]
    },
    {
      "cell_type": "markdown",
      "metadata": {
        "id": "kuEzTSAv1pq6"
      },
      "source": [
        "### Part (b) [1 pt]\n",
        "\n",
        "Explain why there is a sigmoid activation in the last step of the decoder.\n",
        "\n",
        "(**Note**: the values inside the data frame `data` and the training code in Part 3 might be helpful.)"
      ]
    },
    {
      "cell_type": "markdown",
      "source": [
        "The Sigmoid activation function in the last step of the decoder forces the output to be in the range 0 to 1 inclusive. This is because we nomralized several columns in the dataframe to have values between 0 and 1; thus, the output of the model should be in this range as well."
      ],
      "metadata": {
        "id": "WSffU5k0o_O5"
      }
    },
    {
      "cell_type": "markdown",
      "metadata": {
        "id": "jYwqFWVl1pq8"
      },
      "source": [
        "## Part 3. Training [18] \n",
        "\n",
        "### Part (a) [6 pt]\n",
        "\n",
        "We will train our autoencoder in the following way:\n",
        "\n",
        "- In each iteration, we will hide one of the categorical features using the `zero_out_random_features` function\n",
        "- We will pass the data with one missing feature through the autoencoder, and obtain a reconstruction\n",
        "- We will check how close the reconstruction is compared to the original data -- including the value of the missing feature\n",
        "\n",
        "Complete the code to train the autoencoder, and plot the training and validation loss every few iterations.\n",
        "You may also want to plot training and validation \"accuracy\" every few iterations, as we will define in\n",
        "part (b). You may also want to checkpoint your model every few iterations or epochs.\n",
        "\n",
        "Use `nn.MSELoss()` as your loss function. (Side note: you might recognize that this loss function is not\n",
        "ideal for this problem, but we will use it anyway.)"
      ]
    },
    {
      "cell_type": "code",
      "execution_count": 67,
      "metadata": {
        "collapsed": true,
        "id": "IDQA_-dS1pq9",
        "jupyter": {
          "outputs_hidden": true
        }
      },
      "outputs": [],
      "source": [
        "def zero_out_feature(records, feature):\n",
        "    \"\"\" Set the feature missing in records, by setting the appropriate\n",
        "    columns of records to 0\n",
        "    \"\"\"\n",
        "    start_index = cat_index[feature]\n",
        "    stop_index = cat_index[feature] + len(cat_values[feature])\n",
        "    records[:, start_index:stop_index] = 0\n",
        "    return records\n",
        "\n",
        "def zero_out_random_feature(records):\n",
        "    \"\"\" Set one random feature missing in records, by setting the \n",
        "    appropriate columns of records to 0\n",
        "    \"\"\"\n",
        "    return zero_out_feature(records, random.choice(catcols))\n",
        "\n",
        "def train(model, train_loader, valid_loader, batch_size=128, num_epochs=5, learning_rate=1e-4):\n",
        "    train_accuracy, val_accuracy, train_loss = [], [], []\n",
        "\n",
        "    \"\"\" Training loop. You should update this.\"\"\"\n",
        "    torch.manual_seed(42)\n",
        "    criterion = nn.MSELoss()\n",
        "    optimizer = torch.optim.Adam(model.parameters(), lr=learning_rate)\n",
        "\n",
        "    for epoch in range(num_epochs):\n",
        "        i = 1\n",
        "        for data in train_loader:\n",
        "            if torch.cuda.is_available():\n",
        "                data = data.cuda()\n",
        "                model.cuda()\n",
        "            datam = zero_out_random_feature(data.clone()) # zero out one categorical feature\n",
        "            recon = model(datam)\n",
        "            loss = criterion(recon, data)\n",
        "            loss.backward()\n",
        "            optimizer.step()\n",
        "            optimizer.zero_grad()\n",
        "\n",
        "            if i%40 == 0:\n",
        "                train_accuracy.append(get_accuracy(model, train_loader))\n",
        "                val_accuracy.append(get_accuracy(model, valid_loader))\n",
        "                train_loss.append(float(loss)/batch_size)\n",
        "                print(\"Epoch:\", epoch + 1, \", Iteration:\", i, \", Training Accuracy:\", train_accuracy[-1], \", Validation Accuracy:\", val_accuracy[-1])\n",
        "            i += 1\n",
        "\n",
        "    train_accuracy.append(get_accuracy(model, train_loader))\n",
        "    val_accuracy.append(get_accuracy(model, valid_loader))\n",
        "    train_loss.append(float(loss)/batch_size)\n",
        "    print(\"Epoch:\", epoch + 1, \", Training Accuracy:\", train_accuracy[-1], \", Validation Accuracy:\", val_accuracy[-1])\n",
        "\n",
        "    # Accuracy Plot\n",
        "    plt.title(\"Training and Validation Accuracy\")\n",
        "    plt.plot(train_accuracy, label='Training')\n",
        "    plt.plot(val_accuracy, label='Validation')\n",
        "    plt.xlabel('Iterations')\n",
        "    plt.ylabel('Accuracy')\n",
        "    plt.legend()\n",
        "    plt.show()\n",
        "\n",
        "    # Loss Plot\n",
        "    plt.title('Training Loss')\n",
        "    plt.plot(train_loss, label='Training')\n",
        "    plt.xlabel('Iterations')\n",
        "    plt.ylabel('Loss')\n",
        "    plt.legend()\n",
        "    plt.show()\n"
      ]
    },
    {
      "cell_type": "markdown",
      "metadata": {
        "id": "WKk01pwx1pq_"
      },
      "source": [
        "### Part (b) [3 pt]\n",
        "\n",
        "While plotting training and validation loss is valuable, loss values are harder to compare\n",
        "than accuracy percentages. It would be nice to have a measure of \"accuracy\" in this problem.\n",
        "\n",
        "Since we will only be imputing missing categorical values, we will define an accuracy measure.\n",
        "For each record and for each categorical feature, we determine whether\n",
        "the model can predict the categorical feature given all the other features of the record.\n",
        "\n",
        "A function `get_accuracy` is written for you. It is up to you to figure out how to\n",
        "use the function. **You don't need to submit anything in this part.**\n",
        "To earn the marks, correctly plot the training and validation accuracy every few \n",
        "iterations as part of your training curve."
      ]
    },
    {
      "cell_type": "code",
      "execution_count": 60,
      "metadata": {
        "collapsed": true,
        "id": "bHWLfCzM1pq_",
        "jupyter": {
          "outputs_hidden": true
        }
      },
      "outputs": [],
      "source": [
        "def get_accuracy(model, data_loader):\n",
        "    \"\"\"Return the \"accuracy\" of the autoencoder model across a data set.\n",
        "    That is, for each record and for each categorical feature, \n",
        "    we determine whether the model can successfully predict the value\n",
        "    of the categorical feature given all the other features of the \n",
        "    record. The returned \"accuracy\" measure is the percentage of times \n",
        "    that our model is successful.\n",
        "        \n",
        "    Args:\n",
        "       - model: the autoencoder model, an instance of nn.Module\n",
        "       - data_loader: an instance of torch.utils.data.DataLoader\n",
        "\n",
        "    Example (to illustrate how get_accuracy is intended to be called.\n",
        "             Depending on your variable naming this code might require\n",
        "             modification.)\n",
        "\n",
        "        >>> model = AutoEncoder()\n",
        "        >>> vdl = torch.utils.data.DataLoader(data_valid, batch_size=256, shuffle=True)\n",
        "        >>> get_accuracy(model, vdl)\n",
        "    \"\"\"\n",
        "    total = 0\n",
        "    acc = 0\n",
        "    for col in catcols:\n",
        "        for item in data_loader: # minibatches\n",
        "          if torch.cuda.is_available():\n",
        "            item = item.cuda()\n",
        "            model.cuda()\n",
        "\n",
        "            inp = item.detach().cpu().numpy()\n",
        "            out = model(zero_out_feature(item.clone(), col)).detach().cpu().numpy()\n",
        "            for i in range(out.shape[0]): # record in minibatch\n",
        "                acc += int(get_feature(out[i], col) == get_feature(inp[i], col))\n",
        "                total += 1\n",
        "    return acc / total"
      ]
    },
    {
      "cell_type": "markdown",
      "metadata": {
        "id": "SxCTlXoV1prB"
      },
      "source": [
        "### Part (c) [4 pt]\n",
        "\n",
        "Run your updated training code, using reasonable initial hyperparameters.\n",
        "\n",
        "Include your training curve in your submission."
      ]
    },
    {
      "cell_type": "code",
      "execution_count": 68,
      "metadata": {
        "collapsed": true,
        "id": "nj5b71l-1prC",
        "jupyter": {
          "outputs_hidden": true
        },
        "colab": {
          "base_uri": "https://localhost:8080/",
          "height": 1000
        },
        "outputId": "96e7e328-b72d-4d46-e0dd-d7ab71ace3ca"
      },
      "outputs": [
        {
          "output_type": "stream",
          "name": "stdout",
          "text": [
            "Epoch: 1 , Iteration: 40 , Training Accuracy: 0.42238706476916876 , Validation Accuracy: 0.42042824074074076\n",
            "Epoch: 1 , Iteration: 80 , Training Accuracy: 0.45718227761758595 , Validation Accuracy: 0.4545355902777778\n",
            "Epoch: 1 , Iteration: 120 , Training Accuracy: 0.4594301305304933 , Validation Accuracy: 0.4584056712962963\n",
            "Epoch: 1 , Iteration: 160 , Training Accuracy: 0.4630654512758503 , Validation Accuracy: 0.46263744212962965\n",
            "Epoch: 2 , Iteration: 40 , Training Accuracy: 0.5475692183672837 , Validation Accuracy: 0.5489728009259259\n",
            "Epoch: 2 , Iteration: 80 , Training Accuracy: 0.5426937029113571 , Validation Accuracy: 0.5431495949074074\n",
            "Epoch: 2 , Iteration: 120 , Training Accuracy: 0.5510185099060553 , Validation Accuracy: 0.5516854745370371\n",
            "Epoch: 2 , Iteration: 160 , Training Accuracy: 0.5671642947942827 , Validation Accuracy: 0.5677083333333334\n",
            "Epoch: 3 , Iteration: 40 , Training Accuracy: 0.5725358881344371 , Validation Accuracy: 0.5730251736111112\n",
            "Epoch: 3 , Iteration: 80 , Training Accuracy: 0.5724661271819675 , Validation Accuracy: 0.5733506944444444\n",
            "Epoch: 3 , Iteration: 120 , Training Accuracy: 0.5760704430595603 , Validation Accuracy: 0.5752676504629629\n",
            "Epoch: 3 , Iteration: 160 , Training Accuracy: 0.5792484420053948 , Validation Accuracy: 0.5784143518518519\n",
            "Epoch: 4 , Iteration: 40 , Training Accuracy: 0.5754891017889808 , Validation Accuracy: 0.5731698495370371\n",
            "Epoch: 4 , Iteration: 80 , Training Accuracy: 0.5869298979939851 , Validation Accuracy: 0.5851417824074074\n",
            "Epoch: 4 , Iteration: 120 , Training Accuracy: 0.5952159489039779 , Validation Accuracy: 0.5934606481481481\n",
            "Epoch: 4 , Iteration: 160 , Training Accuracy: 0.5994946206554429 , Validation Accuracy: 0.5969328703703703\n",
            "Epoch: 5 , Iteration: 40 , Training Accuracy: 0.5930688618113044 , Validation Accuracy: 0.5938585069444444\n",
            "Epoch: 5 , Iteration: 80 , Training Accuracy: 0.6013859175890615 , Validation Accuracy: 0.6017795138888888\n",
            "Epoch: 5 , Iteration: 120 , Training Accuracy: 0.5980063870027594 , Validation Accuracy: 0.5986328125\n",
            "Epoch: 5 , Iteration: 160 , Training Accuracy: 0.5921464669953183 , Validation Accuracy: 0.5883246527777778\n",
            "Epoch: 6 , Iteration: 40 , Training Accuracy: 0.6058893746318172 , Validation Accuracy: 0.6038411458333334\n",
            "Epoch: 6 , Iteration: 80 , Training Accuracy: 0.6041298483861967 , Validation Accuracy: 0.6018518518518519\n",
            "Epoch: 6 , Iteration: 120 , Training Accuracy: 0.6063466964313398 , Validation Accuracy: 0.6023582175925926\n",
            "Epoch: 6 , Iteration: 160 , Training Accuracy: 0.6071993302948563 , Validation Accuracy: 0.6040581597222222\n",
            "Epoch: 7 , Iteration: 40 , Training Accuracy: 0.6078969398195516 , Validation Accuracy: 0.6041304976851852\n",
            "Epoch: 7 , Iteration: 80 , Training Accuracy: 0.6051995163240629 , Validation Accuracy: 0.6041666666666666\n",
            "Epoch: 7 , Iteration: 120 , Training Accuracy: 0.5855346789445943 , Validation Accuracy: 0.5834056712962963\n",
            "Epoch: 7 , Iteration: 160 , Training Accuracy: 0.5965801630856045 , Validation Accuracy: 0.5950520833333334\n",
            "Epoch: 8 , Iteration: 40 , Training Accuracy: 0.6062691842619291 , Validation Accuracy: 0.6039858217592593\n",
            "Epoch: 8 , Iteration: 80 , Training Accuracy: 0.6078271788670822 , Validation Accuracy: 0.6054325810185185\n",
            "Epoch: 8 , Iteration: 120 , Training Accuracy: 0.6062149257433417 , Validation Accuracy: 0.6038773148148148\n",
            "Epoch: 8 , Iteration: 160 , Training Accuracy: 0.5987350013952191 , Validation Accuracy: 0.5968605324074074\n",
            "Epoch: 9 , Iteration: 40 , Training Accuracy: 0.6009673518742442 , Validation Accuracy: 0.5993923611111112\n",
            "Epoch: 9 , Iteration: 80 , Training Accuracy: 0.606385452516045 , Validation Accuracy: 0.6040581597222222\n",
            "Epoch: 9 , Iteration: 120 , Training Accuracy: 0.6070830620407404 , Validation Accuracy: 0.6055410879629629\n",
            "Epoch: 9 , Iteration: 160 , Training Accuracy: 0.6059126282826404 , Validation Accuracy: 0.6042751736111112\n",
            "Epoch: 10 , Iteration: 40 , Training Accuracy: 0.6089821101913 , Validation Accuracy: 0.6071325231481481\n",
            "Epoch: 10 , Iteration: 80 , Training Accuracy: 0.6063311939974576 , Validation Accuracy: 0.6041304976851852\n",
            "Epoch: 10 , Iteration: 120 , Training Accuracy: 0.6085015347409544 , Validation Accuracy: 0.6061921296296297\n",
            "Epoch: 10 , Iteration: 160 , Training Accuracy: 0.6105788608811583 , Validation Accuracy: 0.6083260995370371\n",
            "Epoch: 11 , Iteration: 40 , Training Accuracy: 0.6108656559079776 , Validation Accuracy: 0.6086154513888888\n",
            "Epoch: 11 , Iteration: 80 , Training Accuracy: 0.6108346510402133 , Validation Accuracy: 0.6076750578703703\n",
            "Epoch: 11 , Iteration: 120 , Training Accuracy: 0.6129739869159458 , Validation Accuracy: 0.6088324652777778\n",
            "Epoch: 11 , Iteration: 160 , Training Accuracy: 0.6123848944284253 , Validation Accuracy: 0.6100983796296297\n",
            "Epoch: 12 , Iteration: 40 , Training Accuracy: 0.6116640312529067 , Validation Accuracy: 0.6081814236111112\n",
            "Epoch: 12 , Iteration: 80 , Training Accuracy: 0.607292344898149 , Validation Accuracy: 0.6046006944444444\n",
            "Epoch: 12 , Iteration: 120 , Training Accuracy: 0.6132995380274703 , Validation Accuracy: 0.6114728009259259\n",
            "Epoch: 12 , Iteration: 160 , Training Accuracy: 0.6143304498806312 , Validation Accuracy: 0.6105324074074074\n",
            "Epoch: 13 , Iteration: 40 , Training Accuracy: 0.6138033671286391 , Validation Accuracy: 0.6114004629629629\n",
            "Epoch: 13 , Iteration: 80 , Training Accuracy: 0.6151210740086194 , Validation Accuracy: 0.6129918981481481\n",
            "Epoch: 13 , Iteration: 120 , Training Accuracy: 0.614291693795926 , Validation Accuracy: 0.6145833333333334\n",
            "Epoch: 13 , Iteration: 160 , Training Accuracy: 0.6060366477536974 , Validation Accuracy: 0.6043836805555556\n",
            "Epoch: 14 , Iteration: 40 , Training Accuracy: 0.6108966607757418 , Validation Accuracy: 0.6080367476851852\n",
            "Epoch: 14 , Iteration: 80 , Training Accuracy: 0.6075791399249683 , Validation Accuracy: 0.6080729166666666\n",
            "Epoch: 14 , Iteration: 120 , Training Accuracy: 0.6136715964406412 , Validation Accuracy: 0.6109302662037037\n",
            "Epoch: 14 , Iteration: 160 , Training Accuracy: 0.6146715034260379 , Validation Accuracy: 0.6130280671296297\n",
            "Epoch: 15 , Iteration: 40 , Training Accuracy: 0.6135553281865253 , Validation Accuracy: 0.6116536458333334\n",
            "Epoch: 15 , Iteration: 80 , Training Accuracy: 0.6012774005518866 , Validation Accuracy: 0.5995008680555556\n",
            "Epoch: 15 , Iteration: 120 , Training Accuracy: 0.6118423092425511 , Validation Accuracy: 0.6092664930555556\n",
            "Epoch: 15 , Iteration: 160 , Training Accuracy: 0.5959445632964375 , Validation Accuracy: 0.5954499421296297\n",
            "Epoch: 16 , Iteration: 40 , Training Accuracy: 0.6103308219390444 , Validation Accuracy: 0.6087601273148148\n",
            "Epoch: 16 , Iteration: 80 , Training Accuracy: 0.6125321675503054 , Validation Accuracy: 0.6118706597222222\n",
            "Epoch: 16 , Iteration: 120 , Training Accuracy: 0.6116175239512603 , Validation Accuracy: 0.6093026620370371\n",
            "Epoch: 16 , Iteration: 160 , Training Accuracy: 0.6075171301894398 , Validation Accuracy: 0.6074942129629629\n",
            "Epoch: 17 , Iteration: 40 , Training Accuracy: 0.615725668930022 , Validation Accuracy: 0.6137876157407407\n",
            "Epoch: 17 , Iteration: 80 , Training Accuracy: 0.608726320032245 , Validation Accuracy: 0.6067346643518519\n",
            "Epoch: 17 , Iteration: 120 , Training Accuracy: 0.6131600161225312 , Validation Accuracy: 0.6099175347222222\n",
            "Epoch: 17 , Iteration: 160 , Training Accuracy: 0.6112377143211484 , Validation Accuracy: 0.6105324074074074\n",
            "Epoch: 18 , Iteration: 40 , Training Accuracy: 0.6115632654326729 , Validation Accuracy: 0.6099898726851852\n",
            "Epoch: 18 , Iteration: 80 , Training Accuracy: 0.6161907419464856 , Validation Accuracy: 0.6137152777777778\n",
            "Epoch: 18 , Iteration: 120 , Training Accuracy: 0.6101215390816358 , Validation Accuracy: 0.6082537615740741\n",
            "Epoch: 18 , Iteration: 160 , Training Accuracy: 0.6164232784547173 , Validation Accuracy: 0.6138599537037037\n",
            "Epoch: 19 , Iteration: 40 , Training Accuracy: 0.6095401978110563 , Validation Accuracy: 0.6069516782407407\n",
            "Epoch: 19 , Iteration: 80 , Training Accuracy: 0.615725668930022 , Validation Accuracy: 0.6111472800925926\n",
            "Epoch: 19 , Iteration: 120 , Training Accuracy: 0.6149195423681518 , Validation Accuracy: 0.6102430555555556\n",
            "Epoch: 19 , Iteration: 160 , Training Accuracy: 0.6141521718909869 , Validation Accuracy: 0.6108940972222222\n",
            "Epoch: 20 , Iteration: 40 , Training Accuracy: 0.6098424952717577 , Validation Accuracy: 0.6042751736111112\n",
            "Epoch: 20 , Iteration: 80 , Training Accuracy: 0.6117570458561994 , Validation Accuracy: 0.6080729166666666\n",
            "Epoch: 20 , Iteration: 120 , Training Accuracy: 0.6093309149536478 , Validation Accuracy: 0.6067346643518519\n",
            "Epoch: 20 , Iteration: 160 , Training Accuracy: 0.6075171301894398 , Validation Accuracy: 0.6026114004629629\n",
            "Epoch: 20 , Training Accuracy: 0.6040833410845503 , Validation Accuracy: 0.5996455439814815\n"
          ]
        },
        {
          "output_type": "display_data",
          "data": {
            "text/plain": [
              "<Figure size 432x288 with 1 Axes>"
            ],
            "image/png": "[encoded data removed]"
          },
          "metadata": {
            "needs_background": "light"
          }
        },
        {
          "output_type": "display_data",
          "data": {
            "text/plain": [
              "<Figure size 432x288 with 1 Axes>"
            ],
            "image/png": "[encoded data removed]"
          },
          "metadata": {
            "needs_background": "light"
          }
        }
      ],
      "source": [
        "model = AutoEncoder()\n",
        "\n",
        "if torch.cuda.is_available():\n",
        "  model.cuda()\n",
        "else:\n",
        "  pass\n",
        "\n",
        "train_loader = torch.utils.data.DataLoader(train_data, batch_size=128, shuffle=True)\n",
        "valid_loader = torch.utils.data.DataLoader(val_data, batch_size=128, shuffle=True)\n",
        "train(model, train_loader, valid_loader, batch_size=128, num_epochs=20, learning_rate=0.001)"
      ]
    },
    {
      "cell_type": "markdown",
      "metadata": {
        "id": "h9xTwIf51prF"
      },
      "source": [
        "### Part (d) [5 pt]\n",
        "\n",
        "Tune your hyperparameters, training at least 4 different models (4 sets of hyperparameters).\n",
        "\n",
        "Do not include all your training curves. Instead, explain what hyperparameters\n",
        "you tried, what their effect was, and what your thought process was as you \n",
        "chose the next set of hyperparameters to try."
      ]
    },
    {
      "cell_type": "code",
      "execution_count": 69,
      "metadata": {
        "collapsed": true,
        "id": "PhTKt9iL1prG",
        "jupyter": {
          "outputs_hidden": true
        },
        "colab": {
          "base_uri": "https://localhost:8080/",
          "height": 1000
        },
        "outputId": "68c8aaab-98f1-481c-c67f-5fabca8c3311"
      },
      "outputs": [
        {
          "output_type": "stream",
          "name": "stdout",
          "text": [
            "Epoch: 1 , Iteration: 40 , Training Accuracy: 0.42238706476916876 , Validation Accuracy: 0.42042824074074076\n",
            "Epoch: 1 , Iteration: 80 , Training Accuracy: 0.45718227761758595 , Validation Accuracy: 0.4545355902777778\n",
            "Epoch: 1 , Iteration: 120 , Training Accuracy: 0.4610501348711748 , Validation Accuracy: 0.45949074074074076\n",
            "Epoch: 1 , Iteration: 160 , Training Accuracy: 0.4609183641831768 , Validation Accuracy: 0.4595630787037037\n",
            "Epoch: 1 , Iteration: 200 , Training Accuracy: 0.5352370322140576 , Validation Accuracy: 0.5368923611111112\n",
            "Epoch: 1 , Iteration: 240 , Training Accuracy: 0.5487163984745606 , Validation Accuracy: 0.5490089699074074\n",
            "Epoch: 1 , Iteration: 280 , Training Accuracy: 0.5613353796546058 , Validation Accuracy: 0.5611617476851852\n",
            "Epoch: 1 , Iteration: 320 , Training Accuracy: 0.5649784516169039 , Validation Accuracy: 0.5650679976851852\n",
            "Epoch: 2 , Iteration: 40 , Training Accuracy: 0.5735125414690107 , Validation Accuracy: 0.5740017361111112\n",
            "Epoch: 2 , Iteration: 80 , Training Accuracy: 0.5772641304684836 , Validation Accuracy: 0.5757378472222222\n",
            "Epoch: 2 , Iteration: 120 , Training Accuracy: 0.5839689331225002 , Validation Accuracy: 0.5827546296296297\n",
            "Epoch: 2 , Iteration: 160 , Training Accuracy: 0.5779927448609432 , Validation Accuracy: 0.5744719328703703\n",
            "Epoch: 2 , Iteration: 200 , Training Accuracy: 0.5831007968251015 , Validation Accuracy: 0.5814163773148148\n",
            "Epoch: 2 , Iteration: 240 , Training Accuracy: 0.5855114252937711 , Validation Accuracy: 0.5830439814814815\n",
            "Epoch: 2 , Iteration: 280 , Training Accuracy: 0.5851548693144824 , Validation Accuracy: 0.5826822916666666\n",
            "Epoch: 2 , Iteration: 320 , Training Accuracy: 0.5970142312343037 , Validation Accuracy: 0.5947265625\n",
            "Epoch: 3 , Iteration: 40 , Training Accuracy: 0.5981536601246396 , Validation Accuracy: 0.5973668981481481\n",
            "Epoch: 3 , Iteration: 80 , Training Accuracy: 0.587177936936099 , Validation Accuracy: 0.5852864583333334\n",
            "Epoch: 3 , Iteration: 120 , Training Accuracy: 0.5977273431928812 , Validation Accuracy: 0.5941116898148148\n",
            "Epoch: 3 , Iteration: 160 , Training Accuracy: 0.5997504108144979 , Validation Accuracy: 0.5975115740740741\n",
            "Epoch: 3 , Iteration: 200 , Training Accuracy: 0.6077574179146126 , Validation Accuracy: 0.6021050347222222\n",
            "Epoch: 3 , Iteration: 240 , Training Accuracy: 0.6100052708275199 , Validation Accuracy: 0.6046368634259259\n",
            "Epoch: 3 , Iteration: 280 , Training Accuracy: 0.5985644746225157 , Validation Accuracy: 0.5943287037037037\n",
            "Epoch: 3 , Iteration: 320 , Training Accuracy: 0.5978436114469972 , Validation Accuracy: 0.5951967592592593\n",
            "Epoch: 4 , Iteration: 40 , Training Accuracy: 0.6112764704058538 , Validation Accuracy: 0.6060836226851852\n",
            "Epoch: 4 , Iteration: 80 , Training Accuracy: 0.5995876352587356 , Validation Accuracy: 0.5961371527777778\n",
            "Epoch: 4 , Iteration: 120 , Training Accuracy: 0.6017424735683502 , Validation Accuracy: 0.5989221643518519\n",
            "Epoch: 4 , Iteration: 160 , Training Accuracy: 0.6021222831984622 , Validation Accuracy: 0.5984519675925926\n",
            "Epoch: 4 , Iteration: 200 , Training Accuracy: 0.617283663535175 , Validation Accuracy: 0.6131727430555556\n",
            "Epoch: 4 , Iteration: 240 , Training Accuracy: 0.6096642172821133 , Validation Accuracy: 0.6046006944444444\n",
            "Epoch: 4 , Iteration: 280 , Training Accuracy: 0.6146404985582736 , Validation Accuracy: 0.6101345486111112\n",
            "Epoch: 4 , Iteration: 320 , Training Accuracy: 0.6108656559079776 , Validation Accuracy: 0.6069878472222222\n",
            "Epoch: 5 , Iteration: 40 , Training Accuracy: 0.607951198338139 , Validation Accuracy: 0.6044921875\n",
            "Epoch: 5 , Iteration: 80 , Training Accuracy: 0.6143382010975723 , Validation Accuracy: 0.6096281828703703\n",
            "Epoch: 5 , Iteration: 120 , Training Accuracy: 0.6148885375003875 , Validation Accuracy: 0.6104239004629629\n",
            "Epoch: 5 , Iteration: 160 , Training Accuracy: 0.6034399900784423 , Validation Accuracy: 0.5991391782407407\n",
            "Epoch: 5 , Iteration: 200 , Training Accuracy: 0.6043856385452516 , Validation Accuracy: 0.6003327546296297\n",
            "Epoch: 5 , Iteration: 240 , Training Accuracy: 0.612090348184665 , Validation Accuracy: 0.6055410879629629\n",
            "Epoch: 5 , Iteration: 280 , Training Accuracy: 0.611950826279726 , Validation Accuracy: 0.6086516203703703\n",
            "Epoch: 5 , Iteration: 320 , Training Accuracy: 0.6085790469103649 , Validation Accuracy: 0.6053240740740741\n",
            "Epoch: 6 , Iteration: 40 , Training Accuracy: 0.6029361609772734 , Validation Accuracy: 0.6008752893518519\n",
            "Epoch: 6 , Iteration: 80 , Training Accuracy: 0.6089743589743589 , Validation Accuracy: 0.6052517361111112\n",
            "Epoch: 6 , Iteration: 120 , Training Accuracy: 0.6061529160078132 , Validation Accuracy: 0.6032986111111112\n",
            "Epoch: 6 , Iteration: 160 , Training Accuracy: 0.6091603881809444 , Validation Accuracy: 0.6035879629629629\n",
            "Epoch: 6 , Iteration: 200 , Training Accuracy: 0.608710817598363 , Validation Accuracy: 0.6060474537037037\n",
            "Epoch: 6 , Iteration: 240 , Training Accuracy: 0.6023703221405761 , Validation Accuracy: 0.5974754050925926\n",
            "Epoch: 6 , Iteration: 280 , Training Accuracy: 0.6049747310327721 , Validation Accuracy: 0.6010923032407407\n",
            "Epoch: 6 , Iteration: 320 , Training Accuracy: 0.6116717824698478 , Validation Accuracy: 0.6086516203703703\n",
            "Epoch: 7 , Iteration: 40 , Training Accuracy: 0.6077884227823769 , Validation Accuracy: 0.6042028356481481\n",
            "Epoch: 7 , Iteration: 80 , Training Accuracy: 0.6106408706166868 , Validation Accuracy: 0.6044560185185185\n",
            "Epoch: 7 , Iteration: 120 , Training Accuracy: 0.6182680680866897 , Validation Accuracy: 0.6138237847222222\n",
            "Epoch: 7 , Iteration: 160 , Training Accuracy: 0.6168650978203578 , Validation Accuracy: 0.6112557870370371\n",
            "Epoch: 7 , Iteration: 200 , Training Accuracy: 0.6185626143304499 , Validation Accuracy: 0.6150896990740741\n",
            "Epoch: 7 , Iteration: 240 , Training Accuracy: 0.6198028090410195 , Validation Accuracy: 0.6137152777777778\n",
            "Epoch: 7 , Iteration: 280 , Training Accuracy: 0.6218878863981645 , Validation Accuracy: 0.6175491898148148\n",
            "Epoch: 7 , Iteration: 320 , Training Accuracy: 0.6170123709422379 , Validation Accuracy: 0.6135706018518519\n",
            "Epoch: 8 , Iteration: 40 , Training Accuracy: 0.611431494744675 , Validation Accuracy: 0.6062282986111112\n",
            "Epoch: 8 , Iteration: 80 , Training Accuracy: 0.6176402195144638 , Validation Accuracy: 0.6138237847222222\n",
            "Epoch: 8 , Iteration: 120 , Training Accuracy: 0.602626112299631 , Validation Accuracy: 0.5975115740740741\n",
            "Epoch: 8 , Iteration: 160 , Training Accuracy: 0.613121260037826 , Validation Accuracy: 0.6103153935185185\n",
            "Epoch: 8 , Iteration: 200 , Training Accuracy: 0.624027222273897 , Validation Accuracy: 0.6220703125\n",
            "Epoch: 8 , Iteration: 240 , Training Accuracy: 0.6199113260781943 , Validation Accuracy: 0.6137876157407407\n",
            "Epoch: 8 , Iteration: 280 , Training Accuracy: 0.6108036461724491 , Validation Accuracy: 0.6076027199074074\n",
            "Epoch: 8 , Iteration: 320 , Training Accuracy: 0.6232986078814374 , Validation Accuracy: 0.6186704282407407\n",
            "Epoch: 9 , Iteration: 40 , Training Accuracy: 0.6138188695625213 , Validation Accuracy: 0.6079644097222222\n",
            "Epoch: 9 , Iteration: 80 , Training Accuracy: 0.6197175456546677 , Validation Accuracy: 0.6150896990740741\n",
            "Epoch: 9 , Iteration: 120 , Training Accuracy: 0.6101525439494001 , Validation Accuracy: 0.6056495949074074\n",
            "Epoch: 9 , Iteration: 160 , Training Accuracy: 0.62039190152854 , Validation Accuracy: 0.6163194444444444\n",
            "Epoch: 9 , Iteration: 200 , Training Accuracy: 0.6190354385638546 , Validation Accuracy: 0.6161747685185185\n",
            "Epoch: 9 , Iteration: 240 , Training Accuracy: 0.6272207236536136 , Validation Accuracy: 0.6243851273148148\n",
            "Epoch: 9 , Iteration: 280 , Training Accuracy: 0.6271742163519672 , Validation Accuracy: 0.6220703125\n",
            "Epoch: 9 , Iteration: 320 , Training Accuracy: 0.6251744023811738 , Validation Accuracy: 0.6198278356481481\n",
            "Epoch: 10 , Iteration: 40 , Training Accuracy: 0.6319877220723653 , Validation Accuracy: 0.6286530671296297\n",
            "Epoch: 10 , Iteration: 80 , Training Accuracy: 0.6163922735869531 , Validation Accuracy: 0.6128472222222222\n",
            "Epoch: 10 , Iteration: 120 , Training Accuracy: 0.629081015719468 , Validation Accuracy: 0.6272424768518519\n",
            "Epoch: 10 , Iteration: 160 , Training Accuracy: 0.6251821535981149 , Validation Accuracy: 0.6192853009259259\n",
            "Epoch: 10 , Iteration: 200 , Training Accuracy: 0.6242985148668341 , Validation Accuracy: 0.619140625\n",
            "Epoch: 10 , Iteration: 240 , Training Accuracy: 0.6265541189966825 , Validation Accuracy: 0.6239510995370371\n",
            "Epoch: 10 , Iteration: 280 , Training Accuracy: 0.6265231141289183 , Validation Accuracy: 0.623046875\n",
            "Epoch: 10 , Iteration: 320 , Training Accuracy: 0.6143149474467492 , Validation Accuracy: 0.6116898148148148\n",
            "Epoch: 11 , Iteration: 40 , Training Accuracy: 0.6219266424828698 , Validation Accuracy: 0.6189959490740741\n",
            "Epoch: 11 , Iteration: 80 , Training Accuracy: 0.6164697857563638 , Validation Accuracy: 0.6124493634259259\n",
            "Epoch: 11 , Iteration: 120 , Training Accuracy: 0.6269571822776175 , Validation Accuracy: 0.6233000578703703\n",
            "Epoch: 11 , Iteration: 160 , Training Accuracy: 0.6164232784547173 , Validation Accuracy: 0.6123046875\n",
            "Epoch: 11 , Iteration: 200 , Training Accuracy: 0.6236086565590798 , Validation Accuracy: 0.6192129629629629\n",
            "Epoch: 11 , Iteration: 240 , Training Accuracy: 0.6286391963538276 , Validation Accuracy: 0.6250723379629629\n",
            "Epoch: 11 , Iteration: 280 , Training Accuracy: 0.6267091433355036 , Validation Accuracy: 0.6242766203703703\n",
            "Epoch: 11 , Iteration: 320 , Training Accuracy: 0.6222599448113354 , Validation Accuracy: 0.6188874421296297\n",
            "Epoch: 12 , Iteration: 40 , Training Accuracy: 0.6216553498899328 , Validation Accuracy: 0.6173683449074074\n",
            "Epoch: 12 , Iteration: 80 , Training Accuracy: 0.62324434936285 , Validation Accuracy: 0.6192129629629629\n",
            "Epoch: 12 , Iteration: 120 , Training Accuracy: 0.6176324682975227 , Validation Accuracy: 0.6137514467592593\n",
            "Epoch: 12 , Iteration: 160 , Training Accuracy: 0.6095401978110563 , Validation Accuracy: 0.6033347800925926\n",
            "Epoch: 12 , Iteration: 200 , Training Accuracy: 0.6181983071342201 , Validation Accuracy: 0.6121961805555556\n",
            "Epoch: 12 , Iteration: 240 , Training Accuracy: 0.6084705298731901 , Validation Accuracy: 0.6030454282407407\n",
            "Epoch: 12 , Iteration: 280 , Training Accuracy: 0.6233451151830838 , Validation Accuracy: 0.6176215277777778\n",
            "Epoch: 12 , Iteration: 320 , Training Accuracy: 0.6217173596254612 , Validation Accuracy: 0.6170789930555556\n",
            "Epoch: 13 , Iteration: 40 , Training Accuracy: 0.6290732645025269 , Validation Accuracy: 0.6239510995370371\n",
            "Epoch: 13 , Iteration: 80 , Training Accuracy: 0.6164465321055406 , Validation Accuracy: 0.6116898148148148\n",
            "Epoch: 13 , Iteration: 120 , Training Accuracy: 0.6177409853346976 , Validation Accuracy: 0.6136067708333334\n",
            "Epoch: 13 , Iteration: 160 , Training Accuracy: 0.6212755402598208 , Validation Accuracy: 0.6161747685185185\n",
            "Epoch: 13 , Iteration: 200 , Training Accuracy: 0.6217018571915791 , Validation Accuracy: 0.6163556134259259\n",
            "Epoch: 13 , Iteration: 240 , Training Accuracy: 0.6101292902985769 , Validation Accuracy: 0.6051070601851852\n",
            "Epoch: 13 , Iteration: 280 , Training Accuracy: 0.6166093076613028 , Validation Accuracy: 0.6123408564814815\n",
            "Epoch: 13 , Iteration: 320 , Training Accuracy: 0.6230893250240288 , Validation Accuracy: 0.6208043981481481\n",
            "Epoch: 14 , Iteration: 40 , Training Accuracy: 0.6201826186711313 , Validation Accuracy: 0.6145471643518519\n",
            "Epoch: 14 , Iteration: 80 , Training Accuracy: 0.6187563947539764 , Validation Accuracy: 0.6157045717592593\n",
            "Epoch: 14 , Iteration: 120 , Training Accuracy: 0.6306157566737978 , Validation Accuracy: 0.6275679976851852\n",
            "Epoch: 14 , Iteration: 160 , Training Accuracy: 0.6174851951756426 , Validation Accuracy: 0.6133174189814815\n",
            "Epoch: 14 , Iteration: 200 , Training Accuracy: 0.6302669519114501 , Validation Accuracy: 0.6248914930555556\n",
            "Epoch: 14 , Iteration: 240 , Training Accuracy: 0.6227482714786221 , Validation Accuracy: 0.6209490740740741\n",
            "Epoch: 14 , Iteration: 280 , Training Accuracy: 0.6273757479924348 , Validation Accuracy: 0.6254340277777778\n",
            "Epoch: 14 , Iteration: 320 , Training Accuracy: 0.6321349951942455 , Validation Accuracy: 0.6276041666666666\n",
            "Epoch: 15 , Iteration: 40 , Training Accuracy: 0.6256937339162248 , Validation Accuracy: 0.6217809606481481\n",
            "Epoch: 15 , Iteration: 80 , Training Accuracy: 0.6271587139180851 , Validation Accuracy: 0.6239149305555556\n",
            "Epoch: 15 , Iteration: 120 , Training Accuracy: 0.6086875639475398 , Validation Accuracy: 0.6051432291666666\n",
            "Epoch: 15 , Iteration: 160 , Training Accuracy: 0.62960809847146 , Validation Accuracy: 0.6287615740740741\n",
            "Epoch: 15 , Iteration: 200 , Training Accuracy: 0.6246085635444765 , Validation Accuracy: 0.6206597222222222\n",
            "Epoch: 15 , Iteration: 240 , Training Accuracy: 0.622205686292748 , Validation Accuracy: 0.6187065972222222\n",
            "Epoch: 15 , Iteration: 280 , Training Accuracy: 0.6259030167736335 , Validation Accuracy: 0.6176938657407407\n",
            "Epoch: 15 , Iteration: 320 , Training Accuracy: 0.6254146901063466 , Validation Accuracy: 0.6220341435185185\n",
            "Epoch: 16 , Iteration: 40 , Training Accuracy: 0.6271122066164387 , Validation Accuracy: 0.6226128472222222\n",
            "Epoch: 16 , Iteration: 80 , Training Accuracy: 0.6268176603726785 , Validation Accuracy: 0.6216001157407407\n",
            "Epoch: 16 , Iteration: 120 , Training Accuracy: 0.6222599448113354 , Validation Accuracy: 0.6166087962962963\n",
            "Epoch: 16 , Iteration: 160 , Training Accuracy: 0.6313753759340216 , Validation Accuracy: 0.6282913773148148\n",
            "Epoch: 16 , Iteration: 200 , Training Accuracy: 0.634134809165039 , Validation Accuracy: 0.6320529513888888\n",
            "Epoch: 16 , Iteration: 240 , Training Accuracy: 0.6267944067218554 , Validation Accuracy: 0.6220703125\n",
            "Epoch: 16 , Iteration: 280 , Training Accuracy: 0.6336077264130469 , Validation Accuracy: 0.6290870949074074\n",
            "Epoch: 16 , Iteration: 320 , Training Accuracy: 0.6394211391188417 , Validation Accuracy: 0.6375868055555556\n",
            "Epoch: 17 , Iteration: 40 , Training Accuracy: 0.6308715468328527 , Validation Accuracy: 0.6282190393518519\n",
            "Epoch: 17 , Iteration: 80 , Training Accuracy: 0.624554305025889 , Validation Accuracy: 0.6218894675925926\n",
            "Epoch: 17 , Iteration: 120 , Training Accuracy: 0.6265851238644468 , Validation Accuracy: 0.6221788194444444\n",
            "Epoch: 17 , Iteration: 160 , Training Accuracy: 0.6317396831302514 , Validation Accuracy: 0.6297743055555556\n",
            "Epoch: 17 , Iteration: 200 , Training Accuracy: 0.6257789973025765 , Validation Accuracy: 0.6224681712962963\n",
            "Epoch: 17 , Iteration: 240 , Training Accuracy: 0.6304607323349766 , Validation Accuracy: 0.6265914351851852\n",
            "Epoch: 17 , Iteration: 280 , Training Accuracy: 0.6359563451461879 , Validation Accuracy: 0.6340060763888888\n",
            "Epoch: 17 , Iteration: 320 , Training Accuracy: 0.636343905993241 , Validation Accuracy: 0.6314380787037037\n",
            "Epoch: 18 , Iteration: 40 , Training Accuracy: 0.6277245527547824 , Validation Accuracy: 0.6239510995370371\n",
            "Epoch: 18 , Iteration: 80 , Training Accuracy: 0.6236629150776672 , Validation Accuracy: 0.6202256944444444\n",
            "Epoch: 18 , Iteration: 120 , Training Accuracy: 0.6329178681052925 , Validation Accuracy: 0.6297019675925926\n",
            "Epoch: 18 , Iteration: 160 , Training Accuracy: 0.635188974669023 , Validation Accuracy: 0.6316912615740741\n",
            "Epoch: 18 , Iteration: 200 , Training Accuracy: 0.63699500821629 , Validation Accuracy: 0.6332103587962963\n",
            "Epoch: 18 , Iteration: 240 , Training Accuracy: 0.6323752829194184 , Validation Accuracy: 0.6263744212962963\n",
            "Epoch: 18 , Iteration: 280 , Training Accuracy: 0.6331271509627011 , Validation Accuracy: 0.6288339120370371\n",
            "Epoch: 18 , Iteration: 320 , Training Accuracy: 0.6349641893777324 , Validation Accuracy: 0.6297381365740741\n",
            "Epoch: 19 , Iteration: 40 , Training Accuracy: 0.6417232505503364 , Validation Accuracy: 0.6362847222222222\n",
            "Epoch: 19 , Iteration: 80 , Training Accuracy: 0.6372895544600502 , Validation Accuracy: 0.6313657407407407\n",
            "Epoch: 19 , Iteration: 120 , Training Accuracy: 0.6349719405946733 , Validation Accuracy: 0.6298828125\n",
            "Epoch: 19 , Iteration: 160 , Training Accuracy: 0.6350339503302018 , Validation Accuracy: 0.6300998263888888\n",
            "Epoch: 19 , Iteration: 200 , Training Accuracy: 0.6455988590208662 , Validation Accuracy: 0.6405164930555556\n",
            "Epoch: 19 , Iteration: 240 , Training Accuracy: 0.6372973056769913 , Validation Accuracy: 0.6324869791666666\n",
            "Epoch: 19 , Iteration: 280 , Training Accuracy: 0.6426611478002047 , Validation Accuracy: 0.6365740740740741\n",
            "Epoch: 19 , Iteration: 320 , Training Accuracy: 0.6330883948779958 , Validation Accuracy: 0.6269892939814815\n",
            "Epoch: 20 , Iteration: 40 , Training Accuracy: 0.6389018075837907 , Validation Accuracy: 0.6334635416666666\n",
            "Epoch: 20 , Iteration: 80 , Training Accuracy: 0.6339875360431588 , Validation Accuracy: 0.6298466435185185\n",
            "Epoch: 20 , Iteration: 120 , Training Accuracy: 0.6405528167922364 , Validation Accuracy: 0.6348379629629629\n",
            "Epoch: 20 , Iteration: 160 , Training Accuracy: 0.6355920379499581 , Validation Accuracy: 0.6301359953703703\n",
            "Epoch: 20 , Iteration: 200 , Training Accuracy: 0.636599696152296 , Validation Accuracy: 0.6298466435185185\n",
            "Epoch: 20 , Iteration: 240 , Training Accuracy: 0.6275695284159613 , Validation Accuracy: 0.6230107060185185\n",
            "Epoch: 20 , Iteration: 280 , Training Accuracy: 0.6436067962670139 , Validation Accuracy: 0.6373336226851852\n",
            "Epoch: 20 , Iteration: 320 , Training Accuracy: 0.6428549282237311 , Validation Accuracy: 0.6359230324074074\n",
            "Epoch: 20 , Training Accuracy: 0.6306700151923852 , Validation Accuracy: 0.6248553240740741\n"
          ]
        },
        {
          "output_type": "display_data",
          "data": {
            "text/plain": [
              "<Figure size 432x288 with 1 Axes>"
            ],
            "image/png": "[encoded data removed]"
          },
          "metadata": {
            "needs_background": "light"
          }
        },
        {
          "output_type": "display_data",
          "data": {
            "text/plain": [
              "<Figure size 432x288 with 1 Axes>"
            ],
            "image/png": "[encoded data removed]"
          },
          "metadata": {
            "needs_background": "light"
          }
        }
      ],
      "source": [
        "# For the first hyperparameter trial, let's reduce the batch size by 50% and make it 64\n",
        "second_model = AutoEncoder()\n",
        "\n",
        "if torch.cuda.is_available():\n",
        "  second_model.cuda()\n",
        "else:\n",
        "  pass\n",
        "\n",
        "train_loader = torch.utils.data.DataLoader(train_data, batch_size=64, shuffle=True)\n",
        "valid_loader = torch.utils.data.DataLoader(val_data, batch_size=64, shuffle=True)\n",
        "train(second_model, train_loader, valid_loader, batch_size=64, num_epochs=20, learning_rate=0.001)"
      ]
    },
    {
      "cell_type": "code",
      "source": [
        "# For the second hyperparameter trial, let's change the learning rate to 0.003\n",
        "# and decrease number of epochs to 10.\n",
        "third_model = AutoEncoder()\n",
        "\n",
        "if torch.cuda.is_available():\n",
        "  third_model.cuda()\n",
        "else:\n",
        "  pass\n",
        "\n",
        "train_loader = torch.utils.data.DataLoader(train_data, batch_size=64, shuffle=True)\n",
        "valid_loader = torch.utils.data.DataLoader(val_data, batch_size=64, shuffle=True)\n",
        "train(third_model, train_loader, valid_loader, batch_size=64, num_epochs=10, learning_rate=0.003)"
      ],
      "metadata": {
        "colab": {
          "base_uri": "https://localhost:8080/",
          "height": 1000
        },
        "id": "KLgYB5xA7roZ",
        "outputId": "9b768324-e6f3-4ee0-b776-2089b8eb8867"
      },
      "execution_count": 70,
      "outputs": [
        {
          "output_type": "stream",
          "name": "stdout",
          "text": [
            "Epoch: 1 , Iteration: 40 , Training Accuracy: 0.4360292065854339 , Validation Accuracy: 0.43627025462962965\n",
            "Epoch: 1 , Iteration: 80 , Training Accuracy: 0.4592285988900257 , Validation Accuracy: 0.4581886574074074\n",
            "Epoch: 1 , Iteration: 120 , Training Accuracy: 0.45909682820202774 , Validation Accuracy: 0.45804398148148145\n",
            "Epoch: 1 , Iteration: 160 , Training Accuracy: 0.549941090751248 , Validation Accuracy: 0.5532045717592593\n",
            "Epoch: 1 , Iteration: 200 , Training Accuracy: 0.5505766905404148 , Validation Accuracy: 0.5528067129629629\n",
            "Epoch: 1 , Iteration: 240 , Training Accuracy: 0.5661178805072397 , Validation Accuracy: 0.5654296875\n",
            "Epoch: 1 , Iteration: 280 , Training Accuracy: 0.5899141165162931 , Validation Accuracy: 0.5877459490740741\n",
            "Epoch: 1 , Iteration: 320 , Training Accuracy: 0.5944795832945773 , Validation Accuracy: 0.5914713541666666\n",
            "Epoch: 2 , Iteration: 40 , Training Accuracy: 0.591472111121446 , Validation Accuracy: 0.5892650462962963\n",
            "Epoch: 2 , Iteration: 80 , Training Accuracy: 0.5933091495364772 , Validation Accuracy: 0.5886140046296297\n",
            "Epoch: 2 , Iteration: 120 , Training Accuracy: 0.6083232567513099 , Validation Accuracy: 0.6055410879629629\n",
            "Epoch: 2 , Iteration: 160 , Training Accuracy: 0.6171441416302359 , Validation Accuracy: 0.6137152777777778\n",
            "Epoch: 2 , Iteration: 200 , Training Accuracy: 0.6109819241620934 , Validation Accuracy: 0.6069878472222222\n",
            "Epoch: 2 , Iteration: 240 , Training Accuracy: 0.6179812730598704 , Validation Accuracy: 0.6133897569444444\n",
            "Epoch: 2 , Iteration: 280 , Training Accuracy: 0.6102455585526928 , Validation Accuracy: 0.6080005787037037\n",
            "Epoch: 2 , Iteration: 320 , Training Accuracy: 0.6195625213158465 , Validation Accuracy: 0.6152705439814815\n",
            "Epoch: 3 , Iteration: 40 , Training Accuracy: 0.6080442129414318 , Validation Accuracy: 0.6034794560185185\n",
            "Epoch: 3 , Iteration: 80 , Training Accuracy: 0.6122608749573684 , Validation Accuracy: 0.6063368055555556\n",
            "Epoch: 3 , Iteration: 120 , Training Accuracy: 0.609625461197408 , Validation Accuracy: 0.6050347222222222\n",
            "Epoch: 3 , Iteration: 160 , Training Accuracy: 0.613260781942765 , Validation Accuracy: 0.6091579861111112\n",
            "Epoch: 3 , Iteration: 200 , Training Accuracy: 0.6091526369640033 , Validation Accuracy: 0.6052879050925926\n",
            "Epoch: 3 , Iteration: 240 , Training Accuracy: 0.6210585061854711 , Validation Accuracy: 0.6152705439814815\n",
            "Epoch: 3 , Iteration: 280 , Training Accuracy: 0.6154001178184975 , Validation Accuracy: 0.6096643518518519\n",
            "Epoch: 3 , Iteration: 320 , Training Accuracy: 0.613384801413822 , Validation Accuracy: 0.6059027777777778\n",
            "Epoch: 4 , Iteration: 40 , Training Accuracy: 0.6153691129507333 , Validation Accuracy: 0.6098451967592593\n",
            "Epoch: 4 , Iteration: 80 , Training Accuracy: 0.6186556289337426 , Validation Accuracy: 0.6160300925925926\n",
            "Epoch: 4 , Iteration: 120 , Training Accuracy: 0.6180355315784578 , Validation Accuracy: 0.6117983217592593\n",
            "Epoch: 4 , Iteration: 160 , Training Accuracy: 0.6166790686137723 , Validation Accuracy: 0.6125940393518519\n",
            "Epoch: 4 , Iteration: 200 , Training Accuracy: 0.6201671162372493 , Validation Accuracy: 0.6157769097222222\n",
            "Epoch: 4 , Iteration: 240 , Training Accuracy: 0.619485009146436 , Validation Accuracy: 0.6117983217592593\n",
            "Epoch: 4 , Iteration: 280 , Training Accuracy: 0.6097262270176418 , Validation Accuracy: 0.6066623263888888\n",
            "Epoch: 4 , Iteration: 320 , Training Accuracy: 0.6276857966700772 , Validation Accuracy: 0.6210214120370371\n",
            "Epoch: 5 , Iteration: 40 , Training Accuracy: 0.6289259913806468 , Validation Accuracy: 0.6220341435185185\n",
            "Epoch: 5 , Iteration: 80 , Training Accuracy: 0.6309723126530865 , Validation Accuracy: 0.6240234375\n",
            "Epoch: 5 , Iteration: 120 , Training Accuracy: 0.6173766781384677 , Validation Accuracy: 0.6101345486111112\n",
            "Epoch: 5 , Iteration: 160 , Training Accuracy: 0.6237404272470778 , Validation Accuracy: 0.6193576388888888\n",
            "Epoch: 5 , Iteration: 200 , Training Accuracy: 0.625453446191052 , Validation Accuracy: 0.6184895833333334\n",
            "Epoch: 5 , Iteration: 240 , Training Accuracy: 0.6304142250333302 , Validation Accuracy: 0.6260850694444444\n",
            "Epoch: 5 , Iteration: 280 , Training Accuracy: 0.62960809847146 , Validation Accuracy: 0.6226490162037037\n",
            "Epoch: 5 , Iteration: 320 , Training Accuracy: 0.628964747465352 , Validation Accuracy: 0.6218894675925926\n",
            "Epoch: 6 , Iteration: 40 , Training Accuracy: 0.6285306793166527 , Validation Accuracy: 0.6222873263888888\n",
            "Epoch: 6 , Iteration: 80 , Training Accuracy: 0.6320497318078938 , Validation Accuracy: 0.6250361689814815\n",
            "Epoch: 6 , Iteration: 120 , Training Accuracy: 0.6293833131801693 , Validation Accuracy: 0.6226128472222222\n",
            "Epoch: 6 , Iteration: 160 , Training Accuracy: 0.6276082845006666 , Validation Accuracy: 0.6208767361111112\n",
            "Epoch: 6 , Iteration: 200 , Training Accuracy: 0.6366927107555886 , Validation Accuracy: 0.6299189814814815\n",
            "Epoch: 6 , Iteration: 240 , Training Accuracy: 0.6314528881034323 , Validation Accuracy: 0.6270254629629629\n",
            "Epoch: 6 , Iteration: 280 , Training Accuracy: 0.6341968189005673 , Validation Accuracy: 0.6268807870370371\n",
            "Epoch: 6 , Iteration: 320 , Training Accuracy: 0.6333131801692866 , Validation Accuracy: 0.6302806712962963\n",
            "Epoch: 7 , Iteration: 40 , Training Accuracy: 0.6138421232133445 , Validation Accuracy: 0.6138237847222222\n",
            "Epoch: 7 , Iteration: 80 , Training Accuracy: 0.6170046197252969 , Validation Accuracy: 0.6129918981481481\n",
            "Epoch: 7 , Iteration: 120 , Training Accuracy: 0.6311815955104951 , Validation Accuracy: 0.6263382523148148\n",
            "Epoch: 7 , Iteration: 160 , Training Accuracy: 0.6341658140328031 , Validation Accuracy: 0.6273871527777778\n",
            "Epoch: 7 , Iteration: 200 , Training Accuracy: 0.6322357610144793 , Validation Accuracy: 0.6276765046296297\n",
            "Epoch: 7 , Iteration: 240 , Training Accuracy: 0.6321582488450687 , Validation Accuracy: 0.6274594907407407\n",
            "Epoch: 7 , Iteration: 280 , Training Accuracy: 0.639723436579543 , Validation Accuracy: 0.6341869212962963\n",
            "Epoch: 7 , Iteration: 320 , Training Accuracy: 0.6354525160450191 , Validation Accuracy: 0.6319082754629629\n",
            "Epoch: 8 , Iteration: 40 , Training Accuracy: 0.6348944284252628 , Validation Accuracy: 0.6287977430555556\n",
            "Epoch: 8 , Iteration: 80 , Training Accuracy: 0.6327628437664713 , Validation Accuracy: 0.6265552662037037\n",
            "Epoch: 8 , Iteration: 120 , Training Accuracy: 0.6298328837627507 , Validation Accuracy: 0.6231915509259259\n",
            "Epoch: 8 , Iteration: 160 , Training Accuracy: 0.6363749108610052 , Validation Accuracy: 0.6301721643518519\n",
            "Epoch: 8 , Iteration: 200 , Training Accuracy: 0.6340883018633926 , Validation Accuracy: 0.6262659143518519\n",
            "Epoch: 8 , Iteration: 240 , Training Accuracy: 0.6113462313583232 , Validation Accuracy: 0.6064091435185185\n",
            "Epoch: 8 , Iteration: 280 , Training Accuracy: 0.6345766285306793 , Validation Accuracy: 0.6297381365740741\n",
            "Epoch: 8 , Iteration: 320 , Training Accuracy: 0.6248953585712957 , Validation Accuracy: 0.6182364004629629\n",
            "Epoch: 9 , Iteration: 40 , Training Accuracy: 0.6302126933928627 , Validation Accuracy: 0.6253616898148148\n",
            "Epoch: 9 , Iteration: 80 , Training Accuracy: 0.6328015998511767 , Validation Accuracy: 0.6273509837962963\n",
            "Epoch: 9 , Iteration: 120 , Training Accuracy: 0.6311195857749666 , Validation Accuracy: 0.6259042245370371\n",
            "Epoch: 9 , Iteration: 160 , Training Accuracy: 0.6347161504356184 , Validation Accuracy: 0.6308232060185185\n",
            "Epoch: 9 , Iteration: 200 , Training Accuracy: 0.6335224630266952 , Validation Accuracy: 0.6283637152777778\n",
            "Epoch: 9 , Iteration: 240 , Training Accuracy: 0.6364679254642979 , Validation Accuracy: 0.6316550925925926\n",
            "Epoch: 9 , Iteration: 280 , Training Accuracy: 0.6326310730784733 , Validation Accuracy: 0.6280381944444444\n",
            "Epoch: 9 , Iteration: 320 , Training Accuracy: 0.6296391033392242 , Validation Accuracy: 0.6270978009259259\n",
            "Epoch: 10 , Iteration: 40 , Training Accuracy: 0.6405450655752953 , Validation Accuracy: 0.6371527777777778\n",
            "Epoch: 10 , Iteration: 80 , Training Accuracy: 0.6375530958360462 , Validation Accuracy: 0.6320891203703703\n",
            "Epoch: 10 , Iteration: 120 , Training Accuracy: 0.6382662077946237 , Validation Accuracy: 0.6372251157407407\n",
            "Epoch: 10 , Iteration: 160 , Training Accuracy: 0.6303522152978017 , Validation Accuracy: 0.626953125\n",
            "Epoch: 10 , Iteration: 200 , Training Accuracy: 0.6331891606982296 , Validation Accuracy: 0.6295211226851852\n",
            "Epoch: 10 , Iteration: 240 , Training Accuracy: 0.6346463894831489 , Validation Accuracy: 0.6313657407407407\n",
            "Epoch: 10 , Iteration: 280 , Training Accuracy: 0.6305614981552103 , Validation Accuracy: 0.6261574074074074\n",
            "Epoch: 10 , Iteration: 320 , Training Accuracy: 0.6415604749945741 , Validation Accuracy: 0.6336805555555556\n",
            "Epoch: 10 , Training Accuracy: 0.6422038260006822 , Validation Accuracy: 0.6371527777777778\n"
          ]
        },
        {
          "output_type": "display_data",
          "data": {
            "text/plain": [
              "<Figure size 432x288 with 1 Axes>"
            ],
            "image/png": "[encoded data removed]"
          },
          "metadata": {
            "needs_background": "light"
          }
        },
        {
          "output_type": "display_data",
          "data": {
            "text/plain": [
              "<Figure size 432x288 with 1 Axes>"
            ],
            "image/png": "[encoded data removed]"
          },
          "metadata": {
            "needs_background": "light"
          }
        }
      ]
    },
    {
      "cell_type": "code",
      "source": [
        "# For the third hyperparameter trial, let's change the learning rate to 0.005\n",
        "# and batch size to 50 as we keep obtaining good results\n",
        "fourth_model = AutoEncoder()\n",
        "\n",
        "if torch.cuda.is_available():\n",
        "  fourth_model.cuda()\n",
        "else:\n",
        "  pass\n",
        "\n",
        "train_loader = torch.utils.data.DataLoader(train_data, batch_size=50, shuffle=True)\n",
        "valid_loader = torch.utils.data.DataLoader(val_data, batch_size=50, shuffle=True)\n",
        "train(fourth_model, train_loader, valid_loader, batch_size=50, num_epochs=10, learning_rate=0.005)"
      ],
      "metadata": {
        "colab": {
          "base_uri": "https://localhost:8080/",
          "height": 1000
        },
        "id": "zoVvShQY8jlx",
        "outputId": "8145c0b2-8b53-4f73-aa22-e9cfe67ee258"
      },
      "execution_count": 71,
      "outputs": [
        {
          "output_type": "stream",
          "name": "stdout",
          "text": [
            "Epoch: 1 , Iteration: 40 , Training Accuracy: 0.44135429262394194 , Validation Accuracy: 0.4418041087962963\n",
            "Epoch: 1 , Iteration: 80 , Training Accuracy: 0.534113105757604 , Validation Accuracy: 0.5356264467592593\n",
            "Epoch: 1 , Iteration: 120 , Training Accuracy: 0.5542662698043593 , Validation Accuracy: 0.5556278935185185\n",
            "Epoch: 1 , Iteration: 160 , Training Accuracy: 0.5632111741543422 , Validation Accuracy: 0.5638020833333334\n",
            "Epoch: 1 , Iteration: 200 , Training Accuracy: 0.578752364121167 , Validation Accuracy: 0.5785951967592593\n",
            "Epoch: 1 , Iteration: 240 , Training Accuracy: 0.5695129135274238 , Validation Accuracy: 0.5709635416666666\n",
            "Epoch: 1 , Iteration: 280 , Training Accuracy: 0.5844417573559049 , Validation Accuracy: 0.5821759259259259\n",
            "Epoch: 1 , Iteration: 320 , Training Accuracy: 0.5872321954546864 , Validation Accuracy: 0.5840205439814815\n",
            "Epoch: 1 , Iteration: 360 , Training Accuracy: 0.5921619694292004 , Validation Accuracy: 0.5906394675925926\n",
            "Epoch: 1 , Iteration: 400 , Training Accuracy: 0.604695687222894 , Validation Accuracy: 0.6024667245370371\n",
            "Epoch: 2 , Iteration: 40 , Training Accuracy: 0.6081604811955477 , Validation Accuracy: 0.6038049768518519\n",
            "Epoch: 2 , Iteration: 80 , Training Accuracy: 0.6061839208755775 , Validation Accuracy: 0.5998987268518519\n",
            "Epoch: 2 , Iteration: 120 , Training Accuracy: 0.6074783741047345 , Validation Accuracy: 0.6025390625\n",
            "Epoch: 2 , Iteration: 160 , Training Accuracy: 0.600292996000372 , Validation Accuracy: 0.5984519675925926\n",
            "Epoch: 2 , Iteration: 200 , Training Accuracy: 0.6057653551607602 , Validation Accuracy: 0.6025752314814815\n",
            "Epoch: 2 , Iteration: 240 , Training Accuracy: 0.606121911140049 , Validation Accuracy: 0.599609375\n",
            "Epoch: 2 , Iteration: 280 , Training Accuracy: 0.5976265773726475 , Validation Accuracy: 0.5953414351851852\n",
            "Epoch: 2 , Iteration: 320 , Training Accuracy: 0.6122996310420736 , Validation Accuracy: 0.6073857060185185\n",
            "Epoch: 2 , Iteration: 360 , Training Accuracy: 0.6048042042600689 , Validation Accuracy: 0.5997902199074074\n",
            "Epoch: 2 , Iteration: 400 , Training Accuracy: 0.6119973335813723 , Validation Accuracy: 0.6081452546296297\n",
            "Epoch: 3 , Iteration: 40 , Training Accuracy: 0.5981381576907574 , Validation Accuracy: 0.5939670138888888\n",
            "Epoch: 3 , Iteration: 80 , Training Accuracy: 0.6123073822590147 , Validation Accuracy: 0.6063368055555556\n",
            "Epoch: 3 , Iteration: 120 , Training Accuracy: 0.6119895823644312 , Validation Accuracy: 0.6048900462962963\n",
            "Epoch: 3 , Iteration: 160 , Training Accuracy: 0.6091603881809444 , Validation Accuracy: 0.6027560763888888\n",
            "Epoch: 3 , Iteration: 200 , Training Accuracy: 0.6084705298731901 , Validation Accuracy: 0.6041666666666666\n",
            "Epoch: 3 , Iteration: 240 , Training Accuracy: 0.5951771928192726 , Validation Accuracy: 0.5920862268518519\n",
            "Epoch: 3 , Iteration: 280 , Training Accuracy: 0.6188726630080923 , Validation Accuracy: 0.6132089120370371\n",
            "Epoch: 3 , Iteration: 320 , Training Accuracy: 0.6057576039438192 , Validation Accuracy: 0.6019241898148148\n",
            "Epoch: 3 , Iteration: 360 , Training Accuracy: 0.6060831550553437 , Validation Accuracy: 0.5991753472222222\n",
            "Epoch: 3 , Iteration: 400 , Training Accuracy: 0.6085945493442471 , Validation Accuracy: 0.6045283564814815\n",
            "Epoch: 4 , Iteration: 40 , Training Accuracy: 0.6128034601432425 , Validation Accuracy: 0.6078920717592593\n",
            "Epoch: 4 , Iteration: 80 , Training Accuracy: 0.6156559079775524 , Validation Accuracy: 0.6112919560185185\n",
            "Epoch: 4 , Iteration: 120 , Training Accuracy: 0.6115555142157318 , Validation Accuracy: 0.6048538773148148\n",
            "Epoch: 4 , Iteration: 160 , Training Accuracy: 0.610137041515518 , Validation Accuracy: 0.6063368055555556\n",
            "Epoch: 4 , Iteration: 200 , Training Accuracy: 0.6122531237404273 , Validation Accuracy: 0.6086516203703703\n",
            "Epoch: 4 , Iteration: 240 , Training Accuracy: 0.6149350448020339 , Validation Accuracy: 0.611328125\n",
            "Epoch: 4 , Iteration: 280 , Training Accuracy: 0.6183455802561002 , Validation Accuracy: 0.6159215856481481\n",
            "Epoch: 4 , Iteration: 320 , Training Accuracy: 0.6112764704058538 , Validation Accuracy: 0.6083622685185185\n",
            "Epoch: 4 , Iteration: 360 , Training Accuracy: 0.6104625926270425 , Validation Accuracy: 0.6046006944444444\n",
            "Epoch: 4 , Iteration: 400 , Training Accuracy: 0.5920534523920256 , Validation Accuracy: 0.5891203703703703\n",
            "Epoch: 5 , Iteration: 40 , Training Accuracy: 0.5903791895327566 , Validation Accuracy: 0.5834056712962963\n",
            "Epoch: 5 , Iteration: 80 , Training Accuracy: 0.6116330263851425 , Validation Accuracy: 0.6077835648148148\n",
            "Epoch: 5 , Iteration: 120 , Training Accuracy: 0.6079744519889623 , Validation Accuracy: 0.6036241319444444\n",
            "Epoch: 5 , Iteration: 160 , Training Accuracy: 0.6062691842619291 , Validation Accuracy: 0.6003327546296297\n",
            "Epoch: 5 , Iteration: 200 , Training Accuracy: 0.6183688339069234 , Validation Accuracy: 0.6132089120370371\n",
            "Epoch: 5 , Iteration: 240 , Training Accuracy: 0.6125089138994823 , Validation Accuracy: 0.6064814814814815\n",
            "Epoch: 5 , Iteration: 280 , Training Accuracy: 0.6173534244876445 , Validation Accuracy: 0.6129195601851852\n",
            "Epoch: 5 , Iteration: 320 , Training Accuracy: 0.6125321675503054 , Validation Accuracy: 0.6067346643518519\n",
            "Epoch: 5 , Iteration: 360 , Training Accuracy: 0.6122531237404273 , Validation Accuracy: 0.6062282986111112\n",
            "Epoch: 5 , Iteration: 400 , Training Accuracy: 0.6209267354974731 , Validation Accuracy: 0.6154513888888888\n",
            "Epoch: 6 , Iteration: 40 , Training Accuracy: 0.6302359470436859 , Validation Accuracy: 0.6235894097222222\n",
            "Epoch: 6 , Iteration: 80 , Training Accuracy: 0.6049359749480668 , Validation Accuracy: 0.6023220486111112\n",
            "Epoch: 6 , Iteration: 120 , Training Accuracy: 0.6259572752922209 , Validation Accuracy: 0.6211299189814815\n",
            "Epoch: 6 , Iteration: 160 , Training Accuracy: 0.6180975413139863 , Validation Accuracy: 0.6118706597222222\n",
            "Epoch: 6 , Iteration: 200 , Training Accuracy: 0.6319102099029548 , Validation Accuracy: 0.6278935185185185\n",
            "Epoch: 6 , Iteration: 240 , Training Accuracy: 0.6116485288190245 , Validation Accuracy: 0.6055772569444444\n",
            "Epoch: 6 , Iteration: 280 , Training Accuracy: 0.6239419588875453 , Validation Accuracy: 0.6198640046296297\n",
            "Epoch: 6 , Iteration: 320 , Training Accuracy: 0.6069977986543887 , Validation Accuracy: 0.6032986111111112\n",
            "Epoch: 6 , Iteration: 360 , Training Accuracy: 0.6095712026788206 , Validation Accuracy: 0.6032262731481481\n",
            "Epoch: 6 , Iteration: 400 , Training Accuracy: 0.6079822032059033 , Validation Accuracy: 0.6028645833333334\n",
            "Epoch: 7 , Iteration: 40 , Training Accuracy: 0.617275912318234 , Validation Accuracy: 0.6101707175925926\n",
            "Epoch: 7 , Iteration: 80 , Training Accuracy: 0.6184773509440982 , Validation Accuracy: 0.6112196180555556\n",
            "Epoch: 7 , Iteration: 120 , Training Accuracy: 0.630902551700617 , Validation Accuracy: 0.6256872106481481\n",
            "Epoch: 7 , Iteration: 160 , Training Accuracy: 0.6173534244876445 , Validation Accuracy: 0.6087601273148148\n",
            "Epoch: 7 , Iteration: 200 , Training Accuracy: 0.6187176386692711 , Validation Accuracy: 0.6134982638888888\n",
            "Epoch: 7 , Iteration: 240 , Training Accuracy: 0.6159272005704896 , Validation Accuracy: 0.6076388888888888\n",
            "Epoch: 7 , Iteration: 280 , Training Accuracy: 0.6244922952903605 , Validation Accuracy: 0.6174406828703703\n",
            "Epoch: 7 , Iteration: 320 , Training Accuracy: 0.6299258983660435 , Validation Accuracy: 0.6231915509259259\n",
            "Epoch: 7 , Iteration: 360 , Training Accuracy: 0.6331116485288191 , Validation Accuracy: 0.6291594328703703\n",
            "Epoch: 7 , Iteration: 400 , Training Accuracy: 0.6245310513750659 , Validation Accuracy: 0.6167896412037037\n",
            "Epoch: 8 , Iteration: 40 , Training Accuracy: 0.6269029237590301 , Validation Accuracy: 0.6229021990740741\n",
            "Epoch: 8 , Iteration: 80 , Training Accuracy: 0.6273059870399653 , Validation Accuracy: 0.6216362847222222\n",
            "Epoch: 8 , Iteration: 120 , Training Accuracy: 0.6251666511642328 , Validation Accuracy: 0.6179470486111112\n",
            "Epoch: 8 , Iteration: 160 , Training Accuracy: 0.6256782314823427 , Validation Accuracy: 0.6204788773148148\n",
            "Epoch: 8 , Iteration: 200 , Training Accuracy: 0.6314993954050786 , Validation Accuracy: 0.6258680555555556\n",
            "Epoch: 8 , Iteration: 240 , Training Accuracy: 0.6263215824884507 , Validation Accuracy: 0.6204427083333334\n",
            "Epoch: 8 , Iteration: 280 , Training Accuracy: 0.6226087495736831 , Validation Accuracy: 0.6205150462962963\n",
            "Epoch: 8 , Iteration: 320 , Training Accuracy: 0.6172991659690571 , Validation Accuracy: 0.61328125\n",
            "Epoch: 8 , Iteration: 360 , Training Accuracy: 0.6298793910643972 , Validation Accuracy: 0.6252531828703703\n",
            "Epoch: 8 , Iteration: 400 , Training Accuracy: 0.6254146901063466 , Validation Accuracy: 0.6200810185185185\n",
            "Epoch: 9 , Iteration: 40 , Training Accuracy: 0.634793662605029 , Validation Accuracy: 0.6298828125\n",
            "Epoch: 9 , Iteration: 80 , Training Accuracy: 0.6258875143397513 , Validation Accuracy: 0.619140625\n",
            "Epoch: 9 , Iteration: 120 , Training Accuracy: 0.6312513564629647 , Validation Accuracy: 0.6264467592592593\n",
            "Epoch: 9 , Iteration: 160 , Training Accuracy: 0.6285306793166527 , Validation Accuracy: 0.6226851851851852\n",
            "Epoch: 9 , Iteration: 200 , Training Accuracy: 0.6248023439680029 , Validation Accuracy: 0.6215277777777778\n",
            "Epoch: 9 , Iteration: 240 , Training Accuracy: 0.6313056149815521 , Validation Accuracy: 0.6263382523148148\n",
            "Epoch: 9 , Iteration: 280 , Training Accuracy: 0.6266936409016216 , Validation Accuracy: 0.6221788194444444\n",
            "Epoch: 9 , Iteration: 320 , Training Accuracy: 0.6239342076706043 , Validation Accuracy: 0.6190682870370371\n",
            "Epoch: 9 , Iteration: 360 , Training Accuracy: 0.6323055219669488 , Validation Accuracy: 0.6280381944444444\n",
            "Epoch: 9 , Iteration: 400 , Training Accuracy: 0.6334371996403435 , Validation Accuracy: 0.6273148148148148\n",
            "Epoch: 10 , Iteration: 40 , Training Accuracy: 0.6334216972064615 , Validation Accuracy: 0.6269169560185185\n",
            "Epoch: 10 , Iteration: 80 , Training Accuracy: 0.6296856106408706 , Validation Accuracy: 0.6248553240740741\n",
            "Epoch: 10 , Iteration: 120 , Training Accuracy: 0.6277090503209004 , Validation Accuracy: 0.6231192129629629\n",
            "Epoch: 10 , Iteration: 160 , Training Accuracy: 0.6237326760301367 , Validation Accuracy: 0.6187065972222222\n",
            "Epoch: 10 , Iteration: 200 , Training Accuracy: 0.6198958236443122 , Validation Accuracy: 0.6156684027777778\n",
            "Epoch: 10 , Iteration: 240 , Training Accuracy: 0.6213375499953493 , Validation Accuracy: 0.6170428240740741\n",
            "Epoch: 10 , Iteration: 280 , Training Accuracy: 0.6330883948779958 , Validation Accuracy: 0.6267361111111112\n",
            "Epoch: 10 , Iteration: 320 , Training Accuracy: 0.6268486652404428 , Validation Accuracy: 0.6205150462962963\n",
            "Epoch: 10 , Iteration: 360 , Training Accuracy: 0.6143537035314545 , Validation Accuracy: 0.6051793981481481\n",
            "Epoch: 10 , Iteration: 400 , Training Accuracy: 0.6364059157287694 , Validation Accuracy: 0.6302806712962963\n",
            "Epoch: 10 , Training Accuracy: 0.6250968902117633 , Validation Accuracy: 0.6179108796296297\n"
          ]
        },
        {
          "output_type": "display_data",
          "data": {
            "text/plain": [
              "<Figure size 432x288 with 1 Axes>"
            ],
            "image/png": "[encoded data removed]"
          },
          "metadata": {
            "needs_background": "light"
          }
        },
        {
          "output_type": "display_data",
          "data": {
            "text/plain": [
              "<Figure size 432x288 with 1 Axes>"
            ],
            "image/png": "[encoded data removed]"
          },
          "metadata": {
            "needs_background": "light"
          }
        }
      ]
    },
    {
      "cell_type": "code",
      "source": [
        "# For the final model, let's use these parameters:\n",
        "# Batch size = 64\n",
        "# Learning rate = 0.005\n",
        "# Epochs = 20\n",
        "final_model = AutoEncoder()\n",
        "\n",
        "if torch.cuda.is_available():\n",
        "  final_model.cuda()\n",
        "else:\n",
        "  pass\n",
        "\n",
        "train_loader = torch.utils.data.DataLoader(train_data, batch_size=64, shuffle=True)\n",
        "valid_loader = torch.utils.data.DataLoader(val_data, batch_size=64, shuffle=True)\n",
        "train(final_model, train_loader, valid_loader, batch_size=64, num_epochs=20, learning_rate=0.005)"
      ],
      "metadata": {
        "colab": {
          "base_uri": "https://localhost:8080/",
          "height": 1000
        },
        "id": "ev219dO69ME1",
        "outputId": "66e06129-d15c-4641-8329-371e14730591"
      },
      "execution_count": 72,
      "outputs": [
        {
          "output_type": "stream",
          "name": "stdout",
          "text": [
            "Epoch: 1 , Iteration: 40 , Training Accuracy: 0.463546026726196 , Validation Accuracy: 0.46205873842592593\n",
            "Epoch: 1 , Iteration: 80 , Training Accuracy: 0.45739931169193565 , Validation Accuracy: 0.4563802083333333\n",
            "Epoch: 1 , Iteration: 120 , Training Accuracy: 0.5429494930704121 , Validation Accuracy: 0.5450303819444444\n",
            "Epoch: 1 , Iteration: 160 , Training Accuracy: 0.5483985985799771 , Validation Accuracy: 0.5515769675925926\n",
            "Epoch: 1 , Iteration: 200 , Training Accuracy: 0.5794887297305678 , Validation Accuracy: 0.5771122685185185\n",
            "Epoch: 1 , Iteration: 240 , Training Accuracy: 0.5780470033795306 , Validation Accuracy: 0.5776909722222222\n",
            "Epoch: 1 , Iteration: 280 , Training Accuracy: 0.5946966173689269 , Validation Accuracy: 0.5893012152777778\n",
            "Epoch: 1 , Iteration: 320 , Training Accuracy: 0.5945105881623415 , Validation Accuracy: 0.5903501157407407\n",
            "Epoch: 2 , Iteration: 40 , Training Accuracy: 0.6009751030911853 , Validation Accuracy: 0.5962094907407407\n",
            "Epoch: 2 , Iteration: 80 , Training Accuracy: 0.5999751961057886 , Validation Accuracy: 0.5972222222222222\n",
            "Epoch: 2 , Iteration: 120 , Training Accuracy: 0.605990140452051 , Validation Accuracy: 0.6045283564814815\n",
            "Epoch: 2 , Iteration: 160 , Training Accuracy: 0.6003860106036648 , Validation Accuracy: 0.5975839120370371\n",
            "Epoch: 2 , Iteration: 200 , Training Accuracy: 0.6075093789724987 , Validation Accuracy: 0.6057942708333334\n",
            "Epoch: 2 , Iteration: 240 , Training Accuracy: 0.6107881437385669 , Validation Accuracy: 0.6092664930555556\n",
            "Epoch: 2 , Iteration: 280 , Training Accuracy: 0.615586147025083 , Validation Accuracy: 0.6138237847222222\n",
            "Epoch: 2 , Iteration: 320 , Training Accuracy: 0.6122996310420736 , Validation Accuracy: 0.6104600694444444\n",
            "Epoch: 3 , Iteration: 40 , Training Accuracy: 0.6171984001488233 , Validation Accuracy: 0.6148003472222222\n",
            "Epoch: 3 , Iteration: 80 , Training Accuracy: 0.6135708306204074 , Validation Accuracy: 0.6085069444444444\n",
            "Epoch: 3 , Iteration: 120 , Training Accuracy: 0.6015952004464701 , Validation Accuracy: 0.5943648726851852\n",
            "Epoch: 3 , Iteration: 160 , Training Accuracy: 0.6212057793073512 , Validation Accuracy: 0.6182002314814815\n",
            "Epoch: 3 , Iteration: 200 , Training Accuracy: 0.6210972622701764 , Validation Accuracy: 0.6177662037037037\n",
            "Epoch: 3 , Iteration: 240 , Training Accuracy: 0.607951198338139 , Validation Accuracy: 0.6021050347222222\n",
            "Epoch: 3 , Iteration: 280 , Training Accuracy: 0.6276780454531361 , Validation Accuracy: 0.6228298611111112\n",
            "Epoch: 3 , Iteration: 320 , Training Accuracy: 0.627259479738319 , Validation Accuracy: 0.6231192129629629\n",
            "Epoch: 4 , Iteration: 40 , Training Accuracy: 0.6045406628840728 , Validation Accuracy: 0.5991030092592593\n",
            "Epoch: 4 , Iteration: 80 , Training Accuracy: 0.6256162217468143 , Validation Accuracy: 0.6194299768518519\n",
            "Epoch: 4 , Iteration: 120 , Training Accuracy: 0.6217561157101665 , Validation Accuracy: 0.6187065972222222\n",
            "Epoch: 4 , Iteration: 160 , Training Accuracy: 0.6235621492574334 , Validation Accuracy: 0.6182002314814815\n",
            "Epoch: 4 , Iteration: 200 , Training Accuracy: 0.6280423526493659 , Validation Accuracy: 0.6217447916666666\n",
            "Epoch: 4 , Iteration: 240 , Training Accuracy: 0.6146172449074505 , Validation Accuracy: 0.6111111111111112\n",
            "Epoch: 4 , Iteration: 280 , Training Accuracy: 0.6249573683068241 , Validation Accuracy: 0.6187065972222222\n",
            "Epoch: 4 , Iteration: 320 , Training Accuracy: 0.6234303785694354 , Validation Accuracy: 0.6174768518518519\n",
            "Epoch: 5 , Iteration: 40 , Training Accuracy: 0.6204461600471274 , Validation Accuracy: 0.6158492476851852\n",
            "Epoch: 5 , Iteration: 80 , Training Accuracy: 0.6262750751868044 , Validation Accuracy: 0.6220703125\n",
            "Epoch: 5 , Iteration: 120 , Training Accuracy: 0.624670573280005 , Validation Accuracy: 0.6192491319444444\n",
            "Epoch: 5 , Iteration: 160 , Training Accuracy: 0.6256007193129322 , Validation Accuracy: 0.6205150462962963\n",
            "Epoch: 5 , Iteration: 200 , Training Accuracy: 0.6206089356028897 , Validation Accuracy: 0.6155598958333334\n",
            "Epoch: 5 , Iteration: 240 , Training Accuracy: 0.6021145319815211 , Validation Accuracy: 0.5970052083333334\n",
            "Epoch: 5 , Iteration: 280 , Training Accuracy: 0.6272517285213779 , Validation Accuracy: 0.6235532407407407\n",
            "Epoch: 5 , Iteration: 320 , Training Accuracy: 0.6197330480885499 , Validation Accuracy: 0.6167896412037037\n",
            "Epoch: 6 , Iteration: 40 , Training Accuracy: 0.618841658140328 , Validation Accuracy: 0.6116898148148148\n",
            "Epoch: 6 , Iteration: 80 , Training Accuracy: 0.6275152698973739 , Validation Accuracy: 0.6221788194444444\n",
            "Epoch: 6 , Iteration: 120 , Training Accuracy: 0.6238256906334294 , Validation Accuracy: 0.6185980902777778\n",
            "Epoch: 6 , Iteration: 160 , Training Accuracy: 0.6237249248131956 , Validation Accuracy: 0.6188151041666666\n",
            "Epoch: 6 , Iteration: 200 , Training Accuracy: 0.6314528881034323 , Validation Accuracy: 0.6259042245370371\n",
            "Epoch: 6 , Iteration: 240 , Training Accuracy: 0.6225157349703904 , Validation Accuracy: 0.6177300347222222\n",
            "Epoch: 6 , Iteration: 280 , Training Accuracy: 0.6225932471398009 , Validation Accuracy: 0.6154152199074074\n",
            "Epoch: 6 , Iteration: 320 , Training Accuracy: 0.6294608253495799 , Validation Accuracy: 0.6233362268518519\n",
            "Epoch: 7 , Iteration: 40 , Training Accuracy: 0.6366462034539423 , Validation Accuracy: 0.62890625\n",
            "Epoch: 7 , Iteration: 80 , Training Accuracy: 0.6331349021796422 , Validation Accuracy: 0.6282913773148148\n",
            "Epoch: 7 , Iteration: 120 , Training Accuracy: 0.6288794840790004 , Validation Accuracy: 0.6254340277777778\n",
            "Epoch: 7 , Iteration: 160 , Training Accuracy: 0.6359330914953648 , Validation Accuracy: 0.6291956018518519\n",
            "Epoch: 7 , Iteration: 200 , Training Accuracy: 0.6303057079961554 , Validation Accuracy: 0.6243127893518519\n",
            "Epoch: 7 , Iteration: 240 , Training Accuracy: 0.6164310296716584 , Validation Accuracy: 0.6124131944444444\n",
            "Epoch: 7 , Iteration: 280 , Training Accuracy: 0.6153226056490869 , Validation Accuracy: 0.6094473379629629\n",
            "Epoch: 7 , Iteration: 320 , Training Accuracy: 0.6409791337239946 , Validation Accuracy: 0.6360677083333334\n",
            "Epoch: 8 , Iteration: 40 , Training Accuracy: 0.6379639103339224 , Validation Accuracy: 0.6310763888888888\n",
            "Epoch: 8 , Iteration: 80 , Training Accuracy: 0.6334449508572846 , Validation Accuracy: 0.6254701967592593\n",
            "Epoch: 8 , Iteration: 120 , Training Accuracy: 0.6326000682107091 , Validation Accuracy: 0.6266276041666666\n",
            "Epoch: 8 , Iteration: 160 , Training Accuracy: 0.6390413294887297 , Validation Accuracy: 0.6343677662037037\n",
            "Epoch: 8 , Iteration: 200 , Training Accuracy: 0.6306312591076799 , Validation Accuracy: 0.6241319444444444\n",
            "Epoch: 8 , Iteration: 240 , Training Accuracy: 0.625329426719995 , Validation Accuracy: 0.6188874421296297\n",
            "Epoch: 8 , Iteration: 280 , Training Accuracy: 0.638033671286392 , Validation Accuracy: 0.6329210069444444\n",
            "Epoch: 8 , Iteration: 320 , Training Accuracy: 0.6305692493721514 , Validation Accuracy: 0.6240596064814815\n",
            "Epoch: 9 , Iteration: 40 , Training Accuracy: 0.6405915728769417 , Validation Accuracy: 0.6345847800925926\n",
            "Epoch: 9 , Iteration: 80 , Training Accuracy: 0.6337860044026912 , Validation Accuracy: 0.6265552662037037\n",
            "Epoch: 9 , Iteration: 120 , Training Accuracy: 0.6212522866089976 , Validation Accuracy: 0.6156322337962963\n",
            "Epoch: 9 , Iteration: 160 , Training Accuracy: 0.6280423526493659 , Validation Accuracy: 0.6239872685185185\n",
            "Epoch: 9 , Iteration: 200 , Training Accuracy: 0.6369407496977025 , Validation Accuracy: 0.6310040509259259\n",
            "Epoch: 9 , Iteration: 240 , Training Accuracy: 0.6213142963445261 , Validation Accuracy: 0.6140769675925926\n",
            "Epoch: 9 , Iteration: 280 , Training Accuracy: 0.6385297491706198 , Validation Accuracy: 0.6308955439814815\n",
            "Epoch: 9 , Iteration: 320 , Training Accuracy: 0.6364369205965337 , Validation Accuracy: 0.6316189236111112\n",
            "Epoch: 10 , Iteration: 40 , Training Accuracy: 0.6354370136111369 , Validation Accuracy: 0.6305700231481481\n",
            "Epoch: 10 , Iteration: 80 , Training Accuracy: 0.6273137382569063 , Validation Accuracy: 0.6207682291666666\n",
            "Epoch: 10 , Iteration: 120 , Training Accuracy: 0.637522090968282 , Validation Accuracy: 0.6312572337962963\n",
            "Epoch: 10 , Iteration: 160 , Training Accuracy: 0.6408628654698788 , Validation Accuracy: 0.6343315972222222\n",
            "Epoch: 10 , Iteration: 200 , Training Accuracy: 0.6305304932874461 , Validation Accuracy: 0.6233362268518519\n",
            "Epoch: 10 , Iteration: 240 , Training Accuracy: 0.6308637956159117 , Validation Accuracy: 0.6246744791666666\n",
            "Epoch: 10 , Iteration: 280 , Training Accuracy: 0.639723436579543 , Validation Accuracy: 0.6345124421296297\n",
            "Epoch: 10 , Iteration: 320 , Training Accuracy: 0.6381964468421543 , Validation Accuracy: 0.6328848379629629\n",
            "Epoch: 11 , Iteration: 40 , Training Accuracy: 0.6254379437571699 , Validation Accuracy: 0.6222511574074074\n",
            "Epoch: 11 , Iteration: 80 , Training Accuracy: 0.6340262921278641 , Validation Accuracy: 0.6297743055555556\n",
            "Epoch: 11 , Iteration: 120 , Training Accuracy: 0.6304839859857998 , Validation Accuracy: 0.6260850694444444\n",
            "Epoch: 11 , Iteration: 160 , Training Accuracy: 0.6378321396459244 , Validation Accuracy: 0.6308955439814815\n",
            "Epoch: 11 , Iteration: 200 , Training Accuracy: 0.6346618919170309 , Validation Accuracy: 0.6284722222222222\n",
            "Epoch: 11 , Iteration: 240 , Training Accuracy: 0.6219809010014572 , Validation Accuracy: 0.6142216435185185\n",
            "Epoch: 11 , Iteration: 280 , Training Accuracy: 0.6413511921371655 , Validation Accuracy: 0.6346209490740741\n",
            "Epoch: 11 , Iteration: 320 , Training Accuracy: 0.6399172170030695 , Validation Accuracy: 0.6348017939814815\n",
            "Epoch: 12 , Iteration: 40 , Training Accuracy: 0.6410954019781105 , Validation Accuracy: 0.6338252314814815\n",
            "Epoch: 12 , Iteration: 80 , Training Accuracy: 0.6423588503395034 , Validation Accuracy: 0.6358868634259259\n",
            "Epoch: 12 , Iteration: 120 , Training Accuracy: 0.6219653985675752 , Validation Accuracy: 0.6161024305555556\n",
            "Epoch: 12 , Iteration: 160 , Training Accuracy: 0.6328093510681176 , Validation Accuracy: 0.6266276041666666\n",
            "Epoch: 12 , Iteration: 200 , Training Accuracy: 0.6233218615322605 , Validation Accuracy: 0.6198640046296297\n",
            "Epoch: 12 , Iteration: 240 , Training Accuracy: 0.6327318388987071 , Validation Accuracy: 0.6299551504629629\n",
            "Epoch: 12 , Iteration: 280 , Training Accuracy: 0.6354215111772549 , Validation Accuracy: 0.6279658564814815\n",
            "Epoch: 12 , Iteration: 320 , Training Accuracy: 0.6405838216600006 , Validation Accuracy: 0.6329933449074074\n",
            "Epoch: 13 , Iteration: 40 , Training Accuracy: 0.6352509844045515 , Validation Accuracy: 0.6324146412037037\n",
            "Epoch: 13 , Iteration: 80 , Training Accuracy: 0.6432657427216073 , Validation Accuracy: 0.6358145254629629\n",
            "Epoch: 13 , Iteration: 120 , Training Accuracy: 0.6397079341456609 , Validation Accuracy: 0.6327763310185185\n",
            "Epoch: 13 , Iteration: 160 , Training Accuracy: 0.6306700151923852 , Validation Accuracy: 0.6249276620370371\n",
            "Epoch: 13 , Iteration: 200 , Training Accuracy: 0.6415139676929278 , Validation Accuracy: 0.6341869212962963\n",
            "Epoch: 13 , Iteration: 240 , Training Accuracy: 0.6380414225033331 , Validation Accuracy: 0.6323784722222222\n",
            "Epoch: 13 , Iteration: 280 , Training Accuracy: 0.6432812451554895 , Validation Accuracy: 0.6370081018518519\n",
            "Epoch: 13 , Iteration: 320 , Training Accuracy: 0.6447384739404086 , Validation Accuracy: 0.6369357638888888\n",
            "Epoch: 14 , Iteration: 40 , Training Accuracy: 0.636351657210182 , Validation Accuracy: 0.6275679976851852\n",
            "Epoch: 14 , Iteration: 80 , Training Accuracy: 0.6322280097975382 , Validation Accuracy: 0.6267722800925926\n",
            "Epoch: 14 , Iteration: 120 , Training Accuracy: 0.6393901342510774 , Validation Accuracy: 0.6346932870370371\n",
            "Epoch: 14 , Iteration: 160 , Training Accuracy: 0.6407853533004682 , Validation Accuracy: 0.6337167245370371\n",
            "Epoch: 14 , Iteration: 200 , Training Accuracy: 0.629484079000403 , Validation Accuracy: 0.6235170717592593\n",
            "Epoch: 14 , Iteration: 240 , Training Accuracy: 0.6264378507425666 , Validation Accuracy: 0.619140625\n",
            "Epoch: 14 , Iteration: 280 , Training Accuracy: 0.6296546057731064 , Validation Accuracy: 0.6225766782407407\n",
            "Epoch: 14 , Iteration: 320 , Training Accuracy: 0.6338635165721018 , Validation Accuracy: 0.6287977430555556\n",
            "Epoch: 15 , Iteration: 40 , Training Accuracy: 0.6404055436703563 , Validation Accuracy: 0.6320529513888888\n",
            "Epoch: 15 , Iteration: 80 , Training Accuracy: 0.6400799925588317 , Validation Accuracy: 0.6328125\n",
            "Epoch: 15 , Iteration: 120 , Training Accuracy: 0.6417077481164543 , Validation Accuracy: 0.6337528935185185\n",
            "Epoch: 15 , Iteration: 160 , Training Accuracy: 0.6423666015564443 , Validation Accuracy: 0.6356698495370371\n",
            "Epoch: 15 , Iteration: 200 , Training Accuracy: 0.6374755836666357 , Validation Accuracy: 0.6310040509259259\n",
            "Epoch: 15 , Iteration: 240 , Training Accuracy: 0.6453973273803987 , Validation Accuracy: 0.6365740740740741\n",
            "Epoch: 15 , Iteration: 280 , Training Accuracy: 0.646854556165318 , Validation Accuracy: 0.6413483796296297\n",
            "Epoch: 15 , Iteration: 320 , Training Accuracy: 0.6389250612346138 , Validation Accuracy: 0.630859375\n",
            "Epoch: 16 , Iteration: 40 , Training Accuracy: 0.6465832635723808 , Validation Accuracy: 0.6391420717592593\n",
            "Epoch: 16 , Iteration: 80 , Training Accuracy: 0.6426688990171457 , Validation Accuracy: 0.6374059606481481\n",
            "Epoch: 16 , Iteration: 120 , Training Accuracy: 0.6465910147893219 , Validation Accuracy: 0.6400824652777778\n",
            "Epoch: 16 , Iteration: 160 , Training Accuracy: 0.641544972560692 , Validation Accuracy: 0.6342954282407407\n",
            "Epoch: 16 , Iteration: 200 , Training Accuracy: 0.6416302359470437 , Validation Accuracy: 0.6359953703703703\n",
            "Epoch: 16 , Iteration: 240 , Training Accuracy: 0.6445369422999411 , Validation Accuracy: 0.6358145254629629\n",
            "Epoch: 16 , Iteration: 280 , Training Accuracy: 0.6487846091836418 , Validation Accuracy: 0.6419994212962963\n",
            "Epoch: 16 , Iteration: 320 , Training Accuracy: 0.6431184695997272 , Validation Accuracy: 0.6365379050925926\n",
            "Epoch: 17 , Iteration: 40 , Training Accuracy: 0.6455446005022789 , Validation Accuracy: 0.6400824652777778\n",
            "Epoch: 17 , Iteration: 80 , Training Accuracy: 0.6336542337146932 , Validation Accuracy: 0.6279296875\n",
            "Epoch: 17 , Iteration: 120 , Training Accuracy: 0.6464980001860292 , Validation Accuracy: 0.6378761574074074\n",
            "Epoch: 17 , Iteration: 160 , Training Accuracy: 0.6472731218801352 , Validation Accuracy: 0.6393229166666666\n",
            "Epoch: 17 , Iteration: 200 , Training Accuracy: 0.6370182618671132 , Validation Accuracy: 0.6288700810185185\n",
            "Epoch: 17 , Iteration: 240 , Training Accuracy: 0.645172542089108 , Validation Accuracy: 0.6396122685185185\n",
            "Epoch: 17 , Iteration: 280 , Training Accuracy: 0.6445756983846463 , Validation Accuracy: 0.6368634259259259\n",
            "Epoch: 17 , Iteration: 320 , Training Accuracy: 0.6486605897125849 , Validation Accuracy: 0.6427951388888888\n",
            "Epoch: 18 , Iteration: 40 , Training Accuracy: 0.6468778098161412 , Validation Accuracy: 0.6399739583333334\n",
            "Epoch: 18 , Iteration: 80 , Training Accuracy: 0.6476994388118935 , Validation Accuracy: 0.6395760995370371\n",
            "Epoch: 18 , Iteration: 120 , Training Accuracy: 0.6455446005022789 , Validation Accuracy: 0.6376591435185185\n",
            "Epoch: 18 , Iteration: 160 , Training Accuracy: 0.645172542089108 , Validation Accuracy: 0.638671875\n",
            "Epoch: 18 , Iteration: 200 , Training Accuracy: 0.6366384522370012 , Validation Accuracy: 0.6289785879629629\n",
            "Epoch: 18 , Iteration: 240 , Training Accuracy: 0.6348401699066754 , Validation Accuracy: 0.6287254050925926\n",
            "Epoch: 18 , Iteration: 280 , Training Accuracy: 0.6420100455771556 , Validation Accuracy: 0.6358145254629629\n",
            "Epoch: 18 , Iteration: 320 , Training Accuracy: 0.6484358044212941 , Validation Accuracy: 0.6435546875\n",
            "Epoch: 19 , Iteration: 40 , Training Accuracy: 0.646862307382259 , Validation Accuracy: 0.6423972800925926\n",
            "Epoch: 19 , Iteration: 80 , Training Accuracy: 0.6420177967940967 , Validation Accuracy: 0.6367910879629629\n",
            "Epoch: 19 , Iteration: 120 , Training Accuracy: 0.6384599882181502 , Validation Accuracy: 0.6304253472222222\n",
            "Epoch: 19 , Iteration: 160 , Training Accuracy: 0.637777881127337 , Validation Accuracy: 0.6311848958333334\n",
            "Epoch: 19 , Iteration: 200 , Training Accuracy: 0.641033392242582 , Validation Accuracy: 0.6333188657407407\n",
            "Epoch: 19 , Iteration: 240 , Training Accuracy: 0.6438238303413636 , Validation Accuracy: 0.6380570023148148\n",
            "Epoch: 19 , Iteration: 280 , Training Accuracy: 0.6470483365888444 , Validation Accuracy: 0.6409866898148148\n",
            "Epoch: 19 , Iteration: 320 , Training Accuracy: 0.6356617989024277 , Validation Accuracy: 0.6275679976851852\n",
            "Epoch: 20 , Iteration: 40 , Training Accuracy: 0.6456453663225127 , Validation Accuracy: 0.6372612847222222\n",
            "Epoch: 20 , Iteration: 80 , Training Accuracy: 0.6418240163705702 , Validation Accuracy: 0.6343677662037037\n",
            "Epoch: 20 , Iteration: 120 , Training Accuracy: 0.6460949369050941 , Validation Accuracy: 0.6424696180555556\n",
            "Epoch: 20 , Iteration: 160 , Training Accuracy: 0.6365066815490031 , Validation Accuracy: 0.6300998263888888\n",
            "Epoch: 20 , Iteration: 200 , Training Accuracy: 0.6500713111958577 , Validation Accuracy: 0.6433015046296297\n",
            "Epoch: 20 , Iteration: 240 , Training Accuracy: 0.6446764642048801 , Validation Accuracy: 0.6378399884259259\n",
            "Epoch: 20 , Iteration: 280 , Training Accuracy: 0.6448159861098193 , Validation Accuracy: 0.6376229745370371\n",
            "Epoch: 20 , Iteration: 320 , Training Accuracy: 0.6426456453663225 , Validation Accuracy: 0.6362485532407407\n",
            "Epoch: 20 , Training Accuracy: 0.651009208445726 , Validation Accuracy: 0.6447120949074074\n"
          ]
        },
        {
          "output_type": "display_data",
          "data": {
            "text/plain": [
              "<Figure size 432x288 with 1 Axes>"
            ],
            "image/png": "[encoded data removed]"
          },
          "metadata": {
            "needs_background": "light"
          }
        },
        {
          "output_type": "display_data",
          "data": {
            "text/plain": [
              "<Figure size 432x288 with 1 Axes>"
            ],
            "image/png": "[encoded data removed]"
          },
          "metadata": {
            "needs_background": "light"
          }
        }
      ]
    },
    {
      "cell_type": "markdown",
      "source": [
        "I elect to use my final_model as comparing it to my other models, it offered me the optimal training and validation accuracy. The highest training accuracy obtained was 65.1% and the highest validation accuracy obtained was 64.5%."
      ],
      "metadata": {
        "id": "IdMWXTdCA95c"
      }
    },
    {
      "cell_type": "markdown",
      "metadata": {
        "id": "ymCsZH291prI"
      },
      "source": [
        "## Part 4. Testing [12 pt]\n",
        "\n",
        "### Part (a) [2 pt]\n",
        "\n",
        "Compute and report the test accuracy."
      ]
    },
    {
      "cell_type": "code",
      "execution_count": 73,
      "metadata": {
        "collapsed": true,
        "id": "0OkSbup91prJ",
        "jupyter": {
          "outputs_hidden": true
        },
        "colab": {
          "base_uri": "https://localhost:8080/"
        },
        "outputId": "c77f0fe1-1b74-434d-e90e-4c3d3d577b8d"
      },
      "outputs": [
        {
          "output_type": "stream",
          "name": "stdout",
          "text": [
            "The test accuracy is: 64.77864583333334%\n"
          ]
        }
      ],
      "source": [
        "test_loader = torch.utils.data.DataLoader(test_data, batch_size=batch_size, shuffle=True)\n",
        "test_accuracy = get_accuracy(final_model, test_loader)*100\n",
        "print(\"The test accuracy is: \" + str(test_accuracy) + \"%\")"
      ]
    },
    {
      "cell_type": "markdown",
      "metadata": {
        "id": "UEe9yt6L1prM"
      },
      "source": [
        "### Part (b) [4 pt]\n",
        "\n",
        "Based on the test accuracy alone, it is difficult to assess whether our model\n",
        "is actually performing well. We don't know whether a high accuracy is due to\n",
        "the simplicity of the problem, or if a poor accuracy is a result of the inherent\n",
        "difficulty of the problem.\n",
        "\n",
        "It is therefore very important to be able to compare our model to at least one\n",
        "alternative. In particular, we consider a simple **baseline**\n",
        "model that is not very computationally expensive. Our neural network\n",
        "should at least outperform this baseline model. If our network is not much\n",
        "better than the baseline, then it is not doing well.\n",
        "\n",
        "For our data imputation problem, consider the following baseline model:\n",
        "to predict a missing feature, the baseline model will look at the **most common value** of the feature in the training set. \n",
        "\n",
        "For example, if the feature \"marriage\" is missing, then this model's prediction will be the most common value for \"marriage\" in the training set, which happens to be \"Married-civ-spouse\".\n",
        "\n",
        "What would be the test accuracy of this baseline model?\n"
      ]
    },
    {
      "cell_type": "code",
      "execution_count": 82,
      "metadata": {
        "collapsed": true,
        "id": "p45VHp011prN",
        "jupyter": {
          "outputs_hidden": true
        },
        "colab": {
          "base_uri": "https://localhost:8080/"
        },
        "outputId": "224743e7-a826-40a1-ea74-2b0df178d009"
      },
      "outputs": [
        {
          "output_type": "stream",
          "name": "stdout",
          "text": [
            "The accuracy of the baseline model is: 46.67947131974738%\n"
          ]
        }
      ],
      "source": [
        "most_common_model = {}\n",
        "\n",
        "for column in df_not_missing.columns:\n",
        "  most_common_model[column] = df_not_missing[column].value_counts().idxmax()\n",
        "\n",
        "baseline_accuracy = sum(df_not_missing['marriage'] == most_common_model['marriage'])/len(df_not_missing)\n",
        "\n",
        "print(\"The accuracy of the baseline model is: \"+ str(baseline_accuracy*100) + \"%\")"
      ]
    },
    {
      "cell_type": "markdown",
      "metadata": {
        "id": "QlHu0wxh1prP"
      },
      "source": [
        "### Part (c) [1 pt]\n",
        "\n",
        "How does your test accuracy from part (a) compared to your basline test accuracy in part (b)?"
      ]
    },
    {
      "cell_type": "markdown",
      "source": [
        "My model has a test accuracy of 64.8% compared to the most common model having an accuracy of 46.7%. I think this is expected as my model looks at all the data and is trained from the training data and optimized by the validation data. Thus, my model performs educated inferences based on patterns seen in the dataset whereas the most common model simply chooses the most frequently used number, ignoring other data."
      ],
      "metadata": {
        "id": "q-_p1HRUGIx9"
      }
    },
    {
      "cell_type": "markdown",
      "metadata": {
        "id": "DfQPgu1Q1prS"
      },
      "source": [
        "### Part (d) [1 pt]\n",
        "\n",
        "Look at the first item in your test data. \n",
        "Do you think it is reasonable for a human\n",
        "to be able to guess this person's education level\n",
        "based on their other features? Explain."
      ]
    },
    {
      "cell_type": "code",
      "source": [
        "get_features(test_data[0])"
      ],
      "metadata": {
        "colab": {
          "base_uri": "https://localhost:8080/"
        },
        "id": "2yGEqyJ2Ir4U",
        "outputId": "d843a1fd-190b-4e7a-af42-831a3c1ad8f7"
      },
      "execution_count": 83,
      "outputs": [
        {
          "output_type": "execute_result",
          "data": {
            "text/plain": [
              "{'work': 'Private',\n",
              " 'marriage': 'Divorced',\n",
              " 'occupation': 'Prof-specialty',\n",
              " 'edu': 'Bachelors',\n",
              " 'relationship': 'Not-in-family',\n",
              " 'sex': 'Male'}"
            ]
          },
          "metadata": {},
          "execution_count": 83
        }
      ]
    },
    {
      "cell_type": "markdown",
      "source": [
        "No I don't think it's reasonable for a human to guess this individual's education level based on the other features. Humans make assumptions about one's education level based on their current career and status. The person in the dataset is a professor so I think most people would assume they completed a PhD degree to become a professor and not just a bachelor's as professors are notorious for going through riguorous schooling. Due to this assumption, I think a human would guess their bachelor's education level incorrectly."
      ],
      "metadata": {
        "id": "ujy-SwwxHXNH"
      }
    },
    {
      "cell_type": "markdown",
      "metadata": {
        "id": "p_d5uuAY1prZ"
      },
      "source": [
        "### Part (e) [2 pt]\n",
        "\n",
        "What is your model's prediction of this person's education\n",
        "level, given their other features?\n"
      ]
    },
    {
      "cell_type": "code",
      "execution_count": 86,
      "metadata": {
        "collapsed": true,
        "id": "kBY5gKXR1pra",
        "jupyter": {
          "outputs_hidden": true
        },
        "colab": {
          "base_uri": "https://localhost:8080/"
        },
        "outputId": "097c0c81-16ce-4abb-b573-93aa369d3e67"
      },
      "outputs": [
        {
          "output_type": "stream",
          "name": "stdout",
          "text": [
            "My model predicts that this person's education is: Bachelors\n"
          ]
        }
      ],
      "source": [
        "first_data = test_data[0]\n",
        "\n",
        "education_first_index = cat_index['edu']\n",
        "education_last_index = cat_index['edu'] + len(cat_values['edu'])\n",
        "\n",
        "first_data[education_first_index:education_last_index] = 0\n",
        "first_data = torch.from_numpy(first_data)\n",
        "first_data = first_data.cuda()\n",
        "\n",
        "model_pred = final_model(first_data)\n",
        "model_pred = model_pred.detach().cpu().numpy()\n",
        "\n",
        "print(\"My model predicts that this person's education is: \" + str(get_feature(model_pred, \"edu\")))"
      ]
    },
    {
      "cell_type": "markdown",
      "source": [
        "My model correctly predicts that the person's education level given their other features is Bachelors. "
      ],
      "metadata": {
        "id": "kYIJAsHCJ2IU"
      }
    },
    {
      "cell_type": "markdown",
      "metadata": {
        "id": "fdLNA0ce1prd"
      },
      "source": [
        "### Part (f) [2 pt]\n",
        "\n",
        "What is the baseline model's prediction\n",
        "of this person's education level?"
      ]
    },
    {
      "cell_type": "code",
      "execution_count": 81,
      "metadata": {
        "collapsed": true,
        "id": "TXgoM9qk1prd",
        "jupyter": {
          "outputs_hidden": true
        },
        "colab": {
          "base_uri": "https://localhost:8080/"
        },
        "outputId": "47f30b17-6eb0-49f3-85ef-deeb1c1f8b70"
      },
      "outputs": [
        {
          "output_type": "stream",
          "name": "stdout",
          "text": [
            "The baseline model's prediction for this person's education is: HS-grad\n"
          ]
        }
      ],
      "source": [
        "baseline_pred = df_not_missing['edu'].value_counts().idxmax()\n",
        "print(\"The baseline model's prediction for this person's education is:\" + str(baseline_pred))"
      ]
    },
    {
      "cell_type": "code",
      "source": [
        "%%shell\n",
        "jupyter nbconvert --to html /PATH/TO/YOUR/NOTEBOOKFILE.ipynb"
      ],
      "metadata": {
        "id": "SOTRePwJK2dj"
      },
      "execution_count": null,
      "outputs": []
    }
  ],
  "metadata": {
    "colab": {
      "collapsed_sections": [],
      "provenance": []
    },
    "kernelspec": {
      "display_name": "Python 3 (ipykernel)",
      "language": "python",
      "name": "python3"
    },
    "language_info": {
      "codemirror_mode": {
        "name": "ipython",
        "version": 3
      },
      "file_extension": ".py",
      "mimetype": "text/x-python",
      "name": "python",
      "nbconvert_exporter": "python",
      "pygments_lexer": "ipython3",
      "version": "3.9.4"
    },
    "accelerator": "GPU"
  },
  "nbformat": 4,
  "nbformat_minor": 0
}