{
  "cells": [
    {
      "cell_type": "markdown",
      "metadata": {
        "id": "_bphECiUa9zw"
      },
      "source": [
        "# Lab 5: Spam Detection\n",
        "\n",
        "In this assignment, we will build a recurrent neural network to classify a SMS text message\n",
        "as \"spam\" or \"not spam\". In the process, you will\n",
        "    \n",
        "1. Clean and process text data for machine learning.\n",
        "2. Understand and implement a character-level recurrent neural network.\n",
        "3. Use torchtext to build recurrent neural network models.\n",
        "4. Understand batching for a recurrent neural network, and use torchtext to implement RNN batching.\n",
        "\n",
        "### What to submit\n",
        "\n",
        "Submit a PDF file containing all your code, outputs, and write-up. You can produce a PDF of your Google Colab file by going to File > Print and then save as PDF. The Colab instructions have more information.\n",
        "\n",
        "Do not submit any other files produced by your code.\n",
        "\n",
        "Include a link to your colab file in your submission."
      ]
    },
    {
      "cell_type": "markdown",
      "metadata": {
        "id": "rWiUqJJTa9z6"
      },
      "source": [
        "## Colab Link\n",
        "\n",
        "Include a link to your Colab file here. If you would like the TA to look at your\n",
        "Colab file in case your solutions are cut off, **please make sure that your Colab\n",
        "file is publicly accessible at the time of submission**."
      ]
    },
    {
      "cell_type": "markdown",
      "metadata": {
        "id": "8ns99-jbRB13"
      },
      "source": [
        "Colab Link: https://colab.research.google.com/drive/1MnXcdsV1WCEvk-cFH54LjmePa0P1uQ_8#scrollTo=8ns99-jbRB13"
      ]
    },
    {
      "cell_type": "markdown",
      "metadata": {
        "id": "RyonQcMbRB14"
      },
      "source": [
        "As we are using the older version of the torchtext, please run the following to downgrade the torchtext version:"
      ]
    },
    {
      "cell_type": "markdown",
      "metadata": {
        "id": "42cH9hWlRB14"
      },
      "source": [
        "!pip install -U torch==1.8.0+cu111 torchtext==0.9.0 -f https://download.pytorch.org/whl/torch_stable.html"
      ]
    },
    {
      "cell_type": "code",
      "source": [
        "!pip install -U torch==1.8.0+cu111 torchtext==0.9.0 -f https://download.pytorch.org/whl/torch_stable.html"
      ],
      "metadata": {
        "colab": {
          "base_uri": "https://localhost:8080/"
        },
        "id": "mGZ2KT6vRN3p",
        "outputId": "22412c32-ba51-4018-afcd-857515e9f486"
      },
      "execution_count": 1,
      "outputs": [
        {
          "output_type": "stream",
          "name": "stdout",
          "text": [
            "Looking in indexes: https://pypi.org/simple, https://us-python.pkg.dev/colab-wheels/public/simple/\n",
            "Looking in links: https://download.pytorch.org/whl/torch_stable.html\n",
            "Collecting torch==1.8.0+cu111\n",
            "  Downloading https://download.pytorch.org/whl/cu111/torch-1.8.0%2Bcu111-cp37-cp37m-linux_x86_64.whl (1982.2 MB)\n",
            "\u001b[K     |█████████████▌                  | 834.1 MB 1.3 MB/s eta 0:14:29tcmalloc: large alloc 1147494400 bytes == 0x3abb4000 @  0x7fe4a7d61615 0x58ead6 0x4f355e 0x4d222f 0x51041f 0x5b4ee6 0x58ff2e 0x510325 0x5b4ee6 0x58ff2e 0x50d482 0x4d00fb 0x50cb8d 0x4d00fb 0x50cb8d 0x4d00fb 0x50cb8d 0x4bac0a 0x538a76 0x590ae5 0x510280 0x5b4ee6 0x58ff2e 0x50d482 0x5b4ee6 0x58ff2e 0x50c4fc 0x58fd37 0x50ca37 0x5b4ee6 0x58ff2e\n",
            "\u001b[K     |█████████████████               | 1055.7 MB 1.7 MB/s eta 0:09:11tcmalloc: large alloc 1434370048 bytes == 0x7f20a000 @  0x7fe4a7d61615 0x58ead6 0x4f355e 0x4d222f 0x51041f 0x5b4ee6 0x58ff2e 0x510325 0x5b4ee6 0x58ff2e 0x50d482 0x4d00fb 0x50cb8d 0x4d00fb 0x50cb8d 0x4d00fb 0x50cb8d 0x4bac0a 0x538a76 0x590ae5 0x510280 0x5b4ee6 0x58ff2e 0x50d482 0x5b4ee6 0x58ff2e 0x50c4fc 0x58fd37 0x50ca37 0x5b4ee6 0x58ff2e\n",
            "\u001b[K     |█████████████████████▋          | 1336.2 MB 1.4 MB/s eta 0:07:58tcmalloc: large alloc 1792966656 bytes == 0x403c000 @  0x7fe4a7d61615 0x58ead6 0x4f355e 0x4d222f 0x51041f 0x5b4ee6 0x58ff2e 0x510325 0x5b4ee6 0x58ff2e 0x50d482 0x4d00fb 0x50cb8d 0x4d00fb 0x50cb8d 0x4d00fb 0x50cb8d 0x4bac0a 0x538a76 0x590ae5 0x510280 0x5b4ee6 0x58ff2e 0x50d482 0x5b4ee6 0x58ff2e 0x50c4fc 0x58fd37 0x50ca37 0x5b4ee6 0x58ff2e\n",
            "\u001b[K     |███████████████████████████▎    | 1691.1 MB 1.3 MB/s eta 0:03:48tcmalloc: large alloc 2241208320 bytes == 0x6ee24000 @  0x7fe4a7d61615 0x58ead6 0x4f355e 0x4d222f 0x51041f 0x5b4ee6 0x58ff2e 0x510325 0x5b4ee6 0x58ff2e 0x50d482 0x4d00fb 0x50cb8d 0x4d00fb 0x50cb8d 0x4d00fb 0x50cb8d 0x4bac0a 0x538a76 0x590ae5 0x510280 0x5b4ee6 0x58ff2e 0x50d482 0x5b4ee6 0x58ff2e 0x50c4fc 0x58fd37 0x50ca37 0x5b4ee6 0x58ff2e\n",
            "\u001b[K     |████████████████████████████████| 1982.2 MB 1.1 MB/s eta 0:00:01tcmalloc: large alloc 1982251008 bytes == 0xf4786000 @  0x7fe4a7d601e7 0x4b2590 0x4b261c 0x58ead6 0x4f355e 0x4d222f 0x51041f 0x5b4ee6 0x58ff2e 0x50ca37 0x5b4ee6 0x58ff2e 0x50ca37 0x5b4ee6 0x58ff2e 0x50ca37 0x5b4ee6 0x58ff2e 0x50ca37 0x5b4ee6 0x58ff2e 0x50ca37 0x58fd37 0x50ca37 0x5b4ee6 0x58ff2e 0x50d482 0x5b4ee6 0x58ff2e 0x50d482 0x5b4ee6\n",
            "tcmalloc: large alloc 2477817856 bytes == 0x1deea8000 @  0x7fe4a7d61615 0x58ead6 0x4f355e 0x4d222f 0x51041f 0x5b4ee6 0x58ff2e 0x50ca37 0x5b4ee6 0x58ff2e 0x50ca37 0x5b4ee6 0x58ff2e 0x50ca37 0x5b4ee6 0x58ff2e 0x50ca37 0x5b4ee6 0x58ff2e 0x50ca37 0x58fd37 0x50ca37 0x5b4ee6 0x58ff2e 0x50d482 0x5b4ee6 0x58ff2e 0x50d482 0x5b4ee6 0x4bad99 0x4d3249\n",
            "\u001b[K     |████████████████████████████████| 1982.2 MB 4.8 kB/s \n",
            "\u001b[?25hCollecting torchtext==0.9.0\n",
            "  Downloading torchtext-0.9.0-cp37-cp37m-manylinux1_x86_64.whl (7.1 MB)\n",
            "\u001b[K     |████████████████████████████████| 7.1 MB 4.1 MB/s \n",
            "\u001b[?25hRequirement already satisfied: typing-extensions in /usr/local/lib/python3.7/dist-packages (from torch==1.8.0+cu111) (4.1.1)\n",
            "Requirement already satisfied: numpy in /usr/local/lib/python3.7/dist-packages (from torch==1.8.0+cu111) (1.21.6)\n",
            "Requirement already satisfied: tqdm in /usr/local/lib/python3.7/dist-packages (from torchtext==0.9.0) (4.64.1)\n",
            "Requirement already satisfied: requests in /usr/local/lib/python3.7/dist-packages (from torchtext==0.9.0) (2.23.0)\n",
            "Requirement already satisfied: certifi>=2017.4.17 in /usr/local/lib/python3.7/dist-packages (from requests->torchtext==0.9.0) (2022.9.24)\n",
            "Requirement already satisfied: idna<3,>=2.5 in /usr/local/lib/python3.7/dist-packages (from requests->torchtext==0.9.0) (2.10)\n",
            "Requirement already satisfied: chardet<4,>=3.0.2 in /usr/local/lib/python3.7/dist-packages (from requests->torchtext==0.9.0) (3.0.4)\n",
            "Requirement already satisfied: urllib3!=1.25.0,!=1.25.1,<1.26,>=1.21.1 in /usr/local/lib/python3.7/dist-packages (from requests->torchtext==0.9.0) (1.24.3)\n",
            "Installing collected packages: torch, torchtext\n",
            "  Attempting uninstall: torch\n",
            "    Found existing installation: torch 1.12.1+cu113\n",
            "    Uninstalling torch-1.12.1+cu113:\n",
            "      Successfully uninstalled torch-1.12.1+cu113\n",
            "  Attempting uninstall: torchtext\n",
            "    Found existing installation: torchtext 0.13.1\n",
            "    Uninstalling torchtext-0.13.1:\n",
            "      Successfully uninstalled torchtext-0.13.1\n",
            "\u001b[31mERROR: pip's dependency resolver does not currently take into account all the packages that are installed. This behaviour is the source of the following dependency conflicts.\n",
            "torchvision 0.13.1+cu113 requires torch==1.12.1, but you have torch 1.8.0+cu111 which is incompatible.\n",
            "torchaudio 0.12.1+cu113 requires torch==1.12.1, but you have torch 1.8.0+cu111 which is incompatible.\u001b[0m\n",
            "Successfully installed torch-1.8.0+cu111 torchtext-0.9.0\n"
          ]
        }
      ]
    },
    {
      "cell_type": "markdown",
      "metadata": {
        "id": "cTCf-JepRB14"
      },
      "source": [
        "If you are interested to use the most recent version if torchtext, you can look at the following document to see how to convert the legacy version to the new version:\n",
        "https://colab.research.google.com/github/pytorch/text/blob/master/examples/legacy_tutorial/migration_tutorial.ipynb"
      ]
    },
    {
      "cell_type": "code",
      "execution_count": 19,
      "metadata": {
        "id": "HgfNOUaPa9z8",
        "tags": []
      },
      "outputs": [],
      "source": [
        "import torch\n",
        "import torch.nn as nn\n",
        "import torch.nn.functional as F\n",
        "import torch.optim as optim\n",
        "import numpy as np\n",
        "import matplotlib.pyplot as plt"
      ]
    },
    {
      "cell_type": "markdown",
      "metadata": {
        "id": "M0jLI9LBa90C"
      },
      "source": [
        "## Part 1. Data Cleaning [15 pt]\n",
        "\n",
        "We will be using the \"SMS Spam Collection Data Set\" available at http://archive.ics.uci.edu/ml/datasets/SMS+Spam+Collection\n",
        "\n",
        "There is a link to download the \"Data Folder\" at the very top of the webpage. Download the zip file, unzip it, and upload the file `SMSSpamCollection` to Colab.    "
      ]
    },
    {
      "cell_type": "code",
      "source": [
        "# Mount to Google Drive\n",
        "from google.colab import drive\n",
        "drive.mount('/content/drive')"
      ],
      "metadata": {
        "colab": {
          "base_uri": "https://localhost:8080/"
        },
        "id": "9x3lBLvCRn8z",
        "outputId": "617294c4-d7ba-40e1-e8df-812a61715b7f"
      },
      "execution_count": 3,
      "outputs": [
        {
          "output_type": "stream",
          "name": "stdout",
          "text": [
            "Mounted at /content/drive\n"
          ]
        }
      ]
    },
    {
      "cell_type": "code",
      "source": [
        "# ONLY NEED TO DO THIS UNZIPPING ONE TIME\n",
        "# Unzip the dataset.zip file\n",
        "#!unzip '/content/drive/MyDrive/Colab Notebooks/APS360/smsspamcollection.zip' -d '/content/drive/MyDrive/Colab Notebooks/APS360/smsspam_dataset'"
      ],
      "metadata": {
        "id": "BwrMWc6HRfRH"
      },
      "execution_count": 4,
      "outputs": []
    },
    {
      "cell_type": "markdown",
      "metadata": {
        "id": "sSuF7C_Ga90E"
      },
      "source": [
        "### Part (a) [2 pt]\n",
        "\n",
        "Open up the file in Python, and print out one example of a spam SMS, and one example of a non-spam SMS.\n",
        "\n",
        "What is the label value for a spam message, and what is the label value for a non-spam message?"
      ]
    },
    {
      "cell_type": "code",
      "execution_count": 5,
      "metadata": {
        "colab": {
          "base_uri": "https://localhost:8080/"
        },
        "collapsed": true,
        "id": "I_IfXHeTa90F",
        "jupyter": {
          "outputs_hidden": true
        },
        "outputId": "136b3a2f-1f46-4347-e2a8-44c32b9bb4ea"
      },
      "outputs": [
        {
          "output_type": "stream",
          "name": "stdout",
          "text": [
            "The label value for a non-spam message: ham\n",
            "Example of a non-spam:  ham\tGo until jurong point, crazy.. Available only in bugis n great world la e buffet... Cine there got amore wat...\n",
            "\n",
            "The label value for a spam message: spam\n",
            "Example of a spam:  spam\tFree entry in 2 a wkly comp to win FA Cup final tkts 21st May 2005. Text FA to 87121 to receive entry question(std txt rate)T&C's apply 08452810075over18's\n",
            "\n"
          ]
        }
      ],
      "source": [
        "first_ham = True\n",
        "for line in open('/content/drive/MyDrive/Colab Notebooks/APS360/smsspam_dataset/SMSSpamCollection'):\n",
        "    if first_ham and line.split()[0] == 'ham':\n",
        "      print(\"The label value for a non-spam message:\", line.split()[0])\n",
        "      print(\"Example of a non-spam: \", line)\n",
        "      first_ham = False\n",
        "    elif not first_ham and line.split()[0] == 'spam':\n",
        "      print(\"The label value for a spam message:\", line.split()[0])\n",
        "      print(\"Example of a spam: \", line)\n",
        "      break"
      ]
    },
    {
      "cell_type": "markdown",
      "metadata": {
        "id": "AukA6vMVa90d"
      },
      "source": [
        "### Part (b) [1 pt]\n",
        "\n",
        "How many spam messages are there in the data set?\n",
        "How many non-spam messages are there in the data set?\n"
      ]
    },
    {
      "cell_type": "code",
      "execution_count": 6,
      "metadata": {
        "colab": {
          "base_uri": "https://localhost:8080/"
        },
        "collapsed": true,
        "id": "LgsqyemVa90e",
        "jupyter": {
          "outputs_hidden": true
        },
        "outputId": "04782a44-4ebe-4108-8e4b-4b0c8dc75da0"
      },
      "outputs": [
        {
          "output_type": "stream",
          "name": "stdout",
          "text": [
            "The total number of spam messages are: 747\n",
            "The total number of non-spam messages are: 4827\n"
          ]
        }
      ],
      "source": [
        "spam_count, ham_count = 0, 0\n",
        "\n",
        "for line in open('/content/drive/MyDrive/Colab Notebooks/APS360/smsspam_dataset/SMSSpamCollection'):\n",
        "  if line.split()[0] == 'spam':\n",
        "    spam_count += 1\n",
        "  else:\n",
        "    ham_count += 1\n",
        "\n",
        "print('The total number of spam messages are:', spam_count)\n",
        "print('The total number of non-spam messages are:', ham_count)"
      ]
    },
    {
      "cell_type": "markdown",
      "metadata": {
        "id": "d1WXxVt6a90h"
      },
      "source": [
        "### Part (c) [4 pt]\n",
        "\n",
        "We will be using the package `torchtext` to load, process, and batch the data.\n",
        "A tutorial to torchtext is available below. This tutorial uses the same\n",
        "Sentiment140 data set that we explored during lecture.\n",
        "\n",
        "https://medium.com/@sonicboom8/sentiment-analysis-torchtext-55fb57b1fab8\n",
        "\n",
        "Unlike what we did during lecture, we will be building a **character level RNN**.\n",
        "That is, we will treat each **character** as a token in our sequence,\n",
        "rather than each **word**.\n",
        "\n",
        "Identify two advantage and two disadvantage of modelling SMS text\n",
        "messages as a sequence of characters rather than a sequence of words."
      ]
    },
    {
      "cell_type": "markdown",
      "source": [
        "The advantages of modelling SMS text messages as a sequence of characters rather than a sequence of words are:\n",
        "\n",
        "1.   Can account for misspelled words, processing abreviations and slang words\n",
        "2.   Can save a lot of memory. This is due to the limited number of characters that are available. Saving word sequences uses a lot more memory because there is a vast word pool available. This implies that the processing of a sequence of characters proceeds more quickly than the processing of a sequence of words.\n",
        "\n",
        "Disdvantages of modelling SMS text messages as a sequence of characters rather than a sequence of words are:\n",
        "\n",
        "1.   It is harder to understand context and meaning from a sequence of characters than it would be for a sequence of words.\n",
        "2.   A larger hidden layer is required to process each character rather than just processing the entire word."
      ],
      "metadata": {
        "id": "E_8evc_N-18G"
      }
    },
    {
      "cell_type": "markdown",
      "metadata": {
        "id": "ie_D0bv9a90k"
      },
      "source": [
        "### Part (d) [1 pt]\n",
        "\n",
        "We will be loading our data set using `torchtext.data.TabularDataset`. The\n",
        "constructor will read directly from the `SMSSpamCollection` file. \n",
        "\n",
        "For the data file to be read successfuly, we\n",
        "need to specify the **fields** (columns) in the file. \n",
        "In our case, the dataset has two fields: \n",
        "\n",
        "- a text field containing the sms messages,\n",
        "- a label field which will be converted into a binary label.\n",
        "\n",
        "Split the dataset into `train`, `valid`, and `test`. Use a 60-20-20 split.\n",
        "You may find this torchtext API page helpful:\n",
        "https://torchtext.readthedocs.io/en/latest/data.html#dataset\n",
        "\n",
        "Hint: There is a `Dataset` method that can perform the random split for you."
      ]
    },
    {
      "cell_type": "code",
      "source": [
        "import torchtext\n",
        "\n",
        "text_field = torchtext.legacy.data.Field(sequential=True,      # text sequence\n",
        "                                  tokenize=lambda x: x, # because are building a character-RNN\n",
        "                                  include_lengths=True, # to track the length of sequences, for batching\n",
        "                                  batch_first=True,\n",
        "                                  use_vocab=True)       # to turn each character into an integer index\n",
        "label_field = torchtext.legacy.data.Field(sequential=False,    # not a sequence\n",
        "                                   use_vocab=False,     # don't need to track vocabulary\n",
        "                                   is_target=True,      \n",
        "                                   batch_first=True,\n",
        "                                   preprocessing=lambda x: int(x == 'spam')) # convert text to 0 and 1\n",
        "\n",
        "fields = [('label', label_field), ('sms', text_field)]\n",
        "dataset = torchtext.legacy.data.TabularDataset(\"/content/drive/MyDrive/Colab Notebooks/APS360/smsspam_dataset/SMSSpamCollection\", # name of the file\n",
        "                                        \"tsv\",               # fields are separated by a tab\n",
        "                                        fields)\n",
        "\n",
        "print(dataset[0].sms)\n",
        "print(dataset[0].label)\n",
        "\n",
        "train, valid, test = dataset.split([0.6, 0.2, 0.2], True)\n",
        "\n",
        "print(\"The length of training data:\", len(train))\n",
        "print(\"The length of validation data:\", len(valid))\n",
        "print(\"The length of testing data:\", len(test))"
      ],
      "metadata": {
        "colab": {
          "base_uri": "https://localhost:8080/"
        },
        "id": "9eo00z6PEP-Z",
        "outputId": "9290c6e4-4b9b-4b92-cc4f-94c916313793"
      },
      "execution_count": 10,
      "outputs": [
        {
          "output_type": "stream",
          "name": "stdout",
          "text": [
            "Go until jurong point, crazy.. Available only in bugis n great world la e buffet... Cine there got amore wat...\n",
            "0\n",
            "The length of training data: 3343\n",
            "The length of validation data: 1115\n",
            "The length of testing data: 1114\n"
          ]
        }
      ]
    },
    {
      "cell_type": "markdown",
      "metadata": {
        "id": "v6nP0Ks_a90o"
      },
      "source": [
        "### Part (e) [2 pt]\n",
        "\n",
        "You saw in part (b) that there are many more non-spam messages than spam messages.\n",
        "This **imbalance** in our training data will be problematic for training.\n",
        "We can fix this disparity by duplicating spam messages in the training set,\n",
        "so that the training set is roughly **balanced**.\n",
        "\n",
        "Explain why having a balanced training set is helpful for training our neural network.\n",
        "\n",
        "Note: if you are not sure, try removing the below code and train your mode."
      ]
    },
    {
      "cell_type": "code",
      "execution_count": 11,
      "metadata": {
        "colab": {
          "base_uri": "https://localhost:8080/"
        },
        "collapsed": true,
        "id": "FWvx9_rka90p",
        "jupyter": {
          "outputs_hidden": true
        },
        "outputId": "bfd6a7cb-930b-4e1a-c634-309d02a1eaeb"
      },
      "outputs": [
        {
          "output_type": "stream",
          "name": "stdout",
          "text": [
            "The new length of training set: 6031\n",
            "The new count of spam in the training set: 2688\n",
            "The new count of spam in the training set: 3343 \n",
            "\n"
          ]
        }
      ],
      "source": [
        "# save the original training examples\n",
        "old_train_examples = train.examples\n",
        "# get all the spam messages in `train`\n",
        "train_spam = []\n",
        "for item in train.examples:\n",
        "    if item.label == 1:\n",
        "        train_spam.append(item)\n",
        "# duplicate each spam message 6 more times\n",
        "train.examples = old_train_examples + train_spam * 6\n",
        "\n",
        "spam_count = len(train_spam) * 6\n",
        "\n",
        "print(\"The new length of training set:\", len(train.examples))\n",
        "print(\"The new count of spam in the training set:\", spam_count)\n",
        "print(\"The new count of spam in the training set:\", len(train.examples) - spam_count, '\\n')"
      ]
    },
    {
      "cell_type": "markdown",
      "source": [
        "It is quite beneficial to have a balanced training set to help our neural network become bias-free. Presently, only 4827 of the 5574 total samples are non-spam, creating an unbalanced training set. As a result, the neural network can presently guess non-spam with an accuracy of 86.6%. Even with such high accuracy, our model is not particularly effective. Simply put, it indicates that the algorithm is selecting the alternative that outperformed our data. By balancing the training set and exposing the model to an equal number of spam and non-spam messages, the model can actually learn to distinguish between the two, improving its ability to identify spam."
      ],
      "metadata": {
        "id": "xfDQaJD3Et3L"
      }
    },
    {
      "cell_type": "markdown",
      "metadata": {
        "id": "j7eUmBEva90r"
      },
      "source": [
        "### Part (f) [1 pt]\n",
        "\n",
        "We need to build the vocabulary on the training data by running the below code.\n",
        "This finds all the possible character tokens in the training set.\n",
        "\n",
        "Explain what the variables `text_field.vocab.stoi` and `text_field.vocab.itos` represent."
      ]
    },
    {
      "cell_type": "code",
      "execution_count": 12,
      "metadata": {
        "colab": {
          "base_uri": "https://localhost:8080/"
        },
        "collapsed": true,
        "id": "8CQM8flKa90s",
        "jupyter": {
          "outputs_hidden": true
        },
        "outputId": "e5fd2253-4091-491e-bdcd-574558c065e6"
      },
      "outputs": [
        {
          "output_type": "execute_result",
          "data": {
            "text/plain": [
              "['<unk>',\n",
              " '<pad>',\n",
              " ' ',\n",
              " 'e',\n",
              " 'o',\n",
              " 't',\n",
              " 'a',\n",
              " 'n',\n",
              " 'r',\n",
              " 'i',\n",
              " 's',\n",
              " 'l',\n",
              " 'u',\n",
              " 'h',\n",
              " 'd',\n",
              " '0',\n",
              " '.',\n",
              " 'c',\n",
              " 'm',\n",
              " 'y',\n",
              " 'w',\n",
              " 'p',\n",
              " 'g',\n",
              " 'f',\n",
              " '1',\n",
              " '2',\n",
              " 'b',\n",
              " 'T',\n",
              " '8',\n",
              " 'k',\n",
              " 'E',\n",
              " 'S',\n",
              " 'v',\n",
              " 'O',\n",
              " '5',\n",
              " 'I',\n",
              " 'C',\n",
              " '4',\n",
              " 'A',\n",
              " 'N',\n",
              " 'x',\n",
              " '7',\n",
              " '6',\n",
              " 'R',\n",
              " '3',\n",
              " '!',\n",
              " ',',\n",
              " 'P',\n",
              " '9',\n",
              " 'M',\n",
              " 'U',\n",
              " 'W',\n",
              " 'H',\n",
              " 'L',\n",
              " 'D',\n",
              " 'F',\n",
              " 'Y',\n",
              " 'B',\n",
              " 'G',\n",
              " \"'\",\n",
              " '/',\n",
              " '?',\n",
              " '£',\n",
              " '&',\n",
              " '-',\n",
              " ':',\n",
              " 'X',\n",
              " 'V',\n",
              " 'z',\n",
              " '*',\n",
              " 'K',\n",
              " 'j',\n",
              " ')',\n",
              " ';',\n",
              " 'J',\n",
              " '+',\n",
              " '(',\n",
              " 'q',\n",
              " '\"',\n",
              " '#',\n",
              " 'Q',\n",
              " '=',\n",
              " '@',\n",
              " 'Z',\n",
              " 'ü',\n",
              " '>',\n",
              " '%',\n",
              " '$',\n",
              " 'Ü',\n",
              " '‘',\n",
              " '|',\n",
              " '<',\n",
              " '\\x92',\n",
              " '“',\n",
              " '_',\n",
              " '…',\n",
              " '[',\n",
              " ']',\n",
              " '\\x93',\n",
              " 'é',\n",
              " '–',\n",
              " '\\\\',\n",
              " '\\x91',\n",
              " '\\x94',\n",
              " '\\x96',\n",
              " '’',\n",
              " 'É',\n",
              " 'è',\n",
              " 'ì',\n",
              " '—',\n",
              " '┾',\n",
              " '〨',\n",
              " '鈥']"
            ]
          },
          "metadata": {},
          "execution_count": 12
        }
      ],
      "source": [
        "text_field.build_vocab(train)\n",
        "text_field.vocab.stoi\n",
        "text_field.vocab.itos"
      ]
    },
    {
      "cell_type": "markdown",
      "source": [
        "The variable text_field.vocab.stoi represents the mapping of strings to numerical identifiers. In this case, each of the characters is mapped to a number.\n",
        "\n",
        "The variable text_field.vocab.itos represents the strings indexed by their numerical identifiers. In this case, this is the list of characters in stoi with the same order."
      ],
      "metadata": {
        "id": "2z0e2XFWFzwu"
      }
    },
    {
      "cell_type": "markdown",
      "metadata": {
        "id": "TC8WVE8Ua90u"
      },
      "source": [
        "### Part (g) [2 pt]\n",
        "\n",
        "The tokens `<unk>` and `<pad>` were not in our SMS text messages.\n",
        "What do these two values represent?"
      ]
    },
    {
      "cell_type": "markdown",
      "source": [
        "`<unk>` represents unknown characters.\n",
        "`<pad>` represents the padding token which is used to increase the size of the data items."
      ],
      "metadata": {
        "id": "azqRIcAPF-qP"
      }
    },
    {
      "cell_type": "markdown",
      "metadata": {
        "id": "Ff5CNk7Qa90y"
      },
      "source": [
        "### Part (h) [2 pt]\n",
        "\n",
        "Since text sequences are of variable length, `torchtext` provides a `BucketIterator` data loader,\n",
        "which batches similar length sequences together. The iterator also provides functionalities to\n",
        "pad sequences automatically.\n",
        "\n",
        "Take a look at 10 batches in `train_iter`. What is the maximum length of the\n",
        "input sequence in each batch? How many `<pad>` tokens are used in each of the 10\n",
        "batches?"
      ]
    },
    {
      "cell_type": "code",
      "execution_count": 13,
      "metadata": {
        "collapsed": true,
        "id": "V8N8qLWOa90y",
        "jupyter": {
          "outputs_hidden": true
        }
      },
      "outputs": [],
      "source": [
        "train_iter = torchtext.legacy.data.BucketIterator(train,\n",
        "                                           batch_size=32,\n",
        "                                           sort_key=lambda x: len(x.sms), # to minimize padding\n",
        "                                           sort_within_batch=True,        # sort within each batch\n",
        "                                           repeat=False)                  # repeat the iterator for many epochs"
      ]
    },
    {
      "cell_type": "code",
      "execution_count": 44,
      "metadata": {
        "colab": {
          "base_uri": "https://localhost:8080/"
        },
        "collapsed": true,
        "id": "Qwz-rOaha902",
        "jupyter": {
          "outputs_hidden": true
        },
        "outputId": "dcacf308-1ebc-476c-e4d1-214c778b1fcd"
      },
      "outputs": [
        {
          "output_type": "stream",
          "name": "stdout",
          "text": [
            "The batch number is: 0\n",
            "The max length of the input sequence in this batch is: 39\n",
            "The count of <pad> is: 21 \n",
            "\n",
            "The batch number is: 1\n",
            "The max length of the input sequence in this batch is: 52\n",
            "The count of <pad> is: 19 \n",
            "\n",
            "The batch number is: 2\n",
            "The max length of the input sequence in this batch is: 45\n",
            "The count of <pad> is: 29 \n",
            "\n",
            "The batch number is: 3\n",
            "The max length of the input sequence in this batch is: 35\n",
            "The count of <pad> is: 22 \n",
            "\n",
            "The batch number is: 4\n",
            "The max length of the input sequence in this batch is: 30\n",
            "The count of <pad> is: 11 \n",
            "\n",
            "The batch number is: 5\n",
            "The max length of the input sequence in this batch is: 59\n",
            "The count of <pad> is: 33 \n",
            "\n",
            "The batch number is: 6\n",
            "The max length of the input sequence in this batch is: 105\n",
            "The count of <pad> is: 62 \n",
            "\n",
            "The batch number is: 7\n",
            "The max length of the input sequence in this batch is: 28\n",
            "The count of <pad> is: 26 \n",
            "\n",
            "The batch number is: 8\n",
            "The max length of the input sequence in this batch is: 27\n",
            "The count of <pad> is: 33 \n",
            "\n",
            "The batch number is: 9\n",
            "The max length of the input sequence in this batch is: 154\n",
            "The count of <pad> is: 0 \n",
            "\n"
          ]
        }
      ],
      "source": [
        "count = 0\n",
        "for batch in train_iter:\n",
        "    if count >= 10:\n",
        "      break\n",
        "    else:\n",
        "      max_len = max(batch.sms[1]).item()\n",
        "      print(\"The batch number is:\", count)\n",
        "      print(\"The max length of the input sequence in this batch is:\", max_len)\n",
        "\n",
        "      padSum = 0\n",
        "      for message in batch.sms[0]:\n",
        "        for pad in message:\n",
        "          if pad == 1:\n",
        "            padSum += 1\n",
        "      print(\"The count of <pad> is:\", padSum, '\\n')\n",
        "      count += 1"
      ]
    },
    {
      "cell_type": "markdown",
      "metadata": {
        "id": "y7HnqP6_a904"
      },
      "source": [
        "## Part 2. Model Building [8 pt]\n",
        "\n",
        "Build a recurrent neural network model, using an architecture of your choosing. \n",
        "Use the one-hot embedding of each character as input to your recurrent network.\n",
        "Use one or more fully-connected layers to make the prediction based on your\n",
        "recurrent network output.\n",
        "\n",
        "Instead of using the RNN output value for the final token, another often used\n",
        "strategy is to max-pool over the entire output array. That is, instead of calling\n",
        "something like:\n",
        "\n",
        "```\n",
        "out, _ = self.rnn(x)\n",
        "self.fc(out[:, -1, :])\n",
        "```\n",
        "\n",
        "where `self.rnn` is an `nn.RNN`, `nn.GRU`, or `nn.LSTM` module, and `self.fc` is a \n",
        "fully-connected \n",
        "layer, we use:\n",
        "\n",
        "```\n",
        "out, _ = self.rnn(x)\n",
        "self.fc(torch.max(out, dim=1)[0])\n",
        "```\n",
        "\n",
        "This works reasonably in practice. An even better alternative is to concatenate the\n",
        "max-pooling and average-pooling of the RNN outputs:\n",
        "\n",
        "```\n",
        "out, _ = self.rnn(x)\n",
        "out = torch.cat([torch.max(out, dim=1)[0], \n",
        "                 torch.mean(out, dim=1)], dim=1)\n",
        "self.fc(out)\n",
        "```\n",
        "\n",
        "We encourage you to try out all these options. The way you pool the RNN outputs\n",
        "is one of the \"hyperparameters\" that you can choose to tune later on."
      ]
    },
    {
      "cell_type": "code",
      "execution_count": 16,
      "metadata": {
        "colab": {
          "base_uri": "https://localhost:8080/"
        },
        "collapsed": true,
        "id": "jHl1p_Wwa905",
        "jupyter": {
          "outputs_hidden": true
        },
        "outputId": "1224089c-1101-4368-a816-21fae65784a5"
      },
      "outputs": [
        {
          "output_type": "stream",
          "name": "stdout",
          "text": [
            "tensor([1., 0., 0., 0., 0., 0., 0., 0., 0., 0.])\n",
            "tensor([0., 1., 0., 0., 0., 0., 0., 0., 0., 0.])\n",
            "tensor([[[0., 1., 0., 0., 0., 0., 0., 0., 0., 0.],\n",
            "         [0., 0., 1., 0., 0., 0., 0., 0., 0., 0.]],\n",
            "\n",
            "        [[0., 0., 0., 1., 0., 0., 0., 0., 0., 0.],\n",
            "         [0., 0., 0., 0., 1., 0., 0., 0., 0., 0.]]])\n"
          ]
        }
      ],
      "source": [
        "# You might find this code helpful for obtaining\n",
        "# PyTorch one-hot vectors.\n",
        "\n",
        "ident = torch.eye(10)\n",
        "print(ident[0]) # one-hot vector\n",
        "print(ident[1]) # one-hot vector\n",
        "x = torch.tensor([[1, 2], [3, 4]])\n",
        "print(ident[x]) # one-hot vectors"
      ]
    },
    {
      "cell_type": "code",
      "execution_count": 17,
      "metadata": {
        "collapsed": true,
        "id": "4LTQ7zFka909",
        "jupyter": {
          "outputs_hidden": true
        }
      },
      "outputs": [],
      "source": [
        "class SpamDetectionRNN(nn.Module):\n",
        "  def __init__(self, input_size, hidden_size, num_classes):\n",
        "    super(SpamDetectionRNN, self).__init__()\n",
        "    self.emb = torch.eye(input_size)\n",
        "    self.hidden_size = hidden_size\n",
        "    self.rnn = nn.RNN(input_size, hidden_size, batch_first= True)\n",
        "    self.fc = nn.Linear(hidden_size*2, num_classes)\n",
        "\n",
        "  def forward(self, x):\n",
        "    # Look up the embedding\n",
        "    x = self.emb[x]\n",
        "    # Set an initial hidden state\n",
        "    h0 = torch.zeros(1, x.size(0), self.hidden_size)\n",
        "    # Forward pass propagate the RNN\n",
        "    out, _ = self.rnn(x, h0)\n",
        "    # Pass the output from the last time step to the classifier\n",
        "    out = self.fc(torch.cat([torch.max(out, dim=1)[0], \n",
        "                 torch.mean(out, dim=1)], dim=1))\n",
        "    return out"
      ]
    },
    {
      "cell_type": "markdown",
      "metadata": {
        "id": "vKIYPl_Ba90_"
      },
      "source": [
        "## Part 3. Training [16 pt]\n",
        "\n",
        "### Part (a) [4 pt]\n",
        "\n",
        "Complete the `get_accuracy` function, which will compute the\n",
        "accuracy (rate) of your model across a dataset (e.g. validation set).\n",
        "You may modify `torchtext.data.BucketIterator` to make your computation\n",
        "faster."
      ]
    },
    {
      "cell_type": "code",
      "execution_count": 22,
      "metadata": {
        "collapsed": true,
        "id": "pvNfhGD6a91A",
        "jupyter": {
          "outputs_hidden": true
        }
      },
      "outputs": [],
      "source": [
        "def get_accuracy(model, data, batch_size):\n",
        "    \"\"\" Compute the accuracy of the `model` across a dataset `data`\n",
        "    \n",
        "    Example usage:\n",
        "    \n",
        "    >>> model = MyRNN() # to be defined\n",
        "    >>> get_accuracy(model, valid) # the variable `valid` is from above\n",
        "    \"\"\"\n",
        "    # Setting up the data loader\n",
        "    # Minimizing padding. Sorting within each batch. Not repeating the iterator for many epochs\n",
        "    dataLoader = torchtext.legacy.data.BucketIterator(data, batch_size=batch_size, sort_key= lambda x: len(x.sms),\n",
        "                                               sort_within_batch = True, repeat = False)\n",
        "\n",
        "    correct, total = 0, 0\n",
        "\n",
        "    for messages, labels in dataLoader:\n",
        "      output = model(messages[0])\n",
        "      prediction = output.max(1, keepdim = True)[1]\n",
        "      correct += prediction.eq(labels.view_as(prediction)).sum().item()\n",
        "      total += labels.shape[0]\n",
        "\n",
        "    return correct / total"
      ]
    },
    {
      "cell_type": "markdown",
      "metadata": {
        "id": "TlxlcAC1a91C"
      },
      "source": [
        "### Part (b) [4 pt]\n",
        "\n",
        "Train your model. Plot the training curve of your final model. \n",
        "Your training curve should have the training/validation loss and\n",
        "accuracy plotted periodically.\n",
        "\n",
        "Note: Not all of your batches will have the same batch size.\n",
        "In particular, if your training set does not divide evenly by\n",
        "your batch size, there will be a batch that is smaller than\n",
        "the rest. "
      ]
    },
    {
      "cell_type": "code",
      "execution_count": 26,
      "metadata": {
        "collapsed": true,
        "id": "CVtf7CJCa91D",
        "jupyter": {
          "outputs_hidden": true
        }
      },
      "outputs": [],
      "source": [
        "def trainRNN(model, training, validation, batch_size=64, num_epochs=15, learning_rate= 1e-4):\n",
        "  criterion = nn.CrossEntropyLoss()\n",
        "  optimizer = torch.optim.Adam(model.parameters(), lr=learning_rate)\n",
        "  training_losses, validation_losses, training_accuracy, validation_accuracy = [], [], [], []\n",
        "  epochs = []\n",
        "\n",
        "  trainingLoader = torchtext.legacy.data.BucketIterator(training, batch_size=batch_size, sort_key= lambda x: len(x.sms),\n",
        "                                               sort_within_batch = True, repeat = False)\n",
        "  \n",
        "  validationLoader = torchtext.legacy.data.BucketIterator(validation, batch_size=batch_size, sort_key= lambda x: len(x.sms),\n",
        "                                               sort_within_batch = True, repeat = False)\n",
        "\n",
        "  for epoch in range(num_epochs):\n",
        "    for messages, labels in trainingLoader:\n",
        "      optimizer.zero_grad()\n",
        "      prediction = model(messages[0])\n",
        "      loss = criterion(prediction, labels)\n",
        "      loss.backward()\n",
        "      optimizer.step()\n",
        "    training_losses.append(float(loss))\n",
        "\n",
        "    for messages, labels in validationLoader:\n",
        "      prediction = model(messages[0])\n",
        "      loss = criterion(prediction, labels)\n",
        "    validation_losses.append(float(loss))\n",
        "\n",
        "    epochs.append(epoch)\n",
        "    \n",
        "    training_accuracy.append(get_accuracy(model, training, batch_size))\n",
        "    validation_accuracy.append(get_accuracy(model, validation, batch_size))\n",
        "\n",
        "    print(\"Epoch:\", epoch + 1, \", Training Accuracy:\", training_accuracy[-1], \", Validation Accuracy:\", validation_accuracy[-1])\n",
        "\n",
        "\n",
        "  #Accuracy Plot\n",
        "  plt.title(\"Training Curve\")\n",
        "  plt.plot(training_accuracy, label='Training')\n",
        "  plt.plot(validation_accuracy, label='Validation')\n",
        "  plt.xlabel('Iterations')\n",
        "  plt.ylabel('Accuracy')\n",
        "  plt.show()\n",
        "\n",
        "  #Loss Plot\n",
        "  plt.title('Training Curve')\n",
        "  plt.plot(training_losses, label='Training')\n",
        "  plt.plot(validation_losses, label='Validation')\n",
        "  plt.xlabel('Iterations')\n",
        "  plt.ylabel('Loss')\n",
        "  plt.show()\n"
      ]
    },
    {
      "cell_type": "code",
      "source": [
        "input_size = len(text_field.vocab.itos)\n",
        "myModel = SpamDetectionRNN(input_size, hidden_size=50, num_classes=2)\n",
        "trainRNN(myModel, train, valid, batch_size=64, num_epochs=15, learning_rate=1e-4)"
      ],
      "metadata": {
        "colab": {
          "base_uri": "https://localhost:8080/",
          "height": 847
        },
        "id": "xWfujF5MHW3g",
        "outputId": "93177e7f-e41c-43de-80f3-f7e6edc328ca"
      },
      "execution_count": 27,
      "outputs": [
        {
          "output_type": "stream",
          "name": "stdout",
          "text": [
            "Epoch: 1 , Training Accuracy: 0.5015751948267285 , Validation Accuracy: 0.820627802690583\n",
            "Epoch: 2 , Training Accuracy: 0.5539711490631736 , Validation Accuracy: 0.23408071748878923\n",
            "Epoch: 3 , Training Accuracy: 0.6770021555297628 , Validation Accuracy: 0.4852017937219731\n",
            "Epoch: 4 , Training Accuracy: 0.6158182722599901 , Validation Accuracy: 0.368609865470852\n",
            "Epoch: 5 , Training Accuracy: 0.580500746144918 , Validation Accuracy: 0.2932735426008969\n",
            "Epoch: 6 , Training Accuracy: 0.7774830044768695 , Validation Accuracy: 0.6565022421524663\n",
            "Epoch: 7 , Training Accuracy: 0.9076438401591775 , Validation Accuracy: 0.8717488789237668\n",
            "Epoch: 8 , Training Accuracy: 0.9156027192837008 , Validation Accuracy: 0.9201793721973094\n",
            "Epoch: 9 , Training Accuracy: 0.9275410379704858 , Validation Accuracy: 0.9282511210762332\n",
            "Epoch: 10 , Training Accuracy: 0.9301939976786603 , Validation Accuracy: 0.9291479820627803\n",
            "Epoch: 11 , Training Accuracy: 0.9353341071132483 , Validation Accuracy: 0.9399103139013453\n",
            "Epoch: 12 , Training Accuracy: 0.9348366771679655 , Validation Accuracy: 0.9255605381165919\n",
            "Epoch: 13 , Training Accuracy: 0.944122036146576 , Validation Accuracy: 0.9381165919282511\n",
            "Epoch: 14 , Training Accuracy: 0.9434587962195324 , Validation Accuracy: 0.9354260089686098\n",
            "Epoch: 15 , Training Accuracy: 0.9459459459459459 , Validation Accuracy: 0.9309417040358744\n"
          ]
        },
        {
          "output_type": "display_data",
          "data": {
            "text/plain": [
              "<Figure size 432x288 with 1 Axes>"
            ],
            "image/png": "[encoded data removed]"
          },
          "metadata": {
            "needs_background": "light"
          }
        },
        {
          "output_type": "display_data",
          "data": {
            "text/plain": [
              "<Figure size 432x288 with 1 Axes>"
            ],
            "image/png": "[encoded data removed]"
          },
          "metadata": {
            "needs_background": "light"
          }
        }
      ]
    },
    {
      "cell_type": "markdown",
      "metadata": {
        "id": "fE3eRkDAa91F"
      },
      "source": [
        "### Part (c) [4 pt]\n",
        "\n",
        "Choose at least 4 hyperparameters to tune. Explain how you tuned the hyperparameters.\n",
        "You don't need to include your training curve for every model you trained.\n",
        "Instead, explain what hyperparemters you tuned, what the best validation accuracy was,\n",
        "and the reasoning behind the hyperparameter decisions you made.\n",
        "\n",
        "For this assignment, you should tune more than just your learning rate and epoch. \n",
        "Choose at least 2 hyperparameters that are unrelated to the optimizer."
      ]
    },
    {
      "cell_type": "code",
      "execution_count": 28,
      "metadata": {
        "colab": {
          "base_uri": "https://localhost:8080/",
          "height": 847
        },
        "collapsed": true,
        "id": "A2GEWfDca91G",
        "jupyter": {
          "outputs_hidden": true
        },
        "outputId": "66cafd7c-ca46-4d45-9004-d9160252a933"
      },
      "outputs": [
        {
          "output_type": "stream",
          "name": "stdout",
          "text": [
            "Epoch: 1 , Training Accuracy: 0.4800198971978113 , Validation Accuracy: 0.8609865470852018\n",
            "Epoch: 2 , Training Accuracy: 0.6304095506549494 , Validation Accuracy: 0.3040358744394619\n",
            "Epoch: 3 , Training Accuracy: 0.7073453821920079 , Validation Accuracy: 0.45022421524663675\n",
            "Epoch: 4 , Training Accuracy: 0.5344055712153871 , Validation Accuracy: 0.14977578475336323\n",
            "Epoch: 5 , Training Accuracy: 0.8006964019233958 , Validation Accuracy: 0.9408071748878923\n",
            "Epoch: 6 , Training Accuracy: 0.930691427623943 , Validation Accuracy: 0.9130044843049328\n",
            "Epoch: 7 , Training Accuracy: 0.9383186867849445 , Validation Accuracy: 0.9372197309417041\n",
            "Epoch: 8 , Training Accuracy: 0.9421323163654453 , Validation Accuracy: 0.9434977578475336\n",
            "Epoch: 9 , Training Accuracy: 0.9404742165478361 , Validation Accuracy: 0.9452914798206278\n",
            "Epoch: 10 , Training Accuracy: 0.9447852760736196 , Validation Accuracy: 0.947085201793722\n",
            "Epoch: 11 , Training Accuracy: 0.9418006964019234 , Validation Accuracy: 0.9497757847533632\n",
            "Epoch: 12 , Training Accuracy: 0.9500911954899685 , Validation Accuracy: 0.9417040358744395\n",
            "Epoch: 13 , Training Accuracy: 0.9515834853258166 , Validation Accuracy: 0.9354260089686098\n",
            "Epoch: 14 , Training Accuracy: 0.9534073951251866 , Validation Accuracy: 0.9443946188340807\n",
            "Epoch: 15 , Training Accuracy: 0.9545680649975129 , Validation Accuracy: 0.9506726457399103\n"
          ]
        },
        {
          "output_type": "display_data",
          "data": {
            "text/plain": [
              "<Figure size 432x288 with 1 Axes>"
            ],
            "image/png": "[encoded data removed]"
          },
          "metadata": {
            "needs_background": "light"
          }
        },
        {
          "output_type": "display_data",
          "data": {
            "text/plain": [
              "<Figure size 432x288 with 1 Axes>"
            ],
            "image/png": "[encoded data removed]"
          },
          "metadata": {
            "needs_background": "light"
          }
        }
      ],
      "source": [
        "# Second model\n",
        "# Here I will be increasing the number of hidden_size, but keeping everything else consistent\n",
        "# Reasoning: Hoping to see more steady results and greater accuracy\n",
        "# hidden_size = 100, num_classes = 2\n",
        "# batch_size = 64, num_epochs = 15, learning_rate = 1e-4\n",
        "input_size = len(text_field.vocab.itos)\n",
        "mySecondModel = SpamDetectionRNN(input_size, hidden_size=100, num_classes=2)\n",
        "trainRNN(mySecondModel, train, valid, batch_size=64, num_epochs=15, learning_rate=1e-4)"
      ]
    },
    {
      "cell_type": "code",
      "source": [
        "# Third model\n",
        "# Here I will be increasing the learning rate, but keeping everything else consistent\n",
        "# I was satisfied with my 100 hidden size\n",
        "# Reasoning: Hoping to see more steady validation results and less error for my training\n",
        "# hidden_size = 100, num_classes = 2\n",
        "# batch_size = 64, num_epochs = 15, learning_rate = 1e-5\n",
        "input_size = len(text_field.vocab.itos)\n",
        "myThirdModel = SpamDetectionRNN(input_size, hidden_size=100, num_classes=2)\n",
        "trainRNN(myThirdModel, train, valid, batch_size=64, num_epochs=15, learning_rate=1e-5)"
      ],
      "metadata": {
        "colab": {
          "base_uri": "https://localhost:8080/",
          "height": 847
        },
        "id": "p2YPVWN5UiJb",
        "outputId": "cd124192-c01a-4fe4-a6eb-6cee998f753d"
      },
      "execution_count": 34,
      "outputs": [
        {
          "output_type": "stream",
          "name": "stdout",
          "text": [
            "Epoch: 1 , Training Accuracy: 0.4800198971978113 , Validation Accuracy: 0.8654708520179372\n",
            "Epoch: 2 , Training Accuracy: 0.4800198971978113 , Validation Accuracy: 0.8654708520179372\n",
            "Epoch: 3 , Training Accuracy: 0.4800198971978113 , Validation Accuracy: 0.8654708520179372\n",
            "Epoch: 4 , Training Accuracy: 0.4800198971978113 , Validation Accuracy: 0.8654708520179372\n",
            "Epoch: 5 , Training Accuracy: 0.4800198971978113 , Validation Accuracy: 0.8654708520179372\n",
            "Epoch: 6 , Training Accuracy: 0.4800198971978113 , Validation Accuracy: 0.8654708520179372\n",
            "Epoch: 7 , Training Accuracy: 0.4800198971978113 , Validation Accuracy: 0.8654708520179372\n",
            "Epoch: 8 , Training Accuracy: 0.4820096169789421 , Validation Accuracy: 0.8654708520179372\n",
            "Epoch: 9 , Training Accuracy: 0.507710164151882 , Validation Accuracy: 0.8663677130044843\n",
            "Epoch: 10 , Training Accuracy: 0.5909467749958548 , Validation Accuracy: 0.873542600896861\n",
            "Epoch: 11 , Training Accuracy: 0.7230973304592937 , Validation Accuracy: 0.8977578475336323\n",
            "Epoch: 12 , Training Accuracy: 0.8615486652296468 , Validation Accuracy: 0.9282511210762332\n",
            "Epoch: 13 , Training Accuracy: 0.9083070800862212 , Validation Accuracy: 0.9309417040358744\n",
            "Epoch: 14 , Training Accuracy: 0.900182390979937 , Validation Accuracy: 0.905829596412556\n",
            "Epoch: 15 , Training Accuracy: 0.7937323826894379 , Validation Accuracy: 0.7569506726457399\n"
          ]
        },
        {
          "output_type": "display_data",
          "data": {
            "text/plain": [
              "<Figure size 432x288 with 1 Axes>"
            ],
            "image/png": "[encoded data removed]"
          },
          "metadata": {
            "needs_background": "light"
          }
        },
        {
          "output_type": "display_data",
          "data": {
            "text/plain": [
              "<Figure size 432x288 with 1 Axes>"
            ],
            "image/png": "[encoded data removed]"
          },
          "metadata": {
            "needs_background": "light"
          }
        }
      ]
    },
    {
      "cell_type": "code",
      "source": [
        "# Fourth model\n",
        "# Here I will be changing the learning rate back to 1e-4 and increasing batch size to 100, but keeping everything else consistent\n",
        "# I was not satisfied with my 1e-5 learning rate, so I'm reverting\n",
        "# Reasoning: Hoping to see more steady validation results and less error for my training\n",
        "# hidden_size = 100, num_classes = 2\n",
        "# batch_size = 100, num_epochs = 15, learning_rate = 1e-4\n",
        "input_size = len(text_field.vocab.itos)\n",
        "myFourthModel = SpamDetectionRNN(input_size, hidden_size=100, num_classes=2)\n",
        "trainRNN(myFourthModel, train, valid, batch_size=100, num_epochs=15, learning_rate=1e-4)"
      ],
      "metadata": {
        "colab": {
          "base_uri": "https://localhost:8080/",
          "height": 847
        },
        "id": "IXEqAznvU6x1",
        "outputId": "a37fd2a9-7264-4142-c75f-beb9ddd691be"
      },
      "execution_count": 33,
      "outputs": [
        {
          "output_type": "stream",
          "name": "stdout",
          "text": [
            "Epoch: 1 , Training Accuracy: 0.5332449013430609 , Validation Accuracy: 0.14618834080717488\n",
            "Epoch: 2 , Training Accuracy: 0.5231304924556458 , Validation Accuracy: 0.13811659192825113\n",
            "Epoch: 3 , Training Accuracy: 0.5199801028021886 , Validation Accuracy: 0.13452914798206278\n",
            "Epoch: 4 , Training Accuracy: 0.7453158680152545 , Validation Accuracy: 0.6269058295964126\n",
            "Epoch: 5 , Training Accuracy: 0.6105123528436411 , Validation Accuracy: 0.3847533632286996\n",
            "Epoch: 6 , Training Accuracy: 0.8804510031503896 , Validation Accuracy: 0.8681614349775785\n",
            "Epoch: 7 , Training Accuracy: 0.8831039628585641 , Validation Accuracy: 0.8448430493273542\n",
            "Epoch: 8 , Training Accuracy: 0.9132813795390482 , Validation Accuracy: 0.8986547085201794\n",
            "Epoch: 9 , Training Accuracy: 0.9139446194660918 , Validation Accuracy: 0.9452914798206278\n",
            "Epoch: 10 , Training Accuracy: 0.8884098822749129 , Validation Accuracy: 0.9426008968609866\n",
            "Epoch: 11 , Training Accuracy: 0.8920577018736527 , Validation Accuracy: 0.9515695067264573\n",
            "Epoch: 12 , Training Accuracy: 0.9350024871497264 , Validation Accuracy: 0.9399103139013453\n",
            "Epoch: 13 , Training Accuracy: 0.9447852760736196 , Validation Accuracy: 0.9506726457399103\n",
            "Epoch: 14 , Training Accuracy: 0.9386503067484663 , Validation Accuracy: 0.9434977578475336\n",
            "Epoch: 15 , Training Accuracy: 0.940805836511358 , Validation Accuracy: 0.9147982062780269\n"
          ]
        },
        {
          "output_type": "display_data",
          "data": {
            "text/plain": [
              "<Figure size 432x288 with 1 Axes>"
            ],
            "image/png": "[encoded data removed]"
          },
          "metadata": {
            "needs_background": "light"
          }
        },
        {
          "output_type": "display_data",
          "data": {
            "text/plain": [
              "<Figure size 432x288 with 1 Axes>"
            ],
            "image/png": "[encoded data removed]"
          },
          "metadata": {
            "needs_background": "light"
          }
        }
      ]
    },
    {
      "cell_type": "code",
      "source": [
        "# Fifth model\n",
        "# Here I will be changing the batch size to 32, but keeping everything else consistent\n",
        "# I was not satisfied with my batch size of 100, so I'm changing to something lower\n",
        "# Reasoning: Hoping to see more steady validation results and less error for my training\n",
        "# hidden_size = 100, num_classes = 2\n",
        "# batch_size = 32, num_epochs = 15, learning_rate = 1e-4\n",
        "input_size = len(text_field.vocab.itos)\n",
        "myFifthModel = SpamDetectionRNN(input_size, hidden_size=100, num_classes=2)\n",
        "trainRNN(myFifthModel, train, valid, batch_size=32, num_epochs=15, learning_rate=1e-4)"
      ],
      "metadata": {
        "colab": {
          "base_uri": "https://localhost:8080/",
          "height": 847
        },
        "id": "JpwURpuSVWP0",
        "outputId": "5041ddcb-c0c9-4521-aff1-15c14d6b4ca4"
      },
      "execution_count": 32,
      "outputs": [
        {
          "output_type": "stream",
          "name": "stdout",
          "text": [
            "Epoch: 1 , Training Accuracy: 0.5221356325650804 , Validation Accuracy: 0.13991031390134528\n",
            "Epoch: 2 , Training Accuracy: 0.9172608191013099 , Validation Accuracy: 0.9022421524663677\n",
            "Epoch: 3 , Training Accuracy: 0.927209418006964 , Validation Accuracy: 0.9363228699551569\n",
            "Epoch: 4 , Training Accuracy: 0.9439562261648151 , Validation Accuracy: 0.9533632286995516\n",
            "Epoch: 5 , Training Accuracy: 0.9454485160006633 , Validation Accuracy: 0.9551569506726457\n",
            "Epoch: 6 , Training Accuracy: 0.9608688443044271 , Validation Accuracy: 0.947085201793722\n",
            "Epoch: 7 , Training Accuracy: 0.9577184546509699 , Validation Accuracy: 0.9300448430493273\n",
            "Epoch: 8 , Training Accuracy: 0.9656773337754933 , Validation Accuracy: 0.95695067264574\n",
            "Epoch: 9 , Training Accuracy: 0.85292654617808 , Validation Accuracy: 0.7318385650224215\n",
            "Epoch: 10 , Training Accuracy: 0.9630243740673189 , Validation Accuracy: 0.9605381165919282\n",
            "Epoch: 11 , Training Accuracy: 0.9626927541037971 , Validation Accuracy: 0.9363228699551569\n",
            "Epoch: 12 , Training Accuracy: 0.9590449345050572 , Validation Accuracy: 0.9704035874439462\n",
            "Epoch: 13 , Training Accuracy: 0.9570552147239264 , Validation Accuracy: 0.968609865470852\n",
            "Epoch: 14 , Training Accuracy: 0.9656773337754933 , Validation Accuracy: 0.9614349775784753\n",
            "Epoch: 15 , Training Accuracy: 0.9626927541037971 , Validation Accuracy: 0.9695067264573991\n"
          ]
        },
        {
          "output_type": "display_data",
          "data": {
            "text/plain": [
              "<Figure size 432x288 with 1 Axes>"
            ],
            "image/png": "[encoded data removed]"
          },
          "metadata": {
            "needs_background": "light"
          }
        },
        {
          "output_type": "display_data",
          "data": {
            "text/plain": [
              "<Figure size 432x288 with 1 Axes>"
            ],
            "image/png": "[encoded data removed]"
          },
          "metadata": {
            "needs_background": "light"
          }
        }
      ]
    },
    {
      "cell_type": "markdown",
      "source": [
        "Per my results, I'm most satisfied with my fifth model. The accuracy training and validation curves are almost identical and steady and the loss curves are respectable as well. The highest validation accuracy I achieved was 97.0%."
      ],
      "metadata": {
        "id": "5xyuehoPXETd"
      }
    },
    {
      "cell_type": "markdown",
      "metadata": {
        "id": "v7DY56rKa91I"
      },
      "source": [
        "### Part (d) [2 pt]\n",
        "\n",
        "Before we deploy a machine learning model, we usually want to have a better understanding\n",
        "of how our model performs beyond its validation accuracy. An important metric to track is\n",
        "*how well our model performs in certain subsets of the data*.\n",
        "\n",
        "In particular, what is the model's error rate amongst data with negative labels?\n",
        "This is called the **false positive rate**.\n",
        "\n",
        "What about the model's error rate amongst data with positive labels?\n",
        "This is called the **false negative rate**.\n",
        "\n",
        "Report your final model's false positive and false negative rate across the\n",
        "validation set."
      ]
    },
    {
      "cell_type": "code",
      "execution_count": 36,
      "metadata": {
        "colab": {
          "base_uri": "https://localhost:8080/"
        },
        "collapsed": true,
        "id": "7ggbQSdba91J",
        "jupyter": {
          "outputs_hidden": true
        },
        "outputId": "a914a85b-18f7-4e39-81b2-0eab6908c86a"
      },
      "outputs": [
        {
          "output_type": "stream",
          "name": "stdout",
          "text": [
            "My final model's false positive rate across the validation set is: 2.1761658031088094 %\n",
            "My final model's false negative rate across the validation set is: 6.000000000000005 %\n"
          ]
        }
      ],
      "source": [
        "# Create a Dataset of only spam validation examples\n",
        "valid_spam = torchtext.legacy.data.Dataset(\n",
        "    [e for e in valid.examples if e.label == 1],\n",
        "    valid.fields)\n",
        "# Create a Dataset of only non-spam validation examples\n",
        "valid_nospam = None # TODO\n",
        "valid_nospam = torchtext.legacy.data.Dataset(\n",
        "    [e for e in valid.examples if e.label == 0],\n",
        "    valid.fields)\n",
        "\n",
        "falsePositiveRate = 1 - get_accuracy(myFifthModel, valid_nospam, 32)\n",
        "falseNegativeRate = 1 - get_accuracy(myFifthModel, valid_spam, 32)\n",
        "\n",
        "print(\"My final model's false positive rate across the validation set is:\", falsePositiveRate*100, \"%\")\n",
        "print(\"My final model's false negative rate across the validation set is:\", falseNegativeRate*100, \"%\")"
      ]
    },
    {
      "cell_type": "markdown",
      "metadata": {
        "id": "N1iRteb3a91O"
      },
      "source": [
        "### Part (e) [2 pt]\n",
        "\n",
        "The impact of a false positive vs a false negative can be drastically different.\n",
        "If our spam detection algorithm was deployed on your phone, what is the impact\n",
        "of a false positive on the phone's user? What is the impact of a false negative?"
      ]
    },
    {
      "cell_type": "markdown",
      "source": [
        "A false positive has the effect of causing the user's phone to mistakenly identify spam content as non-spam. The user will find this annoying because the spam mails will still get through and reach them.\n",
        "\n",
        "False negatives have the effect of causing the user's phone to mistakenly identify non-spam material as spam and prohibit the user from receiving it. This could be a concern since it might prevent the user from seeing potentially crucial information, which might irritate the user."
      ],
      "metadata": {
        "id": "Jf9BlktlYvBJ"
      }
    },
    {
      "cell_type": "markdown",
      "metadata": {
        "id": "Gznefulsa91V"
      },
      "source": [
        "## Part 4. Evaluation [11 pt]\n",
        "\n",
        "### Part (a) [1 pt]\n",
        "\n",
        "Report the final test accuracy of your model."
      ]
    },
    {
      "cell_type": "code",
      "execution_count": 37,
      "metadata": {
        "colab": {
          "base_uri": "https://localhost:8080/"
        },
        "collapsed": true,
        "id": "D5L5D-A1a91W",
        "jupyter": {
          "outputs_hidden": true
        },
        "outputId": "489f5d80-0c67-4a74-e7de-8e564dfae5f3"
      },
      "outputs": [
        {
          "output_type": "stream",
          "name": "stdout",
          "text": [
            "The final test accuracy is: 97.66606822262118 %\n"
          ]
        }
      ],
      "source": [
        "finalTestAccuracy = get_accuracy(myFifthModel, test, 32)\n",
        "print(\"The final test accuracy is:\", finalTestAccuracy*100, \"%\")"
      ]
    },
    {
      "cell_type": "markdown",
      "metadata": {
        "id": "6Hjmd8rca91Y"
      },
      "source": [
        "### Part (b) [3 pt]\n",
        "\n",
        "Report the false positive rate and false negative rate of your model across the test set."
      ]
    },
    {
      "cell_type": "code",
      "execution_count": 38,
      "metadata": {
        "colab": {
          "base_uri": "https://localhost:8080/"
        },
        "collapsed": true,
        "id": "GFiAKztJa91Z",
        "jupyter": {
          "outputs_hidden": true
        },
        "outputId": "7ac01db6-c5f7-4c79-d255-d8528b48029f"
      },
      "outputs": [
        {
          "output_type": "stream",
          "name": "stdout",
          "text": [
            "My final model's false positive rate across the testing set is: 1.865284974093262 %\n",
            "My final model's false negative rate across the testing set is: 6.040268456375841 %\n"
          ]
        }
      ],
      "source": [
        "# Create a Dataset of only spam testing examples\n",
        "test_spam = torchtext.legacy.data.Dataset(\n",
        "    [e for e in test.examples if e.label == 1],\n",
        "    test.fields)\n",
        "# Create a Dataset of only non-spam testing examples\n",
        "test_nospam = torchtext.legacy.data.Dataset(\n",
        "    [e for e in test.examples if e.label == 0],\n",
        "    test.fields)\n",
        "\n",
        "falsePositiveRate = 1 - get_accuracy(myFifthModel, test_nospam, 32)\n",
        "falseNegativeRate = 1 - get_accuracy(myFifthModel, test_spam, 32)\n",
        "\n",
        "print(\"My final model's false positive rate across the testing set is:\", falsePositiveRate*100, \"%\")\n",
        "print(\"My final model's false negative rate across the testing set is:\", falseNegativeRate*100, \"%\")"
      ]
    },
    {
      "cell_type": "markdown",
      "metadata": {
        "id": "0jGHtQFpa91b"
      },
      "source": [
        "### Part (c) [3 pt]\n",
        "\n",
        "What is your model's prediction of the **probability** that\n",
        "the SMS message \"machine learning is sooo cool!\" is spam?\n",
        "\n",
        "Hint: To begin, use `text_field.vocab.stoi` to look up the index\n",
        "of each character in the vocabulary."
      ]
    },
    {
      "cell_type": "code",
      "execution_count": 40,
      "metadata": {
        "colab": {
          "base_uri": "https://localhost:8080/"
        },
        "collapsed": true,
        "id": "h_2nSJq8a91b",
        "jupyter": {
          "outputs_hidden": true
        },
        "outputId": "a2cab4cd-48d8-4715-dafa-0d977ab72ab5"
      },
      "outputs": [
        {
          "output_type": "stream",
          "name": "stdout",
          "text": [
            "tensor([[0.9703, 0.0297]], grad_fn=<SoftmaxBackward>)\n"
          ]
        }
      ],
      "source": [
        "msg = \"machine learning is sooo cool!\"\n",
        "\n",
        "msg_index = []\n",
        "\n",
        "for i in msg:\n",
        "  idx = text_field.vocab.stoi[i]\n",
        "  msg_index.append(idx)\n",
        "\n",
        "msg_tensor = torch.tensor(msg_index).unsqueeze(0)\n",
        "prediction = myFifthModel(msg_tensor)\n",
        "prediction = F.softmax(prediction, dim=1)\n",
        "\n",
        "print(prediction)"
      ]
    },
    {
      "cell_type": "markdown",
      "source": [
        "My model confidently predicts that the probability that the msg, \"machine learning is sooo cool!\", is spam is 2.97%. Therefore, I think my model predicts well because evidently using human intuition, this isn't a spam message so to render such a low spam probability is a good indicator that my model can correctly classify messages."
      ],
      "metadata": {
        "id": "hfdRbAufZzrL"
      }
    },
    {
      "cell_type": "markdown",
      "metadata": {
        "id": "QD1zgYJpa91f"
      },
      "source": [
        "### Part (d) [4 pt]\n",
        "\n",
        "Do you think detecting spam is an easy or difficult task?\n",
        "\n",
        "Since machine learning models are expensive to train and deploy, it is very\n",
        "important to compare our models against baseline models: a simple\n",
        "model that is easy to build and inexpensive to run that we can compare our\n",
        "recurrent neural network model against.\n",
        "\n",
        "Explain how you might build a simple baseline model. This baseline model\n",
        "can be a simple neural network (with very few weights), a hand-written algorithm,\n",
        "or any other strategy that is easy to build and test.\n",
        "\n",
        "**Do not actually build a baseline model. Instead, provide instructions on\n",
        "how to build it.**"
      ]
    },
    {
      "cell_type": "markdown",
      "source": [
        "I believe that it is difficult to detect spam. This is due to the fact that spam can take many different forms. Although I had a testing accuracy of 97% in detecting spam, there are still a lot of false positives and false negatives. Although this percentage might not seem like much, it could be quite significant to attain lower error rates, especially for more vital work. Furthermore, spam messages are always changing, thus it might be challenging for my algorithm to identify variations and adaptations. Hackers and scammers adapt their spam messages to make them seem realistic to bypass AI model detection.\n",
        "\n",
        "Based on the existing data, my baseline model would be very basic and predict if the message is spam or not. For instance, our data shows that there were 747 spam mails and 4827 non-spam communications. In order to obtain an accuracy of 86.6%, my model would therefore always predict that the message is not spam. Additionally, I would check the message to see whether it contains any of the words I have hard-coded into my algorithm, and if it does, I would immediately designate the message as spam. I would reach an accuracy in the upper 80s with this combo, which is excellent for a baseline model. Then I may evaluate this model against my own. As opposed to this model, which is entirely guessing and uses little \"machine learning,\" my model ought to perform better. I would know that my model is not the greatest if it performed worse than this model. Any machine learning model can be compared to this baseline model as a reasonable benchmark."
      ],
      "metadata": {
        "id": "anW_UU08aO4Q"
      }
    },
    {
      "cell_type": "code",
      "source": [
        "%%shell\n",
        "jupyter nbconvert --to html '/content/drive/MyDrive/Colab Notebooks/APS360/Lab5 Spam Detection - Shadman Kaif.ipynb'"
      ],
      "metadata": {
        "colab": {
          "base_uri": "https://localhost:8080/"
        },
        "id": "WR8a627caPgc",
        "outputId": "f6c4b40e-c700-45d7-cf54-bdd334a8ad50"
      },
      "execution_count": 43,
      "outputs": [
        {
          "output_type": "stream",
          "name": "stdout",
          "text": [
            "[NbConvertApp] Converting notebook /content/drive/MyDrive/Colab Notebooks/APS360/Lab5 Spam Detection - Shadman Kaif.ipynb to html\n",
            "[NbConvertApp] Writing 603147 bytes to /content/drive/MyDrive/Colab Notebooks/APS360/Lab5 Spam Detection - Shadman Kaif.html\n"
          ]
        },
        {
          "output_type": "execute_result",
          "data": {
            "text/plain": []
          },
          "metadata": {},
          "execution_count": 43
        }
      ]
    }
  ],
  "metadata": {
    "colab": {
      "collapsed_sections": [],
      "provenance": []
    },
    "kernelspec": {
      "display_name": "Python 3 (ipykernel)",
      "language": "python",
      "name": "python3"
    },
    "language_info": {
      "codemirror_mode": {
        "name": "ipython",
        "version": 3
      },
      "file_extension": ".py",
      "mimetype": "text/x-python",
      "name": "python",
      "nbconvert_exporter": "python",
      "pygments_lexer": "ipython3",
      "version": "3.9.4"
    }
  },
  "nbformat": 4,
  "nbformat_minor": 0
}